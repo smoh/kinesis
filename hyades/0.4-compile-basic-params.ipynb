{
 "cells": [
  {
   "cell_type": "code",
   "execution_count": 30,
   "metadata": {},
   "outputs": [],
   "source": [
    "import astropy.coordinates as coord\n",
    "import astropy.units as u\n",
    "import numpy as np\n",
    "import pandas as pd"
   ]
  },
  {
   "cell_type": "code",
   "execution_count": 6,
   "metadata": {},
   "outputs": [
    {
     "name": "stderr",
     "output_type": "stream",
     "text": [
      "WARNING: AstropyDeprecationWarning: In v4.1 and later versions, the Galactocentric frame will adopt default parameters that may update with time. An updated default parameter set is already available through the astropy.coordinates.galactocentric_frame_defaults ScienceState object, as described in but the default is currently still set to the pre-v4.0 parameter defaults. The safest way to guard against changing default parameters in the future is to either (1) specify all Galactocentric frame attributes explicitly when using the frame, or (2) set the galactocentric_frame_defaults parameter set name explicitly. See http://docs.astropy.org/en/latest/coordinates/galactocentric.html for more information. [astropy.coordinates.builtin_frames.galactocentric]\n"
     ]
    }
   ],
   "source": [
    "# position and velocity in ICRS\n",
    "b0 = np.r_[ 17.268, 41.643, 13.606]*u.pc\n",
    "v0 = np.r_[-6.071, 45.685, 5.546]*u.km/u.s\n",
    "cl_icrs = coord.ICRS(\n",
    "    *b0, *v0, representation_type='cartesian',\n",
    "    differential_type='cartesian')\n",
    "cl_galactic = cl_icrs.transform_to(coord.Galactic)\n",
    "cl_galactocentric = cl_icrs.transform_to(coord.Galactocentric)"
   ]
  },
  {
   "cell_type": "code",
   "execution_count": 67,
   "metadata": {},
   "outputs": [],
   "source": [
    "pd.set_option('latex.repr', False)\n",
    "pd.set_option('latex.escape', False)"
   ]
  },
  {
   "cell_type": "code",
   "execution_count": 80,
   "metadata": {},
   "outputs": [
    {
     "name": "stdout",
     "output_type": "stream",
     "text": [
      "\n",
      ": boolean\n",
      "    use_inf_as_null had been deprecated and will be removed in a future\n",
      "    version. Use `use_inf_as_na` instead.\n",
      "\n"
     ]
    },
    {
     "name": "stderr",
     "output_type": "stream",
     "text": [
      "/home/soh/.conda/envs/nitro/lib/python3.7/site-packages/pandas/_config/config.py:622: FutureWarning: \n",
      ": boolean\n",
      "    use_inf_as_null had been deprecated and will be removed in a future\n",
      "    version. Use `use_inf_as_na` instead.\n",
      "\n",
      "  warnings.warn(d.msg, FutureWarning)\n"
     ]
    }
   ],
   "source": [
    "pd.reset_option('all')"
   ]
  },
  {
   "cell_type": "code",
   "execution_count": 147,
   "metadata": {},
   "outputs": [
    {
     "ename": "AttributeError",
     "evalue": "'str' object has no attribute 'decode'",
     "output_type": "error",
     "traceback": [
      "\u001b[0;31m---------------------------------------------------------------------------\u001b[0m",
      "\u001b[0;31mAttributeError\u001b[0m                            Traceback (most recent call last)",
      "\u001b[0;32m<ipython-input-147-925edd5b7c46>\u001b[0m in \u001b[0;36m<module>\u001b[0;34m\u001b[0m\n\u001b[0;32m----> 1\u001b[0;31m \u001b[0;34m'\\\\a'\u001b[0m\u001b[0;34m.\u001b[0m\u001b[0mdecode\u001b[0m\u001b[0;34m\u001b[0m\u001b[0;34m\u001b[0m\u001b[0m\n\u001b[0m",
      "\u001b[0;31mAttributeError\u001b[0m: 'str' object has no attribute 'decode'"
     ]
    }
   ],
   "source": [
    "'\\\\a'.decode"
   ]
  },
  {
   "cell_type": "code",
   "execution_count": 150,
   "metadata": {},
   "outputs": [
    {
     "name": "stderr",
     "output_type": "stream",
     "text": [
      "/home/soh/.conda/envs/nitro/lib/python3.7/site-packages/ipykernel_launcher.py:6: DeprecationWarning: invalid escape sequence '\\;'\n",
      "  \n"
     ]
    }
   ],
   "source": [
    "name_value = [\n",
    "    (\"xyz ICRS\", cl_icrs.cartesian.xyz,),\n",
    "    (\"vxyz ICRS\", cl_icrs.velocity,),\n",
    "    (\"xyz galactic\", cl_galactic.cartesian.xyz,),\n",
    "    (\"vxyz galactic\", cl_galactic.velocity,),\n",
    "    (\n",
    "        \"xyz galactocentric\",\n",
    "        cl_galactocentric.cartesian.xyz._repr_latex_()\n",
    "        .encode(\"utf-8\")\n",
    "        .decode(\"unicode_escape\"),\n",
    "    ),\n",
    "    (\"vxyz galactocentric\", cl_galactocentric.velocity,),\n",
    "    (\"assumed distance to galcen\", cl_galactocentric.galcen_distance,),\n",
    "    (\"assumed vsun galactocentric\", cl_galactocentric.galcen_v_sun,),\n",
    "    (\"assumed z_sun galactocentric\", cl_galactocentric.z_sun,),\n",
    "]\n",
    "tb = pd.DataFrame(name_value)"
   ]
  },
  {
   "cell_type": "code",
   "execution_count": 168,
   "metadata": {},
   "outputs": [
    {
     "data": {
      "text/html": [
       "<div>\n",
       "<style scoped>\n",
       "    .dataframe tbody tr th:only-of-type {\n",
       "        vertical-align: middle;\n",
       "    }\n",
       "\n",
       "    .dataframe tbody tr th {\n",
       "        vertical-align: top;\n",
       "    }\n",
       "\n",
       "    .dataframe thead th {\n",
       "        text-align: right;\n",
       "    }\n",
       "</style>\n",
       "<table border=\"1\" class=\"dataframe\">\n",
       "  <thead>\n",
       "    <tr style=\"text-align: right;\">\n",
       "      <th></th>\n",
       "      <th>0</th>\n",
       "      <th>1</th>\n",
       "    </tr>\n",
       "  </thead>\n",
       "  <tbody>\n",
       "    <tr>\n",
       "      <th>0</th>\n",
       "      <td>xyz ICRS</td>\n",
       "      <td>[17.268 pc, 41.643 pc, 13.606 pc]</td>\n",
       "    </tr>\n",
       "    <tr>\n",
       "      <th>1</th>\n",
       "      <td>vxyz ICRS</td>\n",
       "      <td>(-6.071, 45.685, 5.546) km / s</td>\n",
       "    </tr>\n",
       "    <tr>\n",
       "      <th>2</th>\n",
       "      <td>xyz galactic</td>\n",
       "      <td>[-43.903192023597796 pc, 0.17167727586492987 p...</td>\n",
       "    </tr>\n",
       "    <tr>\n",
       "      <th>3</th>\n",
       "      <td>vxyz galactic</td>\n",
       "      <td>(-42.25317092, -19.17902101, -1.25263012) km / s</td>\n",
       "    </tr>\n",
       "    <tr>\n",
       "      <th>4</th>\n",
       "      <td>xyz galactocentric</td>\n",
       "      <td>$[-8343.9144,~0.17174313,~10.115609] \\; \\mathr...</td>\n",
       "    </tr>\n",
       "    <tr>\n",
       "      <th>5</th>\n",
       "      <td>vxyz galactocentric</td>\n",
       "      <td>(-31.15703851, 213.06102013, 6.13473799) km / s</td>\n",
       "    </tr>\n",
       "    <tr>\n",
       "      <th>6</th>\n",
       "      <td>assumed distance to galcen</td>\n",
       "      <td>8.3 kpc</td>\n",
       "    </tr>\n",
       "    <tr>\n",
       "      <th>7</th>\n",
       "      <td>assumed vsun galactocentric</td>\n",
       "      <td>(11.1, 232.24, 7.25) km / s</td>\n",
       "    </tr>\n",
       "    <tr>\n",
       "      <th>8</th>\n",
       "      <td>assumed z_sun galactocentric</td>\n",
       "      <td>27.0 pc</td>\n",
       "    </tr>\n",
       "  </tbody>\n",
       "</table>\n",
       "</div>"
      ],
      "text/latex": [
       "\\begin{tabular}{lll}\n",
       "\\toprule\n",
       "{} &                             0 &                                                  1 \\\\\n",
       "\\midrule\n",
       "0 &                      xyz ICRS &                  [17.268 pc, 41.643 pc, 13.606 pc] \\\\\n",
       "1 &                     vxyz ICRS &                     (-6.071, 45.685, 5.546) km / s \\\\\n",
       "2 &                  xyz galactic &  [-43.903192023597796 pc, 0.17167727586492987 p... \\\\\n",
       "3 &                 vxyz galactic &   (-42.25317092, -19.17902101, -1.25263012) km / s \\\\\n",
       "4 &            xyz galactocentric &  \\$[-8343.9144,\\textasciitilde 0.17174313,\\textasciitilde 10.115609] \\textbackslash ; \\textbackslash mathr... \\\\\n",
       "5 &           vxyz galactocentric &    (-31.15703851, 213.06102013, 6.13473799) km / s \\\\\n",
       "6 &    assumed distance to galcen &                                            8.3 kpc \\\\\n",
       "7 &   assumed vsun galactocentric &                        (11.1, 232.24, 7.25) km / s \\\\\n",
       "8 &  assumed z\\_sun galactocentric &                                            27.0 pc \\\\\n",
       "\\bottomrule\n",
       "\\end{tabular}\n"
      ],
      "text/plain": [
       "                              0  \\\n",
       "0                      xyz ICRS   \n",
       "1                     vxyz ICRS   \n",
       "2                  xyz galactic   \n",
       "3                 vxyz galactic   \n",
       "4            xyz galactocentric   \n",
       "5           vxyz galactocentric   \n",
       "6    assumed distance to galcen   \n",
       "7   assumed vsun galactocentric   \n",
       "8  assumed z_sun galactocentric   \n",
       "\n",
       "                                                   1  \n",
       "0                  [17.268 pc, 41.643 pc, 13.606 pc]  \n",
       "1                     (-6.071, 45.685, 5.546) km / s  \n",
       "2  [-43.903192023597796 pc, 0.17167727586492987 p...  \n",
       "3   (-42.25317092, -19.17902101, -1.25263012) km / s  \n",
       "4  $[-8343.9144,~0.17174313,~10.115609] \\; \\mathr...  \n",
       "5    (-31.15703851, 213.06102013, 6.13473799) km / s  \n",
       "6                                            8.3 kpc  \n",
       "7                        (11.1, 232.24, 7.25) km / s  \n",
       "8                                            27.0 pc  "
      ]
     },
     "execution_count": 168,
     "metadata": {},
     "output_type": "execute_result"
    }
   ],
   "source": [
    "tb"
   ]
  },
  {
   "cell_type": "code",
   "execution_count": 152,
   "metadata": {},
   "outputs": [
    {
     "data": {
      "text/plain": [
       "'$[-8343.9144,~0.17174313,~10.115609] \\\\; \\\\mathrm{pc}$'"
      ]
     },
     "execution_count": 152,
     "metadata": {},
     "output_type": "execute_result"
    }
   ],
   "source": [
    "tb.loc[4,1]"
   ]
  },
  {
   "cell_type": "code",
   "execution_count": 144,
   "metadata": {},
   "outputs": [
    {
     "data": {
      "text/html": [
       "<div>\n",
       "<style scoped>\n",
       "    .dataframe tbody tr th:only-of-type {\n",
       "        vertical-align: middle;\n",
       "    }\n",
       "\n",
       "    .dataframe tbody tr th {\n",
       "        vertical-align: top;\n",
       "    }\n",
       "\n",
       "    .dataframe thead th {\n",
       "        text-align: right;\n",
       "    }\n",
       "</style>\n",
       "<table border=\"1\" class=\"dataframe\">\n",
       "  <thead>\n",
       "    <tr style=\"text-align: right;\">\n",
       "      <th></th>\n",
       "      <th>x</th>\n",
       "    </tr>\n",
       "  </thead>\n",
       "  <tbody>\n",
       "    <tr>\n",
       "      <th>0</th>\n",
       "      <td>$[-8343.9144,~0.17174313,~10.115609] \\; \\mathr...</td>\n",
       "    </tr>\n",
       "  </tbody>\n",
       "</table>\n",
       "</div>"
      ],
      "text/latex": [
       "\\begin{tabular}{ll}\n",
       "\\toprule\n",
       "{} &                                                  x \\\\\n",
       "\\midrule\n",
       "0 &  \\$[-8343.9144,\\textasciitilde 0.17174313,\\textasciitilde 10.115609] \\textbackslash ; \\textbackslash mathr... \\\\\n",
       "\\bottomrule\n",
       "\\end{tabular}\n"
      ],
      "text/plain": [
       "                                                   x\n",
       "0  $[-8343.9144,~0.17174313,~10.115609] \\; \\mathr..."
      ]
     },
     "execution_count": 144,
     "metadata": {},
     "output_type": "execute_result"
    }
   ],
   "source": [
    "pd.DataFrame(dict(x=[tb.loc[4,]))"
   ]
  },
  {
   "cell_type": "code",
   "execution_count": 21,
   "metadata": {},
   "outputs": [
    {
     "name": "stdout",
     "output_type": "stream",
     "text": [
      "[-43.90319202   0.17167728 -17.02723601] pc\n",
      "(-42.25317092, -19.17902101, -1.25263012) km / s\n"
     ]
    }
   ],
   "source": [
    "print(cl_galactic.cartesian.xyz)\n",
    "print(cl_galactic.velocity)"
   ]
  },
  {
   "cell_type": "code",
   "execution_count": 22,
   "metadata": {},
   "outputs": [
    {
     "name": "stdout",
     "output_type": "stream",
     "text": [
      "[-8.34391441e+03  1.71743125e-01  1.01156090e+01] pc\n",
      "(-31.15703851, 213.06102013, 6.13473799) km / s\n"
     ]
    }
   ],
   "source": [
    "print(cl_galactocentric.cartesian.xyz)\n",
    "print(cl_galactocentric.velocity)"
   ]
  },
  {
   "cell_type": "code",
   "execution_count": 26,
   "metadata": {},
   "outputs": [
    {
     "name": "stdout",
     "output_type": "stream",
     "text": [
      "d_galcen, v_sun, z_sun = 8.3 kpc (11.1, 232.24, 7.25) km / s 27.0 pc\n"
     ]
    }
   ],
   "source": [
    "print(\n",
    "    'd_galcen, v_sun, z_sun =',\n",
    "    cl_galactocentric.galcen_distance,\n",
    "    cl_galactocentric.galcen_v_sun,\n",
    "    cl_galactocentric.z_sun\n",
    ")"
   ]
  },
  {
   "cell_type": "code",
   "execution_count": 27,
   "metadata": {},
   "outputs": [
    {
     "data": {
      "text/latex": [
       "$27 \\; \\mathrm{pc}$"
      ],
      "text/plain": [
       "<Quantity 27. pc>"
      ]
     },
     "execution_count": 27,
     "metadata": {},
     "output_type": "execute_result"
    }
   ],
   "source": [
    "cl_galactocentric.z_sun"
   ]
  },
  {
   "cell_type": "code",
   "execution_count": 28,
   "metadata": {},
   "outputs": [
    {
     "data": {
      "text/plain": [
       "['_galcen_v_sun', '_z_sun', 'galcen_v_sun', 'z_sun']"
      ]
     },
     "execution_count": 28,
     "metadata": {},
     "output_type": "execute_result"
    }
   ],
   "source": [
    "list(filter(lambda x: 'sun' in x, dir(cl_galactocentric)))"
   ]
  },
  {
   "cell_type": "code",
   "execution_count": null,
   "metadata": {},
   "outputs": [],
   "source": []
  }
 ],
 "metadata": {
  "kernelspec": {
   "display_name": "Python 3",
   "language": "python",
   "name": "python3"
  },
  "language_info": {
   "codemirror_mode": {
    "name": "ipython",
    "version": 3
   },
   "file_extension": ".py",
   "mimetype": "text/x-python",
   "name": "python",
   "nbconvert_exporter": "python",
   "pygments_lexer": "ipython3",
   "version": "3.7.6"
  }
 },
 "nbformat": 4,
 "nbformat_minor": 4
}
