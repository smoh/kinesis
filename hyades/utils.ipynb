{
 "cells": [
  {
   "cell_type": "code",
   "execution_count": null,
   "metadata": {
    "Collapsed": "false"
   },
   "outputs": [],
   "source": [
    "'''Project utility functions and variables'''"
   ]
  },
  {
   "cell_type": "code",
   "execution_count": null,
   "metadata": {
    "Collapsed": "false"
   },
   "outputs": [],
   "source": [
    "# import numpy as np\n",
    "# import astropy.units as u\n",
    "# import astropy.coordinates as coord"
   ]
  },
  {
   "cell_type": "code",
   "execution_count": 6,
   "metadata": {},
   "outputs": [],
   "source": [
    "%matplotlib inline\n",
    "import numpy as np\n",
    "import matplotlib.pyplot as plt"
   ]
  },
  {
   "cell_type": "code",
   "execution_count": 97,
   "metadata": {
    "Collapsed": "false"
   },
   "outputs": [],
   "source": [
    "def plot_cov_ellipse(\n",
    "    cov, xaxis=0, yaxis=1, ax=None, n_std=3.0, center=(0, 0), facecolor=\"none\", **kwargs\n",
    "):\n",
    "    \"\"\"\n",
    "    Plot 2D covariance matrix as ellipse\n",
    "\n",
    "    Parameters\n",
    "    ----------\n",
    "    cov : array, (2,2)\n",
    "        covariance matrix\n",
    "        \n",
    "    xaxis, yaxis : int\n",
    "        axis to plot\n",
    "        \n",
    "    ax : matplotlib.axes.Axes\n",
    "        The axes object to draw the ellipse into.\n",
    "\n",
    "    n_std : float\n",
    "        The number of standard deviations to determine the ellipse size.\n",
    "\n",
    "    Returns\n",
    "    -------\n",
    "    matplotlib.patches.Ellipse\n",
    "\n",
    "    Other parameters\n",
    "    ----------------\n",
    "    kwargs : `~matplotlib.patches.Patch` properties\n",
    "    \"\"\"\n",
    "    from matplotlib.patches import Ellipse\n",
    "    import matplotlib.transforms as transforms\n",
    "    \n",
    "    # select 2-dim section of cov\n",
    "    sel = np.meshgrid([xaxis, yaxis], [xaxis, yaxis], indexing=\"ij\")\n",
    "    cov = cov[sel[0], sel[1]]\n",
    "    \n",
    "    if ax is None:\n",
    "        ax=plt.gca()\n",
    "\n",
    "    pearson = cov[0, 1] / np.sqrt(cov[0, 0] * cov[1, 1])\n",
    "    # Using a special case to obtain the eigenvalues of this\n",
    "    # two-dimensionl dataset.\n",
    "    ell_radius_x = np.sqrt(1 + pearson)\n",
    "    ell_radius_y = np.sqrt(1 - pearson)\n",
    "    ellipse = Ellipse(\n",
    "        (0, 0),\n",
    "        width=ell_radius_x * 2,\n",
    "        height=ell_radius_y * 2,\n",
    "        facecolor=facecolor,\n",
    "        **kwargs\n",
    "    )\n",
    "\n",
    "    # Calculating the stdandard deviation of x from\n",
    "    # the squareroot of the variance and multiplying\n",
    "    # with the given number of standard deviations.\n",
    "    scale_x = np.sqrt(cov[0, 0]) * n_std\n",
    "    mean_x = center[0]\n",
    "\n",
    "    # calculating the stdandard deviation of y ...\n",
    "    scale_y = np.sqrt(cov[1, 1]) * n_std\n",
    "    mean_y = center[1]\n",
    "\n",
    "    transf = (\n",
    "        transforms.Affine2D()\n",
    "        .rotate_deg(45)\n",
    "        .scale(scale_x, scale_y)\n",
    "        .translate(mean_x, mean_y)\n",
    "    )\n",
    "\n",
    "    ellipse.set_transform(transf + ax.transData)\n",
    "    return ax.add_patch(ellipse)"
   ]
  },
  {
   "cell_type": "code",
   "execution_count": 96,
   "metadata": {},
   "outputs": [
    {
     "name": "stdout",
     "output_type": "stream",
     "text": [
      "[[1.32420229 0.86248557 0.95558147 1.17670708 0.74264413]\n",
      " [0.86248557 1.29115632 0.58657055 0.97948977 0.39763967]\n",
      " [0.95558147 0.58657055 0.88669269 1.01254197 0.72684109]\n",
      " [1.17670708 0.97948977 1.01254197 1.66584398 0.71705296]\n",
      " [0.74264413 0.39763967 0.72684109 0.71705296 1.06826132]]\n"
     ]
    },
    {
     "data": {
      "image/png": "[encoded data removed]",
      "text/plain": [
       "<Figure size 432x288 with 1 Axes>"
      ]
     },
     "metadata": {
      "needs_background": "light"
     },
     "output_type": "display_data"
    }
   ],
   "source": [
    "# from scipy import random\n",
    "# A = random.rand(5,5)\n",
    "# B = np.dot(A,A.transpose())\n",
    "# print(B)\n",
    "# fig, ax = plt.subplots()\n",
    "# plot_cov_ellipse(B, xaxis=3,yaxis=2, ax=ax, lw=2, n_std=1, edgecolor='k',)\n",
    "# ax.set(xlim=(-2,2),ylim=(-2,2),aspect=1);"
   ]
  },
  {
   "cell_type": "code",
   "execution_count": null,
   "metadata": {
    "Collapsed": "false"
   },
   "outputs": [],
   "source": [
    "def plot_T_icrs(fit, fig=None):\n",
    "    \"\"\"Plot 3x3 grid of each component of T = dv/dx\n",
    "    \n",
    "    fit : StanFit\n",
    "        fit object\n",
    "    \"\"\"\n",
    "    if fig:\n",
    "        ax = fig.axes\n",
    "    else:\n",
    "        fig, ax = plt.subplots(3, 3, figsize=(6, 5), sharex=True, sharey=True)\n",
    "        fig.subplots_adjust(\n",
    "            bottom=0.15, top=0.92, right=0.95, left=0.1, hspace=0.05, wspace=0.05\n",
    "        )\n",
    "        ax = ax.ravel()\n",
    "    for cax, cT in zip(ax, fit[\"T_param\"].reshape((-1, 9)).T):\n",
    "        #     cax.hist(cT, bins=32, density=True, histtype=\"step\")\n",
    "        sns.distplot(cT, hist=False, ax=cax, kde_kws={'lw':1})\n",
    "        cax.axvline(0, c=\"gray\", lw=0.5)\n",
    "    fig.text(0.55, 0.05, \"m/s/pc\", ha=\"center\", va=\"center\", size=20)\n",
    "    fig.text(0.05, 0.55, \"Density\", ha=\"center\", va=\"center\", rotation=90, size=20)\n",
    "    for cax in ax:\n",
    "        cax.yaxis.set_major_formatter(ticker.NullFormatter())\n",
    "    for cax in ax:\n",
    "        cax.set_xticks([-50, 0, 50])\n",
    "    fig.suptitle(\"$T$ (ICRS)\", size=20)\n",
    "    return fig"
   ]
  },
  {
   "cell_type": "code",
   "execution_count": null,
   "metadata": {
    "Collapsed": "false"
   },
   "outputs": [],
   "source": [
    "def plot_omegas(fit):\n",
    "    \"\"\"Plot rotational component of T\n",
    "    \"\"\"\n",
    "    wT = decompose_T(fit[\"T_param\"])\n",
    "    fig, ax = plt.subplots(figsize=(4,4))\n",
    "    sns.distplot(wT[\"omegax\"], hist=False, kde_kws={'lw':1}, label=r'$\\omega_x$')\n",
    "    sns.distplot(wT[\"omegay\"], hist=False, kde_kws={'lw':1}, label=r'$\\omega_y$')\n",
    "    sns.distplot(wT[\"omegaz\"], hist=False, kde_kws={'lw':1}, label=r'$\\omega_z$')\n",
    "    omega = np.sqrt(wT[\"omegax\"] ** 2 + wT[\"omegay\"] ** 2 + wT[\"omegaz\"] ** 2)\n",
    "    print(f\"omega = {np.mean(omega)} +- {np.std(omega)}\")\n",
    "    sns.distplot(omega, hist=False, color='k', label=r'$\\omega$')\n",
    "    ax.axvline(0, c='k', lw=1)\n",
    "    ax.legend(fontsize=14)\n",
    "    ax.set_xlabel(r'$\\rm m\\,\\rm s^{-1}\\,\\rm pc^{-1}$');\n",
    "    return fig"
   ]
  },
  {
   "cell_type": "code",
   "execution_count": null,
   "metadata": {
    "Collapsed": "false"
   },
   "outputs": [],
   "source": [
    "def plot_omegas_galactic(fit):\n",
    "    \"\"\"Plot rotational component of T\n",
    "    \"\"\"\n",
    "    wT = decompose_T(rotate_T_to_galactic(fit[\"T_param\"]))\n",
    "    fig, ax = plt.subplots(figsize=(4,4))\n",
    "    sns.distplot(wT[\"omegax\"], hist=False, kde_kws={'lw':1}, label=r'$\\omega_x$')\n",
    "    sns.distplot(wT[\"omegay\"], hist=False, kde_kws={'lw':1}, label=r'$\\omega_y$')\n",
    "    sns.distplot(wT[\"omegaz\"], hist=False, kde_kws={'lw':1}, label=r'$\\omega_z$')\n",
    "    omega = np.sqrt(wT[\"omegax\"] ** 2 + wT[\"omegay\"] ** 2 + wT[\"omegaz\"] ** 2)\n",
    "    print(f\"omega = {np.mean(omega)} +- {np.std(omega)}\")\n",
    "    sns.distplot(omega, hist=False, color='k', label=r'$\\omega$')\n",
    "    ax.axvline(0, c='k', lw=1)\n",
    "    ax.legend(fontsize=14)\n",
    "    ax.set_xlabel(r'$\\rm m\\,\\rm s^{-1}\\,\\rm pc^{-1}$');\n",
    "    return fig"
   ]
  },
  {
   "cell_type": "code",
   "execution_count": null,
   "metadata": {
    "Collapsed": "false"
   },
   "outputs": [],
   "source": [
    "def plot_T_galactic(fit, fig=None, color=None):\n",
    "    \"\"\"Plot 3x3 grid of each component of T = dv/dx\n",
    "    \n",
    "    fit : StanFit\n",
    "        fit object\n",
    "    \"\"\"\n",
    "    if fig:\n",
    "        ax = fig.axes\n",
    "    else:\n",
    "        fig, ax = plt.subplots(3, 3, figsize=(6, 5), sharex=True, sharey=True)\n",
    "        fig.subplots_adjust(\n",
    "            bottom=0.15, top=0.92, right=0.95, left=0.1, hspace=0.05, wspace=0.05\n",
    "        )\n",
    "        ax = ax.ravel()\n",
    "    for cax, cT in zip(ax, rotate_T_to_galactic(fit[\"T_param\"]).reshape((-1, 9)).T):\n",
    "        #     cax.hist(cT, bins=32, density=True, histtype=\"step\")\n",
    "        sns.distplot(cT, hist=False, ax=cax, kde_kws={'lw':1}, color=color)\n",
    "        cax.axvline(0, c=\"gray\", lw=0.5)\n",
    "    fig.text(0.55, 0.05, \"m/s/pc\", ha=\"center\", va=\"center\", size=20)\n",
    "    fig.text(0.05, 0.55, \"Density\", ha=\"center\", va=\"center\", rotation=90, size=20)\n",
    "    for cax in ax:\n",
    "        cax.yaxis.set_major_formatter(ticker.NullFormatter())\n",
    "    for cax in ax:\n",
    "        cax.set_xticks([-50, 0, 50])\n",
    "    fig.suptitle(\"$T$ (galactic)\", size=20)\n",
    "    return fig"
   ]
  },
  {
   "cell_type": "code",
   "execution_count": null,
   "metadata": {
    "Collapsed": "false"
   },
   "outputs": [],
   "source": [
    "def add_transformed_posterior(azfit):\n",
    "    '''Add transformed posterior samples for convenience\n",
    "    \n",
    "    Added parameters:\n",
    "        - Sigma: velocity dispersion matrix, (3,3)\n",
    "        - omegax, omegay, omegaz, w1, w1, w2, w3, w5, kappa: decomposed linear velocity field parameters\n",
    "        - *_gal: quantities rotated to the Galactic frame\n",
    "    '''\n",
    "    v = azfit\n",
    "\n",
    "    for ck, cv in kn.decompose_T(v.posterior['T_param']).items():\n",
    "        v.posterior[ck]=cv\n",
    "    # Combine scale and correlation matrix of Sigma to variance matrix\n",
    "    sigv_samples, Omega_samples = v.posterior['sigv'],  v.posterior['Omega']\n",
    "    Sigma_samples = np.einsum('cni,cnij,cnj->cnij', sigv_samples, Omega_samples, sigv_samples)\n",
    "    v.posterior['Sigma'] = ('chain','draw','Sigma_dim_0','Sigma_dim_1'), Sigma_samples\n",
    "    v.posterior['Sigma_gal'] = ('chain','draw','Sigma_dim_0','Sigma_dim_1'), kn.rotate_T_to_galactic(Sigma_samples)\n",
    "    # Add rotated T matrix and decomposition\n",
    "    v.posterior['T_param_gal'] = ('chain','draw','dim0','dim1'), kn.rotate_T_to_galactic(v.posterior['T_param'])\n",
    "    for ck, cv in kn.decompose_T(v.posterior['T_param_gal']).items():\n",
    "        v.posterior[ck+'_gal']  = cv\n",
    "    return v"
   ]
  }
 ],
 "metadata": {
  "kernelspec": {
   "display_name": "Python 3",
   "language": "python",
   "name": "python3"
  },
  "language_info": {
   "codemirror_mode": {
    "name": "ipython",
    "version": 3
   },
   "file_extension": ".py",
   "mimetype": "text/x-python",
   "name": "python",
   "nbconvert_exporter": "python",
   "pygments_lexer": "ipython3",
   "version": "3.7.6"
  }
 },
 "nbformat": 4,
 "nbformat_minor": 4
}
