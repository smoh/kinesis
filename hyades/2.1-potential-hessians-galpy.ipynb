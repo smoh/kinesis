{
 "cells": [
  {
   "cell_type": "code",
   "execution_count": 1,
   "metadata": {},
   "outputs": [],
   "source": [
    "import numpy as np\n",
    "import matplotlib.pyplot as plt\n",
    "import pandas as pd\n",
    "\n",
    "import astropy.units as u\n",
    "import astropy.coordinates as coord\n",
    "from astropy.table import Table\n",
    "\n",
    "import gapipes as gp"
   ]
  },
  {
   "cell_type": "code",
   "execution_count": 2,
   "metadata": {},
   "outputs": [],
   "source": [
    "from galpy.potential import MWPotential2014, MiyamotoNagaiPotential\n",
    "from galpy.util import bovy_conversion"
   ]
  },
  {
   "cell_type": "code",
   "execution_count": 3,
   "metadata": {},
   "outputs": [
    {
     "data": {
      "text/plain": [
       "[<galpy.potential.PowerSphericalPotentialwCutoff.PowerSphericalPotentialwCutoff at 0x7fb890670dd0>,\n",
       " <galpy.potential.MiyamotoNagaiPotential.MiyamotoNagaiPotential at 0x7fb7928e8750>,\n",
       " <galpy.potential.TwoPowerSphericalPotential.NFWPotential at 0x7fb7928e8790>]"
      ]
     },
     "execution_count": 3,
     "metadata": {},
     "output_type": "execute_result"
    }
   ],
   "source": [
    "MWPotential2014"
   ]
  },
  {
   "cell_type": "code",
   "execution_count": 2,
   "metadata": {},
   "outputs": [
    {
     "data": {
      "text/plain": [
       "-1.2889062500000001"
      ]
     },
     "execution_count": 2,
     "metadata": {},
     "output_type": "execute_result"
    }
   ],
   "source": [
    "mp= MiyamotoNagaiPotential(a=0.5,b=0.0375,normalize=1.)\n",
    "mp(1.,0.)"
   ]
  },
  {
   "cell_type": "code",
   "execution_count": 30,
   "metadata": {},
   "outputs": [],
   "source": [
    "p0 = MWPotential2014[1]"
   ]
  },
  {
   "cell_type": "code",
   "execution_count": 38,
   "metadata": {},
   "outputs": [
    {
     "data": {
      "text/plain": [
       "(0.375, 0.035, 8.0, 220.0, 0.7574802019371595)"
      ]
     },
     "execution_count": 38,
     "metadata": {},
     "output_type": "execute_result"
    }
   ],
   "source": [
    "p0._a, p0._b, p0._ro, p0._vo, p0._amp"
   ]
  },
  {
   "cell_type": "markdown",
   "metadata": {},
   "source": [
    "Galpy uses left-handed coordinate system:\n",
    "- x away from galactic center\n",
    "- y in galactic rotational direction\n",
    "- z to north of galactic plane"
   ]
  },
  {
   "cell_type": "code",
   "execution_count": 19,
   "metadata": {},
   "outputs": [
    {
     "name": "stdout",
     "output_type": "stream",
     "text": [
      "[[ 0.08950485 -0.          0.00161767]\n",
      " [-0.         -0.04476217 -0.        ]\n",
      " [ 0.00161767 -0.         -0.04474268]]\n",
      "[ 0.08952434 -0.04476217 -0.04476217]\n",
      "[[ 0.86623269 -0.          0.18848691]\n",
      " [-0.         -0.54443309 -0.        ]\n",
      " [ 0.18848691 -0.         -5.39120516]]\n",
      "[ 0.87190516 -5.39687763 -0.54443309]\n",
      "[[ 0.15625692 -0.          0.00587758]\n",
      " [-0.         -0.33158201 -0.        ]\n",
      " [ 0.00587758 -0.         -0.33151119]]\n",
      "[ 0.15632773 -0.33158201 -0.33158201]\n"
     ]
    }
   ],
   "source": [
    "for p in MWPotential2014:\n",
    "    print(p.ttensor(8.3/8, 0.10/8))\n",
    "    print(p.ttensor(8.3/8, 0.10/8,eigenval=True))"
   ]
  },
  {
   "cell_type": "code",
   "execution_count": 5,
   "metadata": {},
   "outputs": [],
   "source": [
    "from functools import reduce\n",
    "ttensor_sum = reduce(np.add, [p.ttensor(8.3/8, 0.10/8) for p in MWPotential2014])"
   ]
  },
  {
   "cell_type": "code",
   "execution_count": 16,
   "metadata": {},
   "outputs": [
    {
     "data": {
      "text/plain": [
       "[(220.0, 8.0), (220.0, 8.0), (220.0, 8.0)]"
      ]
     },
     "execution_count": 16,
     "metadata": {},
     "output_type": "execute_result"
    }
   ],
   "source": [
    "list(map(lambda x: (x._vo, x._ro), MWPotential2014))"
   ]
  },
  {
   "cell_type": "code",
   "execution_count": 24,
   "metadata": {},
   "outputs": [],
   "source": [
    "timeunit = (bovy_conversion.time_in_Gyr(220, 8)*u.Gyr).to(u.Myr)"
   ]
  },
  {
   "cell_type": "code",
   "execution_count": 18,
   "metadata": {},
   "outputs": [
    {
     "data": {
      "text/latex": [
       "$33.71806 \\; \\mathrm{Myr}$"
      ],
      "text/plain": [
       "<Quantity 33.71805959 Myr>"
      ]
     },
     "execution_count": 18,
     "metadata": {},
     "output_type": "execute_result"
    }
   ],
   "source": [
    "np.sqrt(1/np.abs(ttensor_sum[0,0]))*timeunit.to(u.Myr)"
   ]
  },
  {
   "cell_type": "code",
   "execution_count": 35,
   "metadata": {},
   "outputs": [
    {
     "name": "stdout",
     "output_type": "stream",
     "text": [
      "[[ True  True  True]\n",
      " [ True  True  True]\n",
      " [ True  True  True]]\n",
      "[[ True  True  True]\n",
      " [ True  True  True]\n",
      " [ True  True  True]]\n"
     ]
    }
   ],
   "source": [
    "ttensors = [p.ttensor(8.3/8, 0.10/8) for p in MWPotential2014]\n",
    "\n",
    "print(np.abs(ttensors[0])<=np.abs(ttensors[1]))\n",
    "print(np.abs(ttensors[2])<=np.abs(ttensors[1]))"
   ]
  },
  {
   "cell_type": "code",
   "execution_count": 38,
   "metadata": {},
   "outputs": [
    {
     "data": {
      "text/plain": [
       "array([[ 0.86623269, -0.        ,  0.18848691],\n",
       "       [-0.        , -0.54443309, -0.        ],\n",
       "       [ 0.18848691, -0.        , -5.39120516]])"
      ]
     },
     "execution_count": 38,
     "metadata": {},
     "output_type": "execute_result"
    }
   ],
   "source": [
    "ttensors[1]"
   ]
  },
  {
   "cell_type": "code",
   "execution_count": 45,
   "metadata": {},
   "outputs": [
    {
     "data": {
      "text/plain": [
       "(<Quantity 38.20292365 Myr>, <Quantity 81.89799931 Myr>)"
      ]
     },
     "execution_count": 45,
     "metadata": {},
     "output_type": "execute_result"
    }
   ],
   "source": [
    "np.sqrt(1/ttensors[1][0,0])*timeunit,np.sqrt(1/ttensors[1][0,2])*timeunit"
   ]
  },
  {
   "cell_type": "code",
   "execution_count": 44,
   "metadata": {},
   "outputs": [
    {
     "data": {
      "text/latex": [
       "$[38.202924,~48.188302,~15.313376] \\; \\mathrm{Myr}$"
      ],
      "text/plain": [
       "<Quantity [38.20292365, 48.18830245, 15.3133763 ] Myr>"
      ]
     },
     "execution_count": 44,
     "metadata": {},
     "output_type": "execute_result"
    }
   ],
   "source": [
    "np.sqrt(1/np.abs(ttensors[1][[0,1,2],[0,1,2]]))*timeunit"
   ]
  },
  {
   "cell_type": "code",
   "execution_count": 41,
   "metadata": {},
   "outputs": [
    {
     "data": {
      "text/latex": [
       "$26.426817 \\; \\mathrm{Myr}$"
      ],
      "text/plain": [
       "<Quantity 26.4268168 Myr>"
      ]
     },
     "execution_count": 41,
     "metadata": {},
     "output_type": "execute_result"
    }
   ],
   "source": [
    "(1./(37*u.km/u.s/u.kpc)).to(u.Myr)"
   ]
  },
  {
   "cell_type": "code",
   "execution_count": 128,
   "metadata": {},
   "outputs": [
    {
     "name": "stdout",
     "output_type": "stream",
     "text": [
      "16.296537027885474 Myr\n",
      "108.79835405686674 Myr\n"
     ]
    }
   ],
   "source": [
    "tcross = 5 *u.pc / (0.3 * u.km/u.s)\n",
    "print(tcross.to(u.Myr))\n",
    "N = 400\n",
    "trelax = (0.1 * N / np.log(N) * tcross).to(u.Myr)\n",
    "print(trelax)"
   ]
  }
 ],
 "metadata": {
  "kernelspec": {
   "display_name": "Python 3",
   "language": "python",
   "name": "python3"
  },
  "language_info": {
   "codemirror_mode": {
    "name": "ipython",
    "version": 3
   },
   "file_extension": ".py",
   "mimetype": "text/x-python",
   "name": "python",
   "nbconvert_exporter": "python",
   "pygments_lexer": "ipython3",
   "version": "3.7.6"
  }
 },
 "nbformat": 4,
 "nbformat_minor": 4
}
