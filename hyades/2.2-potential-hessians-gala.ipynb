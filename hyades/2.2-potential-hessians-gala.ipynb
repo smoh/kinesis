{
 "cells": [
  {
   "cell_type": "code",
   "execution_count": 1,
   "metadata": {},
   "outputs": [
    {
     "ename": "ModuleNotFoundError",
     "evalue": "No module named 'gala'",
     "output_type": "error",
     "traceback": [
      "\u001b[0;31m---------------------------------------------------------------------------\u001b[0m",
      "\u001b[0;31mModuleNotFoundError\u001b[0m                       Traceback (most recent call last)",
      "\u001b[0;32m<ipython-input-1-e6ec2474f553>\u001b[0m in \u001b[0;36m<module>\u001b[0;34m\u001b[0m\n\u001b[1;32m      1\u001b[0m \u001b[0;32mimport\u001b[0m \u001b[0mnumpy\u001b[0m \u001b[0;32mas\u001b[0m \u001b[0mnp\u001b[0m\u001b[0;34m\u001b[0m\u001b[0;34m\u001b[0m\u001b[0m\n\u001b[1;32m      2\u001b[0m \u001b[0;32mimport\u001b[0m \u001b[0mastropy\u001b[0m\u001b[0;34m.\u001b[0m\u001b[0munits\u001b[0m \u001b[0;32mas\u001b[0m \u001b[0mu\u001b[0m\u001b[0;34m\u001b[0m\u001b[0;34m\u001b[0m\u001b[0m\n\u001b[0;32m----> 3\u001b[0;31m \u001b[0;32mfrom\u001b[0m \u001b[0mgala\u001b[0m\u001b[0;34m.\u001b[0m\u001b[0mpotential\u001b[0m \u001b[0;32mimport\u001b[0m \u001b[0mMiyamotoNagaiPotential\u001b[0m\u001b[0;34m\u001b[0m\u001b[0;34m\u001b[0m\u001b[0m\n\u001b[0m",
      "\u001b[0;31mModuleNotFoundError\u001b[0m: No module named 'gala'"
     ]
    }
   ],
   "source": [
    "import numpy as np\n",
    "import astropy.units as u\n",
    "from gala.potential import MiyamotoNagaiPotential"
   ]
  },
  {
   "cell_type": "code",
   "execution_count": 42,
   "metadata": {},
   "outputs": [],
   "source": [
    "import gala.potential as gp\n",
    "import gala.dynamics as gd"
   ]
  },
  {
   "cell_type": "code",
   "execution_count": 41,
   "metadata": {},
   "outputs": [],
   "source": [
    "potential = gp.MilkyWayPotential()"
   ]
  },
  {
   "cell_type": "code",
   "execution_count": 43,
   "metadata": {},
   "outputs": [],
   "source": [
    "w0 = gd.PhaseSpacePosition([8,0,-.016]*u.kpc, vel=[0,220,-1.18]*u.km/u.s)"
   ]
  },
  {
   "cell_type": "code",
   "execution_count": 44,
   "metadata": {},
   "outputs": [
    {
     "name": "stderr",
     "output_type": "stream",
     "text": [
      "/home/soh/.conda/envs/matrix/lib/python3.7/importlib/_bootstrap.py:219: RuntimeWarning: numpy.dtype size changed, may indicate binary incompatibility. Expected 96, got 88\n",
      "  return f(*args, **kwds)\n",
      "/home/soh/.conda/envs/matrix/lib/python3.7/importlib/_bootstrap.py:219: RuntimeWarning: numpy.ufunc size changed, may indicate binary incompatibility. Expected 216, got 192\n",
      "  return f(*args, **kwds)\n"
     ]
    }
   ],
   "source": [
    "orbit = potential.integrate_orbit(w0, dt=-0.5*u.Myr, n_steps=10000)"
   ]
  },
  {
   "cell_type": "code",
   "execution_count": 48,
   "metadata": {},
   "outputs": [],
   "source": [
    "%matplotlib inline\n",
    "import matplotlib.pyplot as plt"
   ]
  },
  {
   "cell_type": "code",
   "execution_count": 51,
   "metadata": {},
   "outputs": [
    {
     "data": {
      "text/latex": [
       "$0.022443934 \\; \\mathrm{kpc}$"
      ],
      "text/plain": [
       "<Quantity 0.02244393 kpc>"
      ]
     },
     "execution_count": 51,
     "metadata": {},
     "output_type": "execute_result"
    }
   ],
   "source": [
    "orbit.z.max()"
   ]
  },
  {
   "cell_type": "code",
   "execution_count": 52,
   "metadata": {},
   "outputs": [],
   "source": [
    " from gala.potential import MilkyWayPotential\n",
    "pot = MilkyWayPotential(halo=dict(c=1.)) # make it spherical\n",
    "a=pot.hessian([8, 0., .1] * u.kpc)[[0,1,2],[0,1,2],0]"
   ]
  },
  {
   "cell_type": "code",
   "execution_count": 53,
   "metadata": {},
   "outputs": [
    {
     "data": {
      "text/latex": [
       "$[-0.00071674579,~0.00044476777,~0.0046467703] \\; \\mathrm{\\frac{1}{Myr^{2}}}$"
      ],
      "text/plain": [
       "<Quantity [-0.00071675,  0.00044477,  0.00464677] 1 / Myr2>"
      ]
     },
     "execution_count": 53,
     "metadata": {},
     "output_type": "execute_result"
    }
   ],
   "source": [
    "a"
   ]
  },
  {
   "cell_type": "code",
   "execution_count": 59,
   "metadata": {},
   "outputs": [
    {
     "data": {
      "text/latex": [
       "$3.2593074 \\; \\mathrm{Myr}$"
      ],
      "text/plain": [
       "<Quantity 3.25930741 Myr>"
      ]
     },
     "execution_count": 59,
     "metadata": {},
     "output_type": "execute_result"
    }
   ],
   "source": [
    "(1*u.pc/(.3*u.km/u.s)).to(u.Myr)"
   ]
  },
  {
   "cell_type": "code",
   "execution_count": 57,
   "metadata": {},
   "outputs": [
    {
     "data": {
      "text/latex": [
       "$[37.352306,~47.416921,~14.669807] \\; \\mathrm{Myr}$"
      ],
      "text/plain": [
       "<Quantity [37.3523065 , 47.41692058, 14.66980698] Myr>"
      ]
     },
     "execution_count": 57,
     "metadata": {},
     "output_type": "execute_result"
    }
   ],
   "source": [
    "1./np.sqrt(np.abs(a))"
   ]
  },
  {
   "cell_type": "code",
   "execution_count": 54,
   "metadata": {},
   "outputs": [
    {
     "data": {
      "text/latex": [
       "$[26.177559,~-20.621167,~-66.65338] \\; \\mathrm{\\frac{m}{pc\\,s}}$"
      ],
      "text/plain": [
       "<Quantity [ 26.17755939, -20.62116666, -66.65338018] m / (pc s)>"
      ]
     },
     "execution_count": 54,
     "metadata": {},
     "output_type": "execute_result"
    }
   ],
   "source": [
    "-np.sign(a) * np.sqrt(np.abs(a)).to(u.m/u.s/u.pc)"
   ]
  },
  {
   "cell_type": "code",
   "execution_count": 13,
   "metadata": {},
   "outputs": [
    {
     "name": "stdout",
     "output_type": "stream",
     "text": [
      "[[-9.07236430e-001  0.00000000e+000 -9.04140132e-322]\n",
      " [ 0.00000000e+000  6.83389034e-001  0.00000000e+000]\n",
      " [-9.04140132e-322  0.00000000e+000  9.79524282e+000]]\n"
     ]
    }
   ],
   "source": [
    "print(MiyamotoNagaiPotential(1, a=0.5,b=0.0375).hessian([1,0,0])[:,:,0])"
   ]
  },
  {
   "cell_type": "code",
   "execution_count": 12,
   "metadata": {},
   "outputs": [
    {
     "data": {
      "text/plain": [
       "\u001b[0;31mInit signature:\u001b[0m \u001b[0mMiyamotoNagaiPotential\u001b[0m\u001b[0;34m(\u001b[0m\u001b[0mm\u001b[0m\u001b[0;34m,\u001b[0m \u001b[0ma\u001b[0m\u001b[0;34m,\u001b[0m \u001b[0mb\u001b[0m\u001b[0;34m,\u001b[0m \u001b[0munits\u001b[0m\u001b[0;34m=\u001b[0m\u001b[0;32mNone\u001b[0m\u001b[0;34m,\u001b[0m \u001b[0morigin\u001b[0m\u001b[0;34m=\u001b[0m\u001b[0;32mNone\u001b[0m\u001b[0;34m,\u001b[0m \u001b[0mR\u001b[0m\u001b[0;34m=\u001b[0m\u001b[0;32mNone\u001b[0m\u001b[0;34m)\u001b[0m\u001b[0;34m\u001b[0m\u001b[0;34m\u001b[0m\u001b[0m\n",
       "\u001b[0;31mDocstring:\u001b[0m     \n",
       "MiyamotoNagaiPotential(m, a, b, units=None, origin=None, R=None)\n",
       "\n",
       "Miyamoto-Nagai potential for a flattened mass distribution.\n",
       "\n",
       "See: http://adsabs.harvard.edu/abs/1975PASJ...27..533M\n",
       "\n",
       "Parameters\n",
       "----------\n",
       "m : :class:`~astropy.units.Quantity`, numeric [mass]\n",
       "    Mass.\n",
       "a : :class:`~astropy.units.Quantity`, numeric [length]\n",
       "    Scale length.\n",
       "b : :class:`~astropy.units.Quantity`, numeric [length]\n",
       "    Scare height.\n",
       "units : `~gala.units.UnitSystem` (optional)\n",
       "    Set of non-reducable units that specify (at minimum) the\n",
       "    length, mass, time, and angle units.\n",
       "origin : `~astropy.units.Quantity` (optional)\n",
       "    The origin of the potential, the default being 0.\n",
       "R : `~scipy.spatial.transform.Rotation`, array_like (optional)\n",
       "    A Scipy ``Rotation`` object or an array representing a rotation matrix\n",
       "    that specifies a rotation of the potential. This is applied *after* the\n",
       "    origin shift. Default is the identity matrix.\n",
       "\u001b[0;31mFile:\u001b[0m           ~/.conda/envs/matrix/lib/python3.7/site-packages/gala/potential/potential/builtin/cybuiltin.cpython-37m-x86_64-linux-gnu.so\n",
       "\u001b[0;31mType:\u001b[0m           ABCMeta\n",
       "\u001b[0;31mSubclasses:\u001b[0m     \n"
      ]
     },
     "metadata": {},
     "output_type": "display_data"
    }
   ],
   "source": []
  },
  {
   "cell_type": "code",
   "execution_count": null,
   "metadata": {},
   "outputs": [],
   "source": []
  }
 ],
 "metadata": {
  "kernelspec": {
   "display_name": "Python 3",
   "language": "python",
   "name": "python3"
  },
  "language_info": {
   "codemirror_mode": {
    "name": "ipython",
    "version": 3
   },
   "file_extension": ".py",
   "mimetype": "text/x-python",
   "name": "python",
   "nbconvert_exporter": "python",
   "pygments_lexer": "ipython3",
   "version": "3.7.6"
  }
 },
 "nbformat": 4,
 "nbformat_minor": 4
}
