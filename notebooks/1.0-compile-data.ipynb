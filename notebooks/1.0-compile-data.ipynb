{
 "cells": [
  {
   "cell_type": "code",
   "execution_count": 1,
   "metadata": {
    "Collapsed": "false",
    "tags": [
     "setup"
    ]
   },
   "outputs": [],
   "source": [
    "%matplotlib inline\n",
    "import matplotlib.pyplot as plt\n",
    "from matplotlib import colors, ticker\n",
    "import cartopy.crs as ccrs\n",
    "\n",
    "import pandas as pd\n",
    "import numpy as np\n",
    "import scipy as sp\n",
    "from astropy.table import Table\n",
    "import astropy.units as u\n",
    "import astropy.coordinates as coord\n",
    "import arviz as az\n",
    "import seaborn as sns\n",
    "\n",
    "import kinesis as kn\n",
    "import gapipes as gp"
   ]
  },
  {
   "cell_type": "code",
   "execution_count": 2,
   "metadata": {
    "Collapsed": "false",
    "tags": [
     "setup"
    ]
   },
   "outputs": [],
   "source": [
    "plt.style.use(\"smoh\")"
   ]
  },
  {
   "cell_type": "markdown",
   "metadata": {
    "Collapsed": "false"
   },
   "source": [
    "We consider\n",
    "- astrometry:\n",
    "    * Gaia DR2\n",
    "    * Hipparcos-Gaia\n",
    "- radial velocity:\n",
    "    * Gaia DR2\n",
    "    * HARPS\n",
    "- membership:\n",
    "    * Léao 2019 = Lindegren 2000 + outlier rejection\n",
    "    * Gaia collab.\n",
    "    * Röser 2019 (tails)\n",
    "    * Meingast 2019 (tails)"
   ]
  },
  {
   "cell_type": "code",
   "execution_count": 3,
   "metadata": {
    "Collapsed": "false",
    "tags": [
     "data"
    ]
   },
   "outputs": [
    {
     "name": "stdout",
     "output_type": "stream",
     "text": [
      "number of sources in Gaia DR2 selection: 515 rows\n"
     ]
    }
   ],
   "source": [
    "def get_hyades_dr2_full():\n",
    "    # Gaia Collaboration DR2 selection\n",
    "    datadir = \"../data/gaia_dr2_clusters\"\n",
    "    tmp1 = Table.read(\n",
    "        f\"{datadir}/tablea1a.dat\", format=\"ascii.cds\", readme=f\"{datadir}/ReadMe\"\n",
    "    ).to_pandas()\n",
    "    tmp1.columns = tmp1.columns.str.lower()\n",
    "    tmp1 = tmp1.rename(columns={\"source\": \"source_id\"})\n",
    "    tmp2 = pd.read_csv(f\"{datadir}/table1a_gaiadr2_full.csv\", index_col=0)\n",
    "    dr2cl = pd.merge(tmp1[[\"source_id\", \"cluster\"]], tmp2, on=\"source_id\")\n",
    "\n",
    "    hy_dr2 = dr2cl.groupby(\"cluster\").get_group(\"Hyades\")\n",
    "    return hy_dr2\n",
    "\n",
    "\n",
    "gdr2 = get_hyades_dr2_full()[[\"source_id\"]]\n",
    "gdr2[\"in_dr2\"] = True\n",
    "print(f\"number of sources in Gaia DR2 selection: {len(gdr2)} rows\")"
   ]
  },
  {
   "cell_type": "code",
   "execution_count": 4,
   "metadata": {
    "Collapsed": "false"
   },
   "outputs": [
    {
     "name": "stdout",
     "output_type": "stream",
     "text": [
      "71 rows\n",
      "leao sources missing in gdr2: 8\n",
      "missing HIP: {19808, 20577, 15300, 19781, 20741, 20745, 22380, 20605}\n"
     ]
    }
   ],
   "source": [
    "leao = pd.read_csv(\"../data/leao_table.csv\", sep=\" \", skipinitialspace=True)\n",
    "print(f\"{len(leao)} rows\")\n",
    "hip_harps = set(leao[\"HIP\"].values)\n",
    "\n",
    "query_leao_sourceid = \"\"\"\n",
    "-- cross-match HIPPARCOS2 sources by id\n",
    "SELECT\n",
    "  t.hip, xm.angular_distance, xm.number_of_neighbours, gaia.source_id\n",
    "FROM TAP_UPLOAD.t AS t\n",
    "JOIN gaiadr2.hipparcos2_best_neighbour AS xm\n",
    "  ON xm.original_ext_source_id = t.hip\n",
    "JOIN gaiadr2.gaia_source AS gaia\n",
    "  ON xm.source_id = gaia.source_id\n",
    "\"\"\"\n",
    "leaox = gp.gaia.query(query_leao_sourceid, upload_table_name=\"t\", upload_resource=leao[[\"ID\", \"HIP\"]])[\n",
    "    [\"source_id\", \"hip\"]\n",
    "]\n",
    "leaox[\"in_leao\"] = True\n",
    "\n",
    "missing_in_gdr2 = hip_harps - set(leaox[\"hip\"])\n",
    "print(f\"leao sources missing in gdr2: {len(missing_in_gdr2)}\")\n",
    "print(f\"missing HIP: {missing_in_gdr2}\")"
   ]
  },
  {
   "cell_type": "code",
   "execution_count": 5,
   "metadata": {
    "Collapsed": "false"
   },
   "outputs": [
    {
     "name": "stdout",
     "output_type": "stream",
     "text": [
      "Meingast N= 238\n"
     ]
    }
   ],
   "source": [
    "hy_tails_m19 = Table.read(\n",
    "    \"/home/soh/data/meingast2019_hyades_tails/hyades.dat\",\n",
    "    format=\"ascii.cds\",\n",
    "    readme=\"/home/soh/data/meingast2019_hyades_tails/ReadMe\",\n",
    ").to_pandas()\n",
    "m19 = hy_tails_m19.rename(columns={\"Source\": \"source_id\"})[[\"source_id\"]]\n",
    "m19[\"source_id\"] = m19[\"source_id\"].astype(int)\n",
    "m19[\"in_meingast\"] = True\n",
    "print(f\"Meingast N={len(m19):4d}\")"
   ]
  },
  {
   "cell_type": "code",
   "execution_count": 6,
   "metadata": {
    "Collapsed": "false",
    "lines_to_next_cell": 2
   },
   "outputs": [
    {
     "name": "stdout",
     "output_type": "stream",
     "text": [
      "Roeser   N=1316\n"
     ]
    }
   ],
   "source": [
    "hy_tails_r19 = Table.read(\n",
    "    \"/home/soh/data/roeser_hyades_tails/stars.dat\",\n",
    "    format=\"ascii.cds\",\n",
    "    readme=\"/home/soh/data/roeser_hyades_tails/ReadMe\",\n",
    ").to_pandas()\n",
    "r19 = hy_tails_r19.rename(columns={\"Source\": \"source_id\"})[[\"source_id\"]]\n",
    "r19[\"source_id\"] = r19[\"source_id\"].astype(int)\n",
    "r19[\"in_roser\"] = True\n",
    "print(f\"Roeser   N={len(r19):4d}\")"
   ]
  },
  {
   "cell_type": "code",
   "execution_count": 7,
   "metadata": {
    "Collapsed": "false",
    "lines_to_next_cell": 2
   },
   "outputs": [],
   "source": [
    "from functools import reduce\n",
    "\n",
    "dfs = [gdr2, leaox, m19, r19]\n",
    "out = reduce(lambda left, right: pd.merge(left, right, how=\"outer\"), dfs)"
   ]
  },
  {
   "cell_type": "code",
   "execution_count": 8,
   "metadata": {
    "Collapsed": "false"
   },
   "outputs": [],
   "source": [
    "# finally, query DR2 astrometry with source_id\n",
    "out_full = gp.gaia.query_sourceid(out[['source_id']], columns='gaiadr2.gaia_source.*')\n",
    "out_full = out_full.merge(out, on='source_id')"
   ]
  },
  {
   "cell_type": "code",
   "execution_count": 9,
   "metadata": {
    "Collapsed": "false"
   },
   "outputs": [],
   "source": [
    "out_full = out_full.merge(\n",
    "    hy_tails_r19[[\"Source\", \"Member\", \"Comment\"]].rename(\n",
    "        columns={\n",
    "            \"Source\": \"source_id\",\n",
    "            \"Member\": \"Member_r19\",\n",
    "            \"Comment\": \"Comment_r19\",\n",
    "        }\n",
    "    ),\n",
    "    how=\"left\",\n",
    "    on=\"source_id\",\n",
    ")\n",
    "out_full = out_full.merge(\n",
    "    leao.rename(columns=lambda x: x + \"_leao\" if x != \"HIP\" else x),\n",
    "    how=\"left\",\n",
    "    left_on=\"hip\",\n",
    "    right_on=\"HIP\",\n",
    ").drop(columns='HIP')"
   ]
  },
  {
   "cell_type": "code",
   "execution_count": 10,
   "metadata": {
    "Collapsed": "false"
   },
   "outputs": [
    {
     "name": "stdout",
     "output_type": "stream",
     "text": [
      "1389 rows in the combined catalog\n"
     ]
    }
   ],
   "source": [
    "assert out_full['source_id'].duplicated().sum() == 0\n",
    "print(f\"{len(out_full)} rows in the combined catalog\")"
   ]
  },
  {
   "cell_type": "code",
   "execution_count": 11,
   "metadata": {
    "Collapsed": "false"
   },
   "outputs": [
    {
     "name": "stdout",
     "output_type": "stream",
     "text": [
      "Stored 'out_full' (DataFrame)\n"
     ]
    }
   ],
   "source": [
    "%store out_full"
   ]
  },
  {
   "cell_type": "code",
   "execution_count": 12,
   "metadata": {
    "Collapsed": "false"
   },
   "outputs": [
    {
     "name": "stdout",
     "output_type": "stream",
     "text": [
      "in_dr2          515\n",
      "in_leao          63\n",
      "in_meingast     238\n",
      "in_roser       1316\n",
      "dtype: int64\n"
     ]
    }
   ],
   "source": [
    "print(out_full[['in_dr2', 'in_leao', 'in_meingast', 'in_roser']].count())"
   ]
  },
  {
   "cell_type": "code",
   "execution_count": 13,
   "metadata": {
    "Collapsed": "false"
   },
   "outputs": [],
   "source": [
    "out_full.to_csv(\"../data/hyades_full.csv\", index=False)"
   ]
  }
 ],
 "metadata": {
  "jupytext": {
   "encoding": "# -*- coding: utf-8 -*-",
   "formats": "ipynb,py:percent"
  },
  "kernelspec": {
   "display_name": "Python 3",
   "language": "python",
   "name": "python3"
  },
  "language_info": {
   "codemirror_mode": {
    "name": "ipython",
    "version": 3
   },
   "file_extension": ".py",
   "mimetype": "text/x-python",
   "name": "python",
   "nbconvert_exporter": "python",
   "pygments_lexer": "ipython3",
   "version": "3.7.6"
  },
  "toc-showcode": false
 },
 "nbformat": 4,
 "nbformat_minor": 4
}
