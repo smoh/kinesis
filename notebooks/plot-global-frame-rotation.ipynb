{
 "cells": [
  {
   "cell_type": "code",
   "execution_count": null,
   "metadata": {
    "tags": [
     "setup"
    ]
   },
   "outputs": [],
   "source": [
    "%matplotlib inline"
   ]
  },
  {
   "cell_type": "code",
   "execution_count": null,
   "metadata": {
    "tags": [
     "setup"
    ]
   },
   "outputs": [],
   "source": [
    "import matplotlib.pyplot as plt\n",
    "from matplotlib import colors, ticker\n",
    "import cartopy.crs as ccrs\n",
    "\n",
    "import pandas as pd\n",
    "import numpy as np\n",
    "import scipy as sp\n",
    "from astropy.table import Table\n",
    "import astropy.units as u\n",
    "import astropy.coordinates as coord\n",
    "import arviz as az\n",
    "import seaborn as sns\n",
    "import kinesis as kn\n",
    "import gapipes as gp\n",
    "\n",
    "plt.style.use(\"smoh\")"
   ]
  },
  {
   "cell_type": "code",
   "execution_count": null,
   "metadata": {},
   "outputs": [],
   "source": [
    "%%time\n",
    "r = gp.gaia.query(\n",
    "    \"\"\"\n",
    "-- From Hipparcos-Gaia cross-match, get positions and\n",
    "-- proper motion \"residual\" between Gaia-measured proper motion and\n",
    "-- proper motion calculated as positional difference between two epochs.\n",
    "SELECT\n",
    "    gaia.ra, gaia.dec,\n",
    "    gaia.pmra - (gaia.ra - hip.ra) *3600000 * COS(RADIANS(gaia.dec)) / 24.25 AS \"delta_pmra\",\n",
    "    gaia.pmdec - (gaia.dec - hip.dec) *3600000/ 24.25 as \"delta_pmdec\"\n",
    "FROM gaiadr2.gaia_source gaia\n",
    "    JOIN gaiadr2.hipparcos2_best_neighbour hip_match\n",
    "    ON gaia.source_id = hip_match.source_id\n",
    "    JOIN public.hipparcos_newreduction hip\n",
    "    ON hip_match.original_ext_source_id = hip.hip\n",
    "\"\"\"\n",
    ")\n",
    "print(f\"{len(r)} rows\")"
   ]
  },
  {
   "cell_type": "code",
   "execution_count": null,
   "metadata": {},
   "outputs": [],
   "source": [
    "from scipy.stats import gaussian_kde, binned_statistic_2d\n",
    "import scipy.ndimage as ndimage"
   ]
  },
  {
   "cell_type": "code",
   "execution_count": null,
   "metadata": {
    "lines_to_next_cell": 2
   },
   "outputs": [],
   "source": [
    "def plot_binned_statistic_2d(\n",
    "    x,\n",
    "    y,\n",
    "    values,\n",
    "    statistic=\"mean\",\n",
    "    bins=10,\n",
    "    range=None,\n",
    "    gaussian_filter=None,\n",
    "    ax=None,\n",
    "    **kwargs,\n",
    "):\n",
    "    if ax is None:\n",
    "        ax = plt.gca()\n",
    "    s, xe, ye, bn = binned_statistic_2d(\n",
    "        x, y, values, statistic=statistic, bins=bins, range=range\n",
    "    )\n",
    "    if gaussian_filter is not None:\n",
    "        s1 = s.copy()\n",
    "        s1[np.isnan(s1)] = 0\n",
    "        img1 = ndimage.gaussian_filter(s1, **gaussian_filter)\n",
    "\n",
    "        s2 = s.copy() * 0.0 + 1.0\n",
    "        s2[np.isnan(s)] = 0.0\n",
    "        img2 = ndimage.gaussian_filter(s2, **gaussian_filter)\n",
    "\n",
    "        img = img1 / img2\n",
    "    else:\n",
    "        img = s\n",
    "    x, y = np.meshgrid(xe, ye)\n",
    "    ax.pcolormesh(x, y, img.T, **kwargs)\n",
    "    return ax"
   ]
  },
  {
   "cell_type": "code",
   "execution_count": null,
   "metadata": {},
   "outputs": [],
   "source": [
    "%store -r out_full\n",
    "d = out_full.loc[out_full['Member_r19']!='other']"
   ]
  },
  {
   "cell_type": "code",
   "execution_count": null,
   "metadata": {
    "lines_to_next_cell": 0
   },
   "outputs": [],
   "source": [
    "fig, ax = plt.subplots(2, 1, subplot_kw=dict(projection=ccrs.Mollweide()))\n",
    "plot_binned_statistic_2d(\n",
    "    r[\"ra\"],\n",
    "    r[\"dec\"],\n",
    "    r[\"delta_pmra\"],\n",
    "    gaussian_filter={\"sigma\": 8, \"mode\": \"wrap\"},\n",
    "    bins=(361, 181),\n",
    "    ax=ax[0],\n",
    "    transform=ccrs.RotatedPole(),\n",
    "    vmin=-0.2,\n",
    "    vmax=0.2,\n",
    "    cmap=\"RdYlBu\",\n",
    ")\n",
    "plot_binned_statistic_2d(\n",
    "    r[\"ra\"],\n",
    "    r[\"dec\"],\n",
    "    r[\"delta_pmdec\"],\n",
    "    gaussian_filter={\"sigma\": 3, \"mode\": \"wrap\"},\n",
    "    bins=(181, 91),\n",
    "    ax=ax[1],\n",
    "    transform=ccrs.RotatedPole(),\n",
    "    vmin=-0.2,\n",
    "    vmax=0.2,\n",
    "    cmap=\"RdYlBu\",\n",
    ")\n",
    "for cax in ax:\n",
    "    cax.scatter(d['ra'], d['dec'], transform=ccrs.Geodetic(), s=1, c='k')\n",
    "    cax.invert_xaxis()\n",
    "    # first of the collections is pcolormesh of the background\n",
    "    cb = plt.colorbar(cax.collections[0], ax=cax)\n",
    "    cb.ax.tick_params(width=1, length=5)\n",
    "\n",
    "ax[0].set_title(r'$\\Delta$pmra')\n",
    "ax[1].set_title(r'$\\Delta$pmdec')\n",
    "fig.tight_layout()\n",
    "fig.savefig(\"../plots/hip-gaia-residual-proper-motion.pdf\");"
   ]
  },
  {
   "cell_type": "code",
   "execution_count": null,
   "metadata": {},
   "outputs": [],
   "source": [
    "%%time\n",
    "deltapm_healpix = gp.gaia.query(\n",
    "    \"\"\"\n",
    "-- From Hipparcos-Gaia cross-match, get average positions and\n",
    "-- proper motion \"residual\" grouped by healpix pixels.\n",
    "SELECT\n",
    "    avg(gaia.ra) as \"avg_ra\", avg(gaia.dec) as \"avg_dec\",\n",
    "    gaia_healpix_index(4, gaia.source_id) AS healpix_6,\n",
    "    avg(gaia.pmra - (gaia.ra - hip.ra) *3600000 * COS(RADIANS(gaia.dec)) / 24.25) as \"avg_delta_pmra\",\n",
    "    avg(gaia.pmdec - (gaia.dec - hip.dec) *3600000/ 24.25) as \"avg_delta_pmdec\",\n",
    "    count(gaia.source_id)\n",
    "FROM gaiadr2.gaia_source gaia\n",
    "    JOIN gaiadr2.hipparcos2_best_neighbour hip_match\n",
    "    ON gaia.source_id = hip_match.source_id\n",
    "    JOIN public.hipparcos_newreduction hip\n",
    "    ON hip_match.original_ext_source_id = hip.hip\n",
    "GROUP BY healpix_6\n",
    "ORDER BY healpix_6\n",
    "\"\"\"\n",
    ")"
   ]
  },
  {
   "cell_type": "code",
   "execution_count": null,
   "metadata": {},
   "outputs": [],
   "source": [
    "# there should be no missing healpix pixels for plotting\n",
    "npix = hp.nside2npix(2**4)\n",
    "missing_ipix = sorted(list(set(range(npix)) - set(deltapm_healpix['healpix_6'].values)))\n",
    "print(\"number of missing pixels =\", len(missing_ipix))\n",
    "print('number of sources per pixel')\n",
    "print(deltapm_healpix['COUNT'].quantile([.05, .5, .95]))\n",
    "\n",
    "import healpy as hp\n",
    "\n",
    "fig = plt.figure(figsize=(4, 4))\n",
    "hp.mollview(\n",
    "    deltapm_healpix[\"avg_delta_pmdec\"],\n",
    "    nest=True,\n",
    "    min=-0.3,\n",
    "    max=0.3,\n",
    "    cmap=\"RdYlBu\",\n",
    "    fig=fig.number,\n",
    "    title='avg_delta_pmdec'\n",
    ")\n",
    "fig = plt.figure(figsize=(4, 4))\n",
    "hp.mollview(\n",
    "    deltapm_healpix[\"avg_delta_pmra\"],\n",
    "    nest=True,\n",
    "    min=-0.3,\n",
    "    max=0.3,\n",
    "    cmap=\"RdYlBu\",\n",
    "    fig=fig.number,\n",
    "    title='avg_delta_pmra'\n",
    ")"
   ]
  }
 ],
 "metadata": {
  "jupytext": {
   "formats": "ipynb,py:percent"
  },
  "kernelspec": {
   "display_name": "Python 3",
   "language": "python",
   "name": "python3"
  },
  "language_info": {
   "codemirror_mode": {
    "name": "ipython",
    "version": 3
   },
   "file_extension": ".py",
   "mimetype": "text/x-python",
   "name": "python",
   "nbconvert_exporter": "python",
   "pygments_lexer": "ipython3",
   "version": "3.7.3"
  }
 },
 "nbformat": 4,
 "nbformat_minor": 4
}
