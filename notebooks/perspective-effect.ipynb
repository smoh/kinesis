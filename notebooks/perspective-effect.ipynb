{
 "cells": [
  {
   "cell_type": "markdown",
   "metadata": {},
   "source": [
    "This notebook verifies math in Appendix A. Perspective effect in Oh & Evans 2020."
   ]
  },
  {
   "cell_type": "code",
   "execution_count": 2,
   "metadata": {},
   "outputs": [],
   "source": [
    "from sympy import symbols, simplify, latex\n",
    "from sympy import cos, sin, Matrix, diff, N\n",
    "import numpy as np\n",
    "\n",
    "ra, dec = symbols('alpha, delta')\n",
    "vra,vdec,vr = symbols(r'v_\\alpha, v_\\delta, v_r')\n",
    "vx,vy,vz = symbols('v_x v_y v_z')\n",
    "delta_ra, delta_dec= symbols(r'\\Delta\\alpha \\Delta\\delta')\n",
    "\n",
    "R = Matrix([\n",
    "    [-sin(ra), cos(ra), 0.],\n",
    "    [-sin(dec)*cos(ra), -sin(dec)*sin(ra), cos(dec)],\n",
    "    [cos(dec)*cos(ra), cos(dec)*sin(ra), sin(dec)]\n",
    "])"
   ]
  },
  {
   "cell_type": "code",
   "execution_count": 3,
   "metadata": {},
   "outputs": [
    {
     "data": {
      "text/latex": [
       "$\\displaystyle \\left[\\begin{matrix}- \\sin{\\left(\\alpha \\right)} & \\cos{\\left(\\alpha \\right)} & 0.0\\\\- \\sin{\\left(\\delta \\right)} \\cos{\\left(\\alpha \\right)} & - \\sin{\\left(\\alpha \\right)} \\sin{\\left(\\delta \\right)} & \\cos{\\left(\\delta \\right)}\\\\\\cos{\\left(\\alpha \\right)} \\cos{\\left(\\delta \\right)} & \\sin{\\left(\\alpha \\right)} \\cos{\\left(\\delta \\right)} & \\sin{\\left(\\delta \\right)}\\end{matrix}\\right]$"
      ],
      "text/plain": [
       "Matrix([\n",
       "[           -sin(alpha),             cos(alpha),        0.0],\n",
       "[-sin(delta)*cos(alpha), -sin(alpha)*sin(delta), cos(delta)],\n",
       "[ cos(alpha)*cos(delta),  sin(alpha)*cos(delta), sin(delta)]])"
      ]
     },
     "execution_count": 3,
     "metadata": {},
     "output_type": "execute_result"
    }
   ],
   "source": [
    "R"
   ]
  },
  {
   "cell_type": "code",
   "execution_count": 4,
   "metadata": {},
   "outputs": [
    {
     "data": {
      "text/plain": [
       "True"
      ]
     },
     "execution_count": 4,
     "metadata": {},
     "output_type": "execute_result"
    }
   ],
   "source": [
    "simplify(R.inv()) == R.T"
   ]
  },
  {
   "cell_type": "code",
   "execution_count": 5,
   "metadata": {},
   "outputs": [
    {
     "data": {
      "text/latex": [
       "$\\displaystyle \\left[\\begin{matrix}- \\cos{\\left(\\alpha \\right)} & - \\sin{\\left(\\alpha \\right)} & 0\\\\\\sin{\\left(\\alpha \\right)} \\sin{\\left(\\delta \\right)} & - \\sin{\\left(\\delta \\right)} \\cos{\\left(\\alpha \\right)} & 0\\\\- \\sin{\\left(\\alpha \\right)} \\cos{\\left(\\delta \\right)} & \\cos{\\left(\\alpha \\right)} \\cos{\\left(\\delta \\right)} & 0\\end{matrix}\\right]$"
      ],
      "text/plain": [
       "Matrix([\n",
       "[           -cos(alpha),            -sin(alpha), 0],\n",
       "[ sin(alpha)*sin(delta), -sin(delta)*cos(alpha), 0],\n",
       "[-sin(alpha)*cos(delta),  cos(alpha)*cos(delta), 0]])"
      ]
     },
     "execution_count": 5,
     "metadata": {},
     "output_type": "execute_result"
    }
   ],
   "source": [
    "diff(R, ra)"
   ]
  },
  {
   "cell_type": "code",
   "execution_count": 6,
   "metadata": {},
   "outputs": [
    {
     "data": {
      "text/latex": [
       "$\\displaystyle \\left[\\begin{matrix}0 & 0 & 0\\\\- \\cos{\\left(\\alpha \\right)} \\cos{\\left(\\delta \\right)} & - \\sin{\\left(\\alpha \\right)} \\cos{\\left(\\delta \\right)} & - \\sin{\\left(\\delta \\right)}\\\\- \\sin{\\left(\\delta \\right)} \\cos{\\left(\\alpha \\right)} & - \\sin{\\left(\\alpha \\right)} \\sin{\\left(\\delta \\right)} & \\cos{\\left(\\delta \\right)}\\end{matrix}\\right]$"
      ],
      "text/plain": [
       "Matrix([\n",
       "[                     0,                      0,           0],\n",
       "[-cos(alpha)*cos(delta), -sin(alpha)*cos(delta), -sin(delta)],\n",
       "[-sin(delta)*cos(alpha), -sin(alpha)*sin(delta),  cos(delta)]])"
      ]
     },
     "execution_count": 6,
     "metadata": {},
     "output_type": "execute_result"
    }
   ],
   "source": [
    "diff(R, dec)"
   ]
  },
  {
   "cell_type": "markdown",
   "metadata": {},
   "source": [
    "## Geneneral $\\Delta v_\\mathrm{sphere}$ to the first order"
   ]
  },
  {
   "cell_type": "code",
   "execution_count": 7,
   "metadata": {},
   "outputs": [],
   "source": [
    "vvec = Matrix([\n",
    "    [vx],\n",
    "    [vy],\n",
    "    [vz]\n",
    "])"
   ]
  },
  {
   "cell_type": "code",
   "execution_count": 8,
   "metadata": {},
   "outputs": [
    {
     "data": {
      "text/latex": [
       "$\\displaystyle \\left[\\begin{matrix}\\Delta\\alpha \\left(- v_{x} \\cos{\\left(\\alpha \\right)} - v_{y} \\sin{\\left(\\alpha \\right)}\\right)\\\\\\Delta\\alpha \\left(v_{x} \\sin{\\left(\\alpha \\right)} \\sin{\\left(\\delta \\right)} - v_{y} \\sin{\\left(\\delta \\right)} \\cos{\\left(\\alpha \\right)}\\right) + \\Delta\\delta \\left(- v_{x} \\cos{\\left(\\alpha \\right)} \\cos{\\left(\\delta \\right)} - v_{y} \\sin{\\left(\\alpha \\right)} \\cos{\\left(\\delta \\right)} - v_{z} \\sin{\\left(\\delta \\right)}\\right)\\\\\\Delta\\alpha \\left(- v_{x} \\sin{\\left(\\alpha \\right)} \\cos{\\left(\\delta \\right)} + v_{y} \\cos{\\left(\\alpha \\right)} \\cos{\\left(\\delta \\right)}\\right) + \\Delta\\delta \\left(- v_{x} \\sin{\\left(\\delta \\right)} \\cos{\\left(\\alpha \\right)} - v_{y} \\sin{\\left(\\alpha \\right)} \\sin{\\left(\\delta \\right)} + v_{z} \\cos{\\left(\\delta \\right)}\\right)\\end{matrix}\\right]$"
      ],
      "text/plain": [
       "Matrix([\n",
       "[                                                                                                               \\Delta\\alpha*(-v_x*cos(alpha) - v_y*sin(alpha))],\n",
       "[ \\Delta\\alpha*(v_x*sin(alpha)*sin(delta) - v_y*sin(delta)*cos(alpha)) + \\Delta\\delta*(-v_x*cos(alpha)*cos(delta) - v_y*sin(alpha)*cos(delta) - v_z*sin(delta))],\n",
       "[\\Delta\\alpha*(-v_x*sin(alpha)*cos(delta) + v_y*cos(alpha)*cos(delta)) + \\Delta\\delta*(-v_x*sin(delta)*cos(alpha) - v_y*sin(alpha)*sin(delta) + v_z*cos(delta))]])"
      ]
     },
     "execution_count": 8,
     "metadata": {},
     "output_type": "execute_result"
    }
   ],
   "source": [
    "delta_v_sphere = diff(R, ra)*vvec*delta_ra + diff(R, dec)*vvec*delta_dec\n",
    "delta_v_sphere"
   ]
  },
  {
   "cell_type": "markdown",
   "metadata": {},
   "source": [
    "We can express this with $v_\\mathrm{sphere} = [v_\\alpha,\\,v_\\delta,\\,v_r]^T$ **at** $(\\alpha,\\,\\delta)$.\n",
    "Such first-order correction has been applied in e.g., Kuhn et al. 2019.\n",
    "The limits of this is:\n",
    "1. the mean velocity is estimaten in the projected space, where the perspective effect is **baked in** already\n",
    "2. it is correct to only first-order in $\\Delta \\alpha$ and $\\Delta \\delta$\n",
    "3. it assumes an absolute center at $(\\alpha,\\,\\delta)$"
   ]
  },
  {
   "cell_type": "code",
   "execution_count": 9,
   "metadata": {},
   "outputs": [],
   "source": [
    "vvec = R.T @ Matrix([[vra],[vdec],[vr]])\n",
    "delta_v_sphere = diff(R, ra)*vvec*delta_ra + diff(R, dec)*vvec*delta_dec"
   ]
  },
  {
   "cell_type": "code",
   "execution_count": 10,
   "metadata": {},
   "outputs": [
    {
     "data": {
      "text/latex": [
       "$\\displaystyle \\left[\\begin{matrix}\\Delta\\alpha \\left(v_\\delta \\sin{\\left(\\delta \\right)} - v_{r} \\cos{\\left(\\delta \\right)}\\right)\\\\- \\Delta\\alpha v_\\alpha \\sin{\\left(\\delta \\right)} - \\Delta\\delta v_{r}\\\\\\Delta\\alpha v_\\alpha \\cos{\\left(\\delta \\right)} + \\Delta\\delta v_\\delta\\end{matrix}\\right]$"
      ],
      "text/plain": [
       "Matrix([\n",
       "[     \\Delta\\alpha*(v_\\delta*sin(delta) - v_r*cos(delta))],\n",
       "[    -\\Delta\\alpha*v_\\alpha*sin(delta) - \\Delta\\delta*v_r],\n",
       "[\\Delta\\alpha*v_\\alpha*cos(delta) + \\Delta\\delta*v_\\delta]])"
      ]
     },
     "execution_count": 10,
     "metadata": {},
     "output_type": "execute_result"
    }
   ],
   "source": [
    "simplify(delta_v_sphere)"
   ]
  },
  {
   "cell_type": "code",
   "execution_count": 11,
   "metadata": {},
   "outputs": [
    {
     "name": "stdout",
     "output_type": "stream",
     "text": [
      "\\left[\\begin{matrix}\\Delta\\alpha \\left(v_\\delta \\sin{\\left(\\delta \\right)} - v_{r} \\cos{\\left(\\delta \\right)}\\right)\\\\- \\Delta\\alpha v_\\alpha \\sin{\\left(\\delta \\right)} - \\Delta\\delta v_{r}\\\\\\Delta\\alpha v_\\alpha \\cos{\\left(\\delta \\right)} + \\Delta\\delta v_\\delta\\end{matrix}\\right]\n"
     ]
    }
   ],
   "source": [
    "print(latex(simplify(delta_v_sphere)))"
   ]
  },
  {
   "cell_type": "markdown",
   "metadata": {},
   "source": [
    "## A special case: $\\vec{v}_0$ is radial: perspective expansion/contraction\n",
    "\n",
    "When $\\vec{v}_0$ is exactly radial at $(\\alpha,\\,\\delta)$:"
   ]
  },
  {
   "cell_type": "code",
   "execution_count": 12,
   "metadata": {},
   "outputs": [],
   "source": [
    "v_radial = Matrix([\n",
    "    [0],\n",
    "    [0],\n",
    "    [vr]\n",
    "])\n",
    "\n",
    "v0 = R.T * v_radial"
   ]
  },
  {
   "cell_type": "code",
   "execution_count": 13,
   "metadata": {},
   "outputs": [
    {
     "data": {
      "text/latex": [
       "$\\displaystyle \\left[\\begin{matrix}- \\Delta\\alpha v_{r} \\cos{\\left(\\delta \\right)}\\\\- \\Delta\\delta v_{r}\\\\0\\end{matrix}\\right]$"
      ],
      "text/plain": [
       "Matrix([\n",
       "[-\\Delta\\alpha*v_r*cos(delta)],\n",
       "[           -\\Delta\\delta*v_r],\n",
       "[                           0]])"
      ]
     },
     "execution_count": 13,
     "metadata": {},
     "output_type": "execute_result"
    }
   ],
   "source": [
    "dMdrav0 = simplify(diff(R, ra) * v0)\n",
    "dMddecv0 = simplify(diff(R, dec)*v0)\n",
    "\n",
    "dMdrav0*delta_ra + dMddecv0*delta_dec"
   ]
  },
  {
   "cell_type": "markdown",
   "metadata": {},
   "source": [
    "$$ \\left[\\begin{matrix} \\Delta v_\\alpha \\\\ \\Delta v_\\delta \\end{matrix} \\right] =\n",
    "- \\left[\\begin{matrix} \\cos\\delta & 0 \\\\ 0 & 1 \\end{matrix}\\right] v_r\n",
    "\\left[ \\begin{matrix} \\Delta \\alpha \\\\ \\Delta \\delta \\end{matrix} \\right] $$\n",
    "\n",
    "Since $\\cos\\delta>0$ always, and noting that there is not cross-term, this means that the signs of projected velocity gradient $\\delta v_\\alpha$ and $\\delta v_\\delta$ depends only on the sign of $v_r$: when $v_r>0$ (receding), the projected velocities decrease outward, i.e., we see an apparent contraction and vice versa."
   ]
  },
  {
   "cell_type": "markdown",
   "metadata": {},
   "source": [
    "## Second-order terms\n",
    "\n",
    "One can expand to second-order as well. There will always be a higher-order correction as $\\sin$ and $\\cos$ expand forever.\n",
    "The next order term will dominate the residual pattern."
   ]
  },
  {
   "cell_type": "code",
   "execution_count": 14,
   "metadata": {},
   "outputs": [],
   "source": [
    "delta_v_sphere2 = simplify(diff(R, ra, 2) *v0 * delta_ra**2  + diff(R, dec, 2) *v0 * delta_dec**2 + 2*diff(R, ra,dec) * v0 * delta_ra * delta_dec)"
   ]
  },
  {
   "cell_type": "code",
   "execution_count": 15,
   "metadata": {},
   "outputs": [
    {
     "data": {
      "text/latex": [
       "$\\displaystyle \\left[\\begin{matrix}0\\\\0.5 \\Delta\\alpha^{2} v_{r}\\\\- v_{r} \\left(0.5 \\Delta\\alpha^{2} + \\Delta\\delta^{2}\\right)\\end{matrix}\\right]$"
      ],
      "text/plain": [
       "Matrix([\n",
       "[                                           0],\n",
       "[                     0.5*\\Delta\\alpha**2*v_r],\n",
       "[-v_r*(0.5*\\Delta\\alpha**2 + \\Delta\\delta**2)]])"
      ]
     },
     "execution_count": 15,
     "metadata": {},
     "output_type": "execute_result"
    }
   ],
   "source": [
    "delta_v_sphere2.subs({ra:np.deg2rad(45), dec:np.deg2rad(45)})"
   ]
  },
  {
   "cell_type": "code",
   "execution_count": 16,
   "metadata": {},
   "outputs": [
    {
     "data": {
      "text/latex": [
       "$\\displaystyle \\left[\\begin{matrix}0\\\\- 0.5 \\Delta\\alpha^{2} v_{r}\\\\- v_{r} \\left(0.5 \\Delta\\alpha^{2} + \\Delta\\delta^{2}\\right)\\end{matrix}\\right]$"
      ],
      "text/plain": [
       "Matrix([\n",
       "[                                           0],\n",
       "[                    -0.5*\\Delta\\alpha**2*v_r],\n",
       "[-v_r*(0.5*\\Delta\\alpha**2 + \\Delta\\delta**2)]])"
      ]
     },
     "execution_count": 16,
     "metadata": {},
     "output_type": "execute_result"
    }
   ],
   "source": [
    "delta_v_sphere2.subs({ra:np.deg2rad(135), dec:np.deg2rad(135)})"
   ]
  },
  {
   "cell_type": "code",
   "execution_count": 21,
   "metadata": {},
   "outputs": [
    {
     "data": {
      "text/latex": [
       "$\\displaystyle \\left[\\begin{matrix}\\Delta\\alpha \\left(0.707 v_\\delta - 0.707 v_{r}\\right)\\\\- 0.707 \\Delta\\alpha v_\\alpha - 1.0 \\Delta\\delta v_{r}\\\\0.707 \\Delta\\alpha v_\\alpha + 1.0 \\Delta\\delta v_\\delta\\end{matrix}\\right]$"
      ],
      "text/plain": [
       "Matrix([\n",
       "[              \\Delta\\alpha*(0.707*v_\\delta - 0.707*v_r)],\n",
       "[    -0.707*\\Delta\\alpha*v_\\alpha - 1.0*\\Delta\\delta*v_r],\n",
       "[0.707*\\Delta\\alpha*v_\\alpha + 1.0*\\Delta\\delta*v_\\delta]])"
      ]
     },
     "execution_count": 21,
     "metadata": {},
     "output_type": "execute_result"
    }
   ],
   "source": [
    "N(delta_v_sphere.subs({ra:np.deg2rad(45),dec:np.deg2rad(45), vx:5.0, vy:5.0, vz:7.07106781}), 3)"
   ]
  },
  {
   "cell_type": "code",
   "execution_count": 22,
   "metadata": {},
   "outputs": [],
   "source": [
    "pos2 = N(delta_v_sphere.subs({ra:np.deg2rad(300),dec:np.deg2rad(45), vx:5.0, vy:5.0, vz:7.07106781}), 3, )"
   ]
  },
  {
   "cell_type": "code",
   "execution_count": 39,
   "metadata": {},
   "outputs": [
    {
     "data": {
      "text/latex": [
       "$\\displaystyle \\left[\\begin{matrix}- 2.99 \\Delta\\alpha\\\\5.81 \\Delta\\alpha + 5.15 \\Delta\\delta\\\\2.71 \\Delta\\alpha + 5.7 \\Delta\\delta\\end{matrix}\\right]$"
      ],
      "text/plain": [
       "Matrix([\n",
       "[                   -2.99*\\Delta\\alpha],\n",
       "[5.81*\\Delta\\alpha + 5.15*\\Delta\\delta],\n",
       "[ 2.71*\\Delta\\alpha + 5.7*\\Delta\\delta]])"
      ]
     },
     "execution_count": 39,
     "metadata": {},
     "output_type": "execute_result"
    }
   ],
   "source": [
    "N(delta_v_sphere.subs({ra:np.deg2rad(340),dec:np.deg2rad(-65), vx:5.0, vy:5.0, vz:7.07106781}), 3)"
   ]
  }
 ],
 "metadata": {
  "kernelspec": {
   "display_name": "Python 3",
   "language": "python",
   "name": "python3"
  },
  "language_info": {
   "codemirror_mode": {
    "name": "ipython",
    "version": 3
   },
   "file_extension": ".py",
   "mimetype": "text/x-python",
   "name": "python",
   "nbconvert_exporter": "python",
   "pygments_lexer": "ipython3",
   "version": "3.7.6"
  }
 },
 "nbformat": 4,
 "nbformat_minor": 4
}
