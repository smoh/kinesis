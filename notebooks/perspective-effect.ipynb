{
 "cells": [
  {
   "cell_type": "markdown",
   "metadata": {},
   "source": [
    "This notebook verifies math in Appendix A. Perspective effect in Oh & Evans 2020."
   ]
  },
  {
   "cell_type": "code",
   "execution_count": 13,
   "metadata": {},
   "outputs": [],
   "source": [
    "from sympy import symbols, simplify, latex\n",
    "from sympy import cos, sin, Matrix, diff, N\n",
    "import numpy as np\n",
    "\n",
    "ra, dec = symbols('alpha, delta')\n",
    "vra,vdec,vr = symbols(r'v_\\alpha, v_\\delta, v_r')\n",
    "vx,vy,vz = symbols('v_x v_y v_z')\n",
    "delta_ra, delta_dec= symbols(r'\\Delta\\alpha \\Delta\\delta')\n",
    "\n",
    "R = Matrix([\n",
    "    [-sin(ra), cos(ra), 0.],\n",
    "    [-sin(dec)*cos(ra), -sin(dec)*sin(ra), cos(dec)],\n",
    "    [cos(dec)*cos(ra), cos(dec)*sin(ra), sin(dec)]\n",
    "])"
   ]
  },
  {
   "cell_type": "code",
   "execution_count": 2,
   "metadata": {},
   "outputs": [
    {
     "data": {
      "text/latex": [
       "$\\displaystyle \\left[\\begin{matrix}- \\sin{\\left(\\alpha \\right)} & \\cos{\\left(\\alpha \\right)} & 0.0\\\\- \\sin{\\left(\\delta \\right)} \\cos{\\left(\\alpha \\right)} & - \\sin{\\left(\\alpha \\right)} \\sin{\\left(\\delta \\right)} & \\cos{\\left(\\delta \\right)}\\\\\\cos{\\left(\\alpha \\right)} \\cos{\\left(\\delta \\right)} & \\sin{\\left(\\alpha \\right)} \\cos{\\left(\\delta \\right)} & \\sin{\\left(\\delta \\right)}\\end{matrix}\\right]$"
      ],
      "text/plain": [
       "Matrix([\n",
       "[           -sin(alpha),             cos(alpha),        0.0],\n",
       "[-sin(delta)*cos(alpha), -sin(alpha)*sin(delta), cos(delta)],\n",
       "[ cos(alpha)*cos(delta),  sin(alpha)*cos(delta), sin(delta)]])"
      ]
     },
     "execution_count": 2,
     "metadata": {},
     "output_type": "execute_result"
    }
   ],
   "source": [
    "R"
   ]
  },
  {
   "cell_type": "code",
   "execution_count": 3,
   "metadata": {},
   "outputs": [
    {
     "data": {
      "text/plain": [
       "True"
      ]
     },
     "execution_count": 3,
     "metadata": {},
     "output_type": "execute_result"
    }
   ],
   "source": [
    "simplify(R.inv()) == R.T"
   ]
  },
  {
   "cell_type": "code",
   "execution_count": 4,
   "metadata": {},
   "outputs": [
    {
     "data": {
      "text/latex": [
       "$\\displaystyle \\left[\\begin{matrix}- \\cos{\\left(\\alpha \\right)} & - \\sin{\\left(\\alpha \\right)} & 0\\\\\\sin{\\left(\\alpha \\right)} \\sin{\\left(\\delta \\right)} & - \\sin{\\left(\\delta \\right)} \\cos{\\left(\\alpha \\right)} & 0\\\\- \\sin{\\left(\\alpha \\right)} \\cos{\\left(\\delta \\right)} & \\cos{\\left(\\alpha \\right)} \\cos{\\left(\\delta \\right)} & 0\\end{matrix}\\right]$"
      ],
      "text/plain": [
       "Matrix([\n",
       "[           -cos(alpha),            -sin(alpha), 0],\n",
       "[ sin(alpha)*sin(delta), -sin(delta)*cos(alpha), 0],\n",
       "[-sin(alpha)*cos(delta),  cos(alpha)*cos(delta), 0]])"
      ]
     },
     "execution_count": 4,
     "metadata": {},
     "output_type": "execute_result"
    }
   ],
   "source": [
    "diff(R, ra)"
   ]
  },
  {
   "cell_type": "code",
   "execution_count": 5,
   "metadata": {},
   "outputs": [
    {
     "data": {
      "text/latex": [
       "$\\displaystyle \\left[\\begin{matrix}0 & 0 & 0\\\\- \\cos{\\left(\\alpha \\right)} \\cos{\\left(\\delta \\right)} & - \\sin{\\left(\\alpha \\right)} \\cos{\\left(\\delta \\right)} & - \\sin{\\left(\\delta \\right)}\\\\- \\sin{\\left(\\delta \\right)} \\cos{\\left(\\alpha \\right)} & - \\sin{\\left(\\alpha \\right)} \\sin{\\left(\\delta \\right)} & \\cos{\\left(\\delta \\right)}\\end{matrix}\\right]$"
      ],
      "text/plain": [
       "Matrix([\n",
       "[                     0,                      0,           0],\n",
       "[-cos(alpha)*cos(delta), -sin(alpha)*cos(delta), -sin(delta)],\n",
       "[-sin(delta)*cos(alpha), -sin(alpha)*sin(delta),  cos(delta)]])"
      ]
     },
     "execution_count": 5,
     "metadata": {},
     "output_type": "execute_result"
    }
   ],
   "source": [
    "diff(R, dec)"
   ]
  },
  {
   "cell_type": "markdown",
   "metadata": {},
   "source": [
    "## Geneneral $\\Delta v_\\mathrm{sphere}$ to the first order"
   ]
  },
  {
   "cell_type": "code",
   "execution_count": 14,
   "metadata": {},
   "outputs": [],
   "source": [
    "vvec = Matrix([\n",
    "    [vx],\n",
    "    [vy],\n",
    "    [vz]\n",
    "])"
   ]
  },
  {
   "cell_type": "code",
   "execution_count": 15,
   "metadata": {},
   "outputs": [
    {
     "data": {
      "text/latex": [
       "$\\displaystyle \\left[\\begin{matrix}\\Delta\\alpha \\left(- v_{x} \\cos{\\left(\\alpha \\right)} - v_{y} \\sin{\\left(\\alpha \\right)}\\right)\\\\\\Delta\\alpha \\left(v_{x} \\sin{\\left(\\alpha \\right)} \\sin{\\left(\\delta \\right)} - v_{y} \\sin{\\left(\\delta \\right)} \\cos{\\left(\\alpha \\right)}\\right) + \\Delta\\delta \\left(- v_{x} \\cos{\\left(\\alpha \\right)} \\cos{\\left(\\delta \\right)} - v_{y} \\sin{\\left(\\alpha \\right)} \\cos{\\left(\\delta \\right)} - v_{z} \\sin{\\left(\\delta \\right)}\\right)\\\\\\Delta\\alpha \\left(- v_{x} \\sin{\\left(\\alpha \\right)} \\cos{\\left(\\delta \\right)} + v_{y} \\cos{\\left(\\alpha \\right)} \\cos{\\left(\\delta \\right)}\\right) + \\Delta\\delta \\left(- v_{x} \\sin{\\left(\\delta \\right)} \\cos{\\left(\\alpha \\right)} - v_{y} \\sin{\\left(\\alpha \\right)} \\sin{\\left(\\delta \\right)} + v_{z} \\cos{\\left(\\delta \\right)}\\right)\\end{matrix}\\right]$"
      ],
      "text/plain": [
       "Matrix([\n",
       "[                                                                                                               \\Delta\\alpha*(-v_x*cos(alpha) - v_y*sin(alpha))],\n",
       "[ \\Delta\\alpha*(v_x*sin(alpha)*sin(delta) - v_y*sin(delta)*cos(alpha)) + \\Delta\\delta*(-v_x*cos(alpha)*cos(delta) - v_y*sin(alpha)*cos(delta) - v_z*sin(delta))],\n",
       "[\\Delta\\alpha*(-v_x*sin(alpha)*cos(delta) + v_y*cos(alpha)*cos(delta)) + \\Delta\\delta*(-v_x*sin(delta)*cos(alpha) - v_y*sin(alpha)*sin(delta) + v_z*cos(delta))]])"
      ]
     },
     "execution_count": 15,
     "metadata": {},
     "output_type": "execute_result"
    }
   ],
   "source": [
    "delta_v_sphere = diff(R, ra)*vvec*delta_ra + diff(R, dec)*vvec*delta_dec\n",
    "delta_v_sphere"
   ]
  },
  {
   "cell_type": "markdown",
   "metadata": {},
   "source": [
    "We can express this with $v_\\mathrm{sphere} = [v_\\alpha,\\,v_\\delta,\\,v_r]^T$ **at** $(\\alpha,\\,\\delta)$."
   ]
  },
  {
   "cell_type": "code",
   "execution_count": 16,
   "metadata": {},
   "outputs": [],
   "source": [
    "vvec = R.T @ Matrix([[vra],[vdec],[vr]])\n",
    "delta_v_sphere = diff(R, ra)*vvec*delta_ra + diff(R, dec)*vvec*delta_dec"
   ]
  },
  {
   "cell_type": "code",
   "execution_count": 17,
   "metadata": {},
   "outputs": [
    {
     "data": {
      "text/latex": [
       "$\\displaystyle \\left[\\begin{matrix}\\Delta\\alpha \\left(v_\\delta \\sin{\\left(\\delta \\right)} - v_{r} \\cos{\\left(\\delta \\right)}\\right)\\\\- \\Delta\\alpha v_\\alpha \\sin{\\left(\\delta \\right)} - \\Delta\\delta v_{r}\\\\\\Delta\\alpha v_\\alpha \\cos{\\left(\\delta \\right)} + \\Delta\\delta v_\\delta\\end{matrix}\\right]$"
      ],
      "text/plain": [
       "Matrix([\n",
       "[     \\Delta\\alpha*(v_\\delta*sin(delta) - v_r*cos(delta))],\n",
       "[    -\\Delta\\alpha*v_\\alpha*sin(delta) - \\Delta\\delta*v_r],\n",
       "[\\Delta\\alpha*v_\\alpha*cos(delta) + \\Delta\\delta*v_\\delta]])"
      ]
     },
     "execution_count": 17,
     "metadata": {},
     "output_type": "execute_result"
    }
   ],
   "source": [
    "simplify(delta_v_sphere)"
   ]
  },
  {
   "cell_type": "code",
   "execution_count": null,
   "metadata": {},
   "outputs": [],
   "source": []
  },
  {
   "cell_type": "markdown",
   "metadata": {},
   "source": [
    "## A special case: $\\vec{v}_0$ is radial."
   ]
  },
  {
   "cell_type": "code",
   "execution_count": 56,
   "metadata": {},
   "outputs": [],
   "source": [
    "v_radial = Matrix([\n",
    "    [0],\n",
    "    [0],\n",
    "    [vr]\n",
    "])\n",
    "\n",
    "v0 = R.T * v_radial"
   ]
  },
  {
   "cell_type": "code",
   "execution_count": 57,
   "metadata": {},
   "outputs": [
    {
     "data": {
      "text/latex": [
       "$\\displaystyle \\left[\\begin{matrix}- \\Delta\\alpha v_{r} \\cos{\\left(\\delta \\right)}\\\\- \\Delta\\delta v_{r}\\\\0\\end{matrix}\\right]$"
      ],
      "text/plain": [
       "Matrix([\n",
       "[-\\Delta\\alpha*v_r*cos(delta)],\n",
       "[           -\\Delta\\delta*v_r],\n",
       "[                           0]])"
      ]
     },
     "execution_count": 57,
     "metadata": {},
     "output_type": "execute_result"
    }
   ],
   "source": [
    "dMdrav0 = simplify(diff(R, ra) * v0)\n",
    "dMddecv0 = simplify(diff(R, dec)*v0)\n",
    "\n",
    "dMdrav0*delta_ra + dMddecv0*delta_dec"
   ]
  },
  {
   "cell_type": "markdown",
   "metadata": {},
   "source": [
    "### second-order terms"
   ]
  },
  {
   "cell_type": "code",
   "execution_count": 58,
   "metadata": {},
   "outputs": [],
   "source": [
    "delta_v_sphere2 = simplify(diff(R, ra, 2) *v0 * delta_ra**2  + diff(R, dec, 2) *v0 * delta_dec**2 + 2*diff(R, ra,dec) * v0 * delta_ra * delta_dec)"
   ]
  },
  {
   "cell_type": "code",
   "execution_count": 60,
   "metadata": {},
   "outputs": [
    {
     "data": {
      "text/latex": [
       "$\\displaystyle \\left[\\begin{matrix}0\\\\0.5 \\Delta\\alpha^{2} v_{r}\\\\- v_{r} \\left(0.5 \\Delta\\alpha^{2} + \\Delta\\delta^{2}\\right)\\end{matrix}\\right]$"
      ],
      "text/plain": [
       "Matrix([\n",
       "[                                           0],\n",
       "[                     0.5*\\Delta\\alpha**2*v_r],\n",
       "[-v_r*(0.5*\\Delta\\alpha**2 + \\Delta\\delta**2)]])"
      ]
     },
     "execution_count": 60,
     "metadata": {},
     "output_type": "execute_result"
    }
   ],
   "source": [
    "delta_v_sphere2.subs({ra:np.deg2rad(45), dec:np.deg2rad(45)})"
   ]
  },
  {
   "cell_type": "code",
   "execution_count": 61,
   "metadata": {},
   "outputs": [
    {
     "data": {
      "text/latex": [
       "$\\displaystyle \\left[\\begin{matrix}0\\\\- 0.5 \\Delta\\alpha^{2} v_{r}\\\\- v_{r} \\left(0.5 \\Delta\\alpha^{2} + \\Delta\\delta^{2}\\right)\\end{matrix}\\right]$"
      ],
      "text/plain": [
       "Matrix([\n",
       "[                                           0],\n",
       "[                    -0.5*\\Delta\\alpha**2*v_r],\n",
       "[-v_r*(0.5*\\Delta\\alpha**2 + \\Delta\\delta**2)]])"
      ]
     },
     "execution_count": 61,
     "metadata": {},
     "output_type": "execute_result"
    }
   ],
   "source": [
    "delta_v_sphere2.subs({ra:np.deg2rad(135), dec:np.deg2rad(135)})"
   ]
  },
  {
   "cell_type": "code",
   "execution_count": 37,
   "metadata": {},
   "outputs": [
    {
     "data": {
      "text/latex": [
       "$\\displaystyle \\left[\\begin{matrix}- 7.07 \\Delta\\alpha\\\\- 4.44 \\cdot 10^{-16} \\Delta\\alpha - 10.0 \\Delta\\delta\\\\4.44 \\cdot 10^{-16} \\Delta\\alpha - 1.32 \\cdot 10^{-9} \\Delta\\delta\\end{matrix}\\right]$"
      ],
      "text/plain": [
       "Matrix([\n",
       "[                          -7.07*\\Delta\\alpha],\n",
       "[  -4.44e-16*\\Delta\\alpha - 10.0*\\Delta\\delta],\n",
       "[4.44e-16*\\Delta\\alpha - 1.32e-9*\\Delta\\delta]])"
      ]
     },
     "execution_count": 37,
     "metadata": {},
     "output_type": "execute_result"
    }
   ],
   "source": [
    "N(delta_v_sphere.subs({ra:np.deg2rad(45),dec:np.deg2rad(45), vx:5.0, vy:5.0, vz:7.07106781}), 3)"
   ]
  },
  {
   "cell_type": "code",
   "execution_count": 38,
   "metadata": {},
   "outputs": [
    {
     "data": {
      "text/latex": [
       "$\\displaystyle \\left[\\begin{matrix}1.83 \\Delta\\alpha\\\\- 4.83 \\Delta\\alpha - 3.71 \\Delta\\delta\\\\4.83 \\Delta\\alpha + 6.29 \\Delta\\delta\\end{matrix}\\right]$"
      ],
      "text/plain": [
       "Matrix([\n",
       "[                     1.83*\\Delta\\alpha],\n",
       "[-4.83*\\Delta\\alpha - 3.71*\\Delta\\delta],\n",
       "[ 4.83*\\Delta\\alpha + 6.29*\\Delta\\delta]])"
      ]
     },
     "execution_count": 38,
     "metadata": {},
     "output_type": "execute_result"
    }
   ],
   "source": [
    "N(delta_v_sphere.subs({ra:np.deg2rad(300),dec:np.deg2rad(45), vx:5.0, vy:5.0, vz:7.07106781}), 3)"
   ]
  },
  {
   "cell_type": "code",
   "execution_count": 39,
   "metadata": {},
   "outputs": [
    {
     "data": {
      "text/latex": [
       "$\\displaystyle \\left[\\begin{matrix}- 2.99 \\Delta\\alpha\\\\5.81 \\Delta\\alpha + 5.15 \\Delta\\delta\\\\2.71 \\Delta\\alpha + 5.7 \\Delta\\delta\\end{matrix}\\right]$"
      ],
      "text/plain": [
       "Matrix([\n",
       "[                   -2.99*\\Delta\\alpha],\n",
       "[5.81*\\Delta\\alpha + 5.15*\\Delta\\delta],\n",
       "[ 2.71*\\Delta\\alpha + 5.7*\\Delta\\delta]])"
      ]
     },
     "execution_count": 39,
     "metadata": {},
     "output_type": "execute_result"
    }
   ],
   "source": [
    "N(delta_v_sphere.subs({ra:np.deg2rad(340),dec:np.deg2rad(-65), vx:5.0, vy:5.0, vz:7.07106781}), 3)"
   ]
  }
 ],
 "metadata": {
  "kernelspec": {
   "display_name": "Python 3",
   "language": "python",
   "name": "python3"
  },
  "language_info": {
   "codemirror_mode": {
    "name": "ipython",
    "version": 3
   },
   "file_extension": ".py",
   "mimetype": "text/x-python",
   "name": "python",
   "nbconvert_exporter": "python",
   "pygments_lexer": "ipython3",
   "version": "3.7.7"
  }
 },
 "nbformat": 4,
 "nbformat_minor": 4
}
