{
 "cells": [
  {
   "cell_type": "code",
   "execution_count": null,
   "metadata": {
    "Collapsed": "false"
   },
   "outputs": [],
   "source": [
    "'''Project utility functions and variables'''"
   ]
  },
  {
   "cell_type": "code",
   "execution_count": null,
   "metadata": {
    "Collapsed": "false"
   },
   "outputs": [],
   "source": [
    "# import numpy as np\n",
    "# import astropy.units as u\n",
    "# import astropy.coordinates as coord"
   ]
  },
  {
   "cell_type": "code",
   "execution_count": null,
   "metadata": {
    "Collapsed": "false"
   },
   "outputs": [],
   "source": [
    "mystyledict={\n",
    "    'axes.linewidth': 1.,\n",
    "    'axes.titlesize': 18.0,\n",
    "    'axes.labelsize':14,\n",
    "    \n",
    "    'figure.dpi': 120.0,\n",
    "    'figure.figsize': [5,4],\n",
    "    \n",
    "    'font.family': 'serif',\n",
    "    'font.serif':'Liberation Serif',\n",
    "    \n",
    "#     'font.serif':'CMU Serif',\n",
    "#     'axes.unicode_minus':False,\n",
    "    \n",
    "    'font.size': 12.0,\n",
    "    \n",
    "    'grid.color': 'tab:gray',\n",
    "    'grid.linewidth': .7,\n",
    "    \n",
    "    'legend.fancybox':False,\n",
    "    'legend.edgecolor':'0.1',\n",
    "    'lines.linewidth': 1.0,\n",
    "    'axes.formatter.use_mathtext':True,\n",
    "\n",
    "    'xtick.bottom': True,\n",
    "    'xtick.direction': 'in',\n",
    "    'xtick.major.pad': 7.0,\n",
    "    'xtick.major.size': 8.0,\n",
    "    'xtick.major.width': 1.0,\n",
    "    'xtick.minor.size': 0.0,\n",
    "    'xtick.minor.width': 1.5,\n",
    "    'xtick.top': False,\n",
    "    'ytick.direction': 'in',\n",
    "    'ytick.left': True,\n",
    "    'ytick.major.pad': 7.0,\n",
    "    'ytick.major.size': 8.0,\n",
    "    'ytick.major.width': 1.0,\n",
    "    'ytick.minor.size': 0.0,\n",
    "    'ytick.minor.width': 1.5,\n",
    "    'ytick.right': False,\n",
    "\n",
    "    'mathtext.fontset':'cm'\n",
    "}"
   ]
  },
  {
   "cell_type": "code",
   "execution_count": null,
   "metadata": {
    "Collapsed": "false"
   },
   "outputs": [],
   "source": [
    "def confidence_ellipse(cov, ax, n_std=3.0, center=(0,0), facecolor=\"none\", **kwargs):\n",
    "    \"\"\"\n",
    "    Create a plot of the covariance confidence ellipse of *x* and *y*.\n",
    "\n",
    "    Parameters\n",
    "    ----------\n",
    "    x, y : array-like, shape (n, )\n",
    "        Input data.\n",
    "\n",
    "    ax : matplotlib.axes.Axes\n",
    "        The axes object to draw the ellipse into.\n",
    "\n",
    "    n_std : float\n",
    "        The number of standard deviations to determine the ellipse's radiuses.\n",
    "\n",
    "    Returns\n",
    "    -------\n",
    "    matplotlib.patches.Ellipse\n",
    "\n",
    "    Other parameters\n",
    "    ----------------\n",
    "    kwargs : `~matplotlib.patches.Patch` properties\n",
    "    \"\"\"\n",
    "    from matplotlib.patches import Ellipse\n",
    "    import matplotlib.transforms as transforms\n",
    "\n",
    "    pearson = cov[0, 1] / np.sqrt(cov[0, 0] * cov[1, 1])\n",
    "    # Using a special case to obtain the eigenvalues of this\n",
    "    # two-dimensionl dataset.\n",
    "    ell_radius_x = np.sqrt(1 + pearson)\n",
    "    ell_radius_y = np.sqrt(1 - pearson)\n",
    "    ellipse = Ellipse(\n",
    "        (0, 0),\n",
    "        width=ell_radius_x * 2,\n",
    "        height=ell_radius_y * 2,\n",
    "        facecolor=facecolor,\n",
    "        **kwargs\n",
    "    )\n",
    "\n",
    "    # Calculating the stdandard deviation of x from\n",
    "    # the squareroot of the variance and multiplying\n",
    "    # with the given number of standard deviations.\n",
    "    scale_x = np.sqrt(cov[0, 0]) * n_std\n",
    "    mean_x = center[0]\n",
    "\n",
    "    # calculating the stdandard deviation of y ...\n",
    "    scale_y = np.sqrt(cov[1, 1]) * n_std\n",
    "    mean_y = center[1]\n",
    "\n",
    "    transf = (\n",
    "        transforms.Affine2D()\n",
    "        .rotate_deg(45)\n",
    "        .scale(scale_x, scale_y)\n",
    "        .translate(mean_x, mean_y)\n",
    "    )\n",
    "\n",
    "    ellipse.set_transform(transf + ax.transData)\n",
    "    return ax.add_patch(ellipse)\n",
    "\n",
    "\n",
    "# sigma = azfit.posterior[\"Sigma_gal\"].stack(i=[\"chain\", \"draw\"]).values\n",
    "# irand = np.random.randint(0, 4000, 500)\n",
    "# fig, ax = plt.subplots(\n",
    "#     1, 2, figsize=(8, 4), subplot_kw={\"aspect\": \"equal\"}, sharex=True, sharey=True\n",
    "# )\n",
    "# for i in irand:\n",
    "#     sel = np.meshgrid([0, 1], [0, 1], indexing=\"ij\")\n",
    "#     confidence_ellipse(sigma[sel[0], sel[1], i], ax[0], edgecolor=\"gray\", alpha=0.05)\n",
    "#     sel = np.meshgrid([0, 2], [0, 2], indexing=\"ij\")\n",
    "#     confidence_ellipse(sigma[sel[0], sel[1], i], ax[1], edgecolor=\"gray\", alpha=0.05)\n",
    "# ax[0].axis([-3,3,-3,3])"
   ]
  },
  {
   "cell_type": "code",
   "execution_count": null,
   "metadata": {
    "Collapsed": "false"
   },
   "outputs": [],
   "source": [
    "def decompose_T(T):\n",
    "    \"\"\"Decompose velocity gradient tensor to interpretable components\n",
    "\n",
    "    T : array, (3, 3) or (N, 3, 3)\n",
    "        dv_j / dv_i\n",
    "    \n",
    "    \"\"\"\n",
    "    if T.ndim == 2:\n",
    "        T = T[None]\n",
    "    if T.shape[1:] != (3, 3):\n",
    "        raise ValueError(\"`T` must have shape (3, 3) or (N, 3, 3)\")\n",
    "    omegax = 0.5 * (T[:, 2, 1] - T[:, 1, 2])\n",
    "    omegay = 0.5 * (T[:, 0, 2] - T[:, 2, 0])\n",
    "    omegaz = 0.5 * (T[:, 1, 0] - T[:, 0, 1])\n",
    "\n",
    "    w1 = 0.5 * (T[:, 2, 1] + T[:, 1, 2])\n",
    "    w2 = 0.5 * (T[:, 0, 2] + T[:, 2, 0])\n",
    "    w3 = 0.5 * (T[:, 1, 0] + T[:, 0, 1])\n",
    "    w4 = T[:, 0, 0]\n",
    "    w5 = T[:, 1, 1]\n",
    "    kappa = (w4 + w5 + T[:, 2, 2]) / 3.0\n",
    "    T = T.squeeze()\n",
    "    return dict(\n",
    "        omegax=omegax,\n",
    "        omegay=omegay,\n",
    "        omegaz=omegaz,\n",
    "        w1=w1,\n",
    "        w2=w2,\n",
    "        w3=w3,\n",
    "        w4=w4,\n",
    "        w5=w5,\n",
    "        kappa=kappa,\n",
    "    )"
   ]
  },
  {
   "cell_type": "code",
   "execution_count": null,
   "metadata": {
    "Collapsed": "false"
   },
   "outputs": [],
   "source": [
    "def rotate_T_to_galactic(T):\n",
    "    \"\"\"R T R^T\"\"\"\n",
    "    # hack rotation matrix from icrs -> galactic\n",
    "    rotmat = coord.ICRS(\n",
    "        [1, 0, 0], [0, 1, 0], [0, 0, 1], representation_type=coord.CartesianRepresentation\n",
    "    ).transform_to(coord.Galactic).cartesian.xyz.value\n",
    "    rotated_T = np.einsum('ij,njk,kl->nil', rotmat, T, rotmat.T)\n",
    "    return rotated_T"
   ]
  },
  {
   "cell_type": "code",
   "execution_count": null,
   "metadata": {
    "Collapsed": "false"
   },
   "outputs": [],
   "source": [
    "def plot_T_icrs(fit, fig=None):\n",
    "    \"\"\"Plot 3x3 grid of each component of T = dv/dx\n",
    "    \n",
    "    fit : StanFit\n",
    "        fit object\n",
    "    \"\"\"\n",
    "    if fig:\n",
    "        ax = fig.axes\n",
    "    else:\n",
    "        fig, ax = plt.subplots(3, 3, figsize=(6, 5), sharex=True, sharey=True)\n",
    "        fig.subplots_adjust(\n",
    "            bottom=0.15, top=0.92, right=0.95, left=0.1, hspace=0.05, wspace=0.05\n",
    "        )\n",
    "        ax = ax.ravel()\n",
    "    for cax, cT in zip(ax, fit[\"T_param\"].reshape((-1, 9)).T):\n",
    "        #     cax.hist(cT, bins=32, density=True, histtype=\"step\")\n",
    "        sns.distplot(cT, hist=False, ax=cax, kde_kws={'lw':1})\n",
    "        cax.axvline(0, c=\"gray\", lw=0.5)\n",
    "    fig.text(0.55, 0.05, \"m/s/pc\", ha=\"center\", va=\"center\", size=20)\n",
    "    fig.text(0.05, 0.55, \"Density\", ha=\"center\", va=\"center\", rotation=90, size=20)\n",
    "    for cax in ax:\n",
    "        cax.yaxis.set_major_formatter(ticker.NullFormatter())\n",
    "    for cax in ax:\n",
    "        cax.set_xticks([-50, 0, 50])\n",
    "    fig.suptitle(\"$T$ (ICRS)\", size=20)\n",
    "    return fig"
   ]
  },
  {
   "cell_type": "code",
   "execution_count": null,
   "metadata": {
    "Collapsed": "false"
   },
   "outputs": [],
   "source": [
    "def plot_omegas(fit):\n",
    "    \"\"\"Plot rotational component of T\n",
    "    \"\"\"\n",
    "    wT = decompose_T(fit[\"T_param\"])\n",
    "    fig, ax = plt.subplots(figsize=(4,4))\n",
    "    sns.distplot(wT[\"omegax\"], hist=False, kde_kws={'lw':1}, label=r'$\\omega_x$')\n",
    "    sns.distplot(wT[\"omegay\"], hist=False, kde_kws={'lw':1}, label=r'$\\omega_y$')\n",
    "    sns.distplot(wT[\"omegaz\"], hist=False, kde_kws={'lw':1}, label=r'$\\omega_z$')\n",
    "    omega = np.sqrt(wT[\"omegax\"] ** 2 + wT[\"omegay\"] ** 2 + wT[\"omegaz\"] ** 2)\n",
    "    print(f\"omega = {np.mean(omega)} +- {np.std(omega)}\")\n",
    "    sns.distplot(omega, hist=False, color='k', label=r'$\\omega$')\n",
    "    ax.axvline(0, c='k', lw=1)\n",
    "    ax.legend(fontsize=14)\n",
    "    ax.set_xlabel(r'$\\rm m\\,\\rm s^{-1}\\,\\rm pc^{-1}$');\n",
    "    return fig"
   ]
  },
  {
   "cell_type": "code",
   "execution_count": null,
   "metadata": {
    "Collapsed": "false"
   },
   "outputs": [],
   "source": [
    "def plot_omegas_galactic(fit):\n",
    "    \"\"\"Plot rotational component of T\n",
    "    \"\"\"\n",
    "    wT = decompose_T(rotate_T_to_galactic(fit[\"T_param\"]))\n",
    "    fig, ax = plt.subplots(figsize=(4,4))\n",
    "    sns.distplot(wT[\"omegax\"], hist=False, kde_kws={'lw':1}, label=r'$\\omega_x$')\n",
    "    sns.distplot(wT[\"omegay\"], hist=False, kde_kws={'lw':1}, label=r'$\\omega_y$')\n",
    "    sns.distplot(wT[\"omegaz\"], hist=False, kde_kws={'lw':1}, label=r'$\\omega_z$')\n",
    "    omega = np.sqrt(wT[\"omegax\"] ** 2 + wT[\"omegay\"] ** 2 + wT[\"omegaz\"] ** 2)\n",
    "    print(f\"omega = {np.mean(omega)} +- {np.std(omega)}\")\n",
    "    sns.distplot(omega, hist=False, color='k', label=r'$\\omega$')\n",
    "    ax.axvline(0, c='k', lw=1)\n",
    "    ax.legend(fontsize=14)\n",
    "    ax.set_xlabel(r'$\\rm m\\,\\rm s^{-1}\\,\\rm pc^{-1}$');\n",
    "    return fig"
   ]
  },
  {
   "cell_type": "code",
   "execution_count": null,
   "metadata": {
    "Collapsed": "false"
   },
   "outputs": [],
   "source": [
    "bovy_oort = dict(A=15.3, B=-11.9, C=-3.2, K=-3.3,\n",
    "                 stdA=0.4, stdB=0.4, stdC=0.4, stdK=0.6)"
   ]
  },
  {
   "cell_type": "code",
   "execution_count": null,
   "metadata": {
    "Collapsed": "false"
   },
   "outputs": [],
   "source": [
    "def plot_T_galactic(fit, fig=None, color=None):\n",
    "    \"\"\"Plot 3x3 grid of each component of T = dv/dx\n",
    "    \n",
    "    fit : StanFit\n",
    "        fit object\n",
    "    \"\"\"\n",
    "    if fig:\n",
    "        ax = fig.axes\n",
    "    else:\n",
    "        fig, ax = plt.subplots(3, 3, figsize=(6, 5), sharex=True, sharey=True)\n",
    "        fig.subplots_adjust(\n",
    "            bottom=0.15, top=0.92, right=0.95, left=0.1, hspace=0.05, wspace=0.05\n",
    "        )\n",
    "        ax = ax.ravel()\n",
    "    for cax, cT in zip(ax, rotate_T_to_galactic(fit[\"T_param\"]).reshape((-1, 9)).T):\n",
    "        #     cax.hist(cT, bins=32, density=True, histtype=\"step\")\n",
    "        sns.distplot(cT, hist=False, ax=cax, kde_kws={'lw':1}, color=color)\n",
    "        cax.axvline(0, c=\"gray\", lw=0.5)\n",
    "    fig.text(0.55, 0.05, \"m/s/pc\", ha=\"center\", va=\"center\", size=20)\n",
    "    fig.text(0.05, 0.55, \"Density\", ha=\"center\", va=\"center\", rotation=90, size=20)\n",
    "    for cax in ax:\n",
    "        cax.yaxis.set_major_formatter(ticker.NullFormatter())\n",
    "    for cax in ax:\n",
    "        cax.set_xticks([-50, 0, 50])\n",
    "    fig.suptitle(\"$T$ (galactic)\", size=20)\n",
    "    return fig"
   ]
  },
  {
   "cell_type": "code",
   "execution_count": null,
   "metadata": {
    "Collapsed": "false"
   },
   "outputs": [],
   "source": [
    "def add_transformed_posterior(azfit):\n",
    "    '''Add transformed posterior samples for convenience\n",
    "    \n",
    "    Added parameters:\n",
    "        - Sigma: velocity dispersion matrix, (3,3)\n",
    "        - omegax, omegay, omegaz, w1, w1, w2, w3, w5, kappa: decomposed linear velocity field parameters\n",
    "        - *_gal: quantities rotated to the Galactic frame\n",
    "    '''\n",
    "    v = azfit\n",
    "\n",
    "    for ck, cv in kn.decompose_T(v.posterior['T_param']).items():\n",
    "        v.posterior[ck]=cv\n",
    "    # Combine scale and correlation matrix of Sigma to variance matrix\n",
    "    sigv_samples, Omega_samples = v.posterior['sigv'],  v.posterior['Omega']\n",
    "    Sigma_samples = np.einsum('cni,cnij,cnj->cnij', sigv_samples, Omega_samples, sigv_samples)\n",
    "    v.posterior['Sigma'] = ('chain','draw','Simga_dim_0','Sigma_dim_1'), Sigma_samples\n",
    "    v.posterior['Sigma_gal'] = ('chain','draw','Simga_dim_0','Sigma_dim_1'), kn.rotate_T_to_galactic(Sigma_samples)\n",
    "    # Add rotated T matrix and decomposition\n",
    "    v.posterior['T_param_gal'] = ('chain','draw','dim0','dim1'), kn.rotate_T_to_galactic(v.posterior['T_param'])\n",
    "    for ck, cv in kn.decompose_T(v.posterior['T_param_gal']).items():\n",
    "        v.posterior[ck+'_gal']  = cv\n",
    "    return v"
   ]
  }
 ],
 "metadata": {
  "kernelspec": {
   "display_name": "Python 3",
   "language": "python",
   "name": "python3"
  },
  "language_info": {
   "codemirror_mode": {
    "name": "ipython",
    "version": 3
   },
   "file_extension": ".py",
   "mimetype": "text/x-python",
   "name": "python",
   "nbconvert_exporter": "python",
   "pygments_lexer": "ipython3",
   "version": "3.7.6"
  }
 },
 "nbformat": 4,
 "nbformat_minor": 4
}
