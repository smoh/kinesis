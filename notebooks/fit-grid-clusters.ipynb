{
 "cells": [
  {
   "cell_type": "code",
   "execution_count": 1,
   "metadata": {},
   "outputs": [],
   "source": [
    "import matplotlib.pyplot as plt\n",
    "import numpy as np\n",
    "import kinesis as kn\n",
    "import gapipes as gp\n",
    "import astropy.coordinates as coord\n",
    "import astropy.units as u"
   ]
  },
  {
   "cell_type": "code",
   "execution_count": 2,
   "metadata": {},
   "outputs": [],
   "source": [
    "def make_grid_cluster(ra, dec, d, v0, degsize=5.0):\n",
    "    b0 = coord.ICRS(ra * u.deg, dec * u.deg, d * u.pc).cartesian.xyz.value\n",
    "\n",
    "    ra_bins = np.linspace(ra - degsize, ra + degsize, 11)\n",
    "    dec_bins = np.linspace(dec - degsize, dec + degsize, 11)\n",
    "    ra_grid, dec_grid = np.meshgrid(ra_bins, dec_bins)\n",
    "    ra_grid = ra_grid.ravel()\n",
    "    dec_grid = dec_grid.ravel()\n",
    "    memicrs = coord.ICRS(ra_grid * u.deg, dec_grid * u.deg, [d] * ra_grid.size * u.pc)\n",
    "\n",
    "    cl = kn.Cluster(v0, 0.0, b0=b0).sample_at(memicrs)\n",
    "    return cl"
   ]
  },
  {
   "cell_type": "code",
   "execution_count": 3,
   "metadata": {},
   "outputs": [
    {
     "data": {
      "text/plain": [
       "<kinesis.mock.ClusterMembers at 0x1a28e23490>"
      ]
     },
     "execution_count": 3,
     "metadata": {},
     "output_type": "execute_result"
    }
   ],
   "source": [
    "v0 = [5., 5., 7.07106781]\n",
    "cl1 = make_grid_cluster(45, 45, 100, v0)\n",
    "\n",
    "#10% error\n",
    "cov = np.array([np.diag(X) for X in np.abs(cl1.members.truth[['parallax','pmra','pmdec']].values)*0.01])\n",
    "cl1.members.observe(cov=cov, rv_error=[1]*cl1.N)"
   ]
  },
  {
   "cell_type": "code",
   "execution_count": 4,
   "metadata": {},
   "outputs": [
    {
     "name": "stderr",
     "output_type": "stream",
     "text": [
      "INFO:kinesis.models:Reading model from disk\n"
     ]
    }
   ],
   "source": [
    "model = kn.get_model('allcombined')"
   ]
  },
  {
   "cell_type": "code",
   "execution_count": 17,
   "metadata": {},
   "outputs": [],
   "source": [
    "D = cl1.members.observed\n",
    "irv = np.where(D['radial_velocity'].notnull().values)[0]\n",
    "standata = dict(\n",
    "    ra=D['ra'].values,\n",
    "    dec=D['dec'].values,\n",
    "    a=D[['parallax','pmra','pmdec']].values,\n",
    "    C=D.g.make_cov(),\n",
    "    N=len(D),\n",
    "    Nrv=D['radial_velocity'].notnull().sum(),\n",
    "    irv=irv,\n",
    "    rv=D['radial_velocity'].values[irv],\n",
    "    rv_error=D['radial_velocity_error'].values[irv],\n",
    "    include_T=1,\n",
    "    b0=cl1.b0\n",
    ")\n",
    "def init():\n",
    "    return dict(d=1e3/D['parallax'],v0=[-2,3,0], sigv=[1,1,1], Omega=np.eye(3),T=np.zeros(shape=(1,3,3)),v0_bg=[0,0,0],f_mem=0.9,sigv_bg=50.0)"
   ]
  },
  {
   "cell_type": "code",
   "execution_count": 18,
   "metadata": {},
   "outputs": [],
   "source": [
    "r = model.optimizing(data=standata, init=init)"
   ]
  },
  {
   "cell_type": "code",
   "execution_count": 19,
   "metadata": {},
   "outputs": [
    {
     "data": {
      "text/plain": [
       "array([-1.99927524e+00,  2.99906990e+00,  8.71244555e-05])"
      ]
     },
     "execution_count": 19,
     "metadata": {},
     "output_type": "execute_result"
    }
   ],
   "source": [
    "r['v0']"
   ]
  },
  {
   "cell_type": "code",
   "execution_count": null,
   "metadata": {},
   "outputs": [],
   "source": [
    "r = model.sampling(data=standata, init=init)"
   ]
  },
  {
   "cell_type": "code",
   "execution_count": 10,
   "metadata": {},
   "outputs": [
    {
     "data": {
      "text/plain": [
       "array([3.99493183e-05, 3.99325871e-05, 3.91479581e-04])"
      ]
     },
     "execution_count": 10,
     "metadata": {},
     "output_type": "execute_result"
    }
   ],
   "source": [
    "r['sigv']"
   ]
  },
  {
   "cell_type": "code",
   "execution_count": null,
   "metadata": {},
   "outputs": [],
   "source": []
  }
 ],
 "metadata": {
  "kernelspec": {
   "display_name": "Python 3",
   "language": "python",
   "name": "python3"
  },
  "language_info": {
   "codemirror_mode": {
    "name": "ipython",
    "version": 3
   },
   "file_extension": ".py",
   "mimetype": "text/x-python",
   "name": "python",
   "nbconvert_exporter": "python",
   "pygments_lexer": "ipython3",
   "version": "3.7.7"
  }
 },
 "nbformat": 4,
 "nbformat_minor": 4
}
