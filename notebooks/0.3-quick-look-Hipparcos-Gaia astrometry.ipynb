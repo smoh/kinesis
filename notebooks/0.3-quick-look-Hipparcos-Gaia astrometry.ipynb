{
 "cells": [
  {
   "cell_type": "code",
   "execution_count": 1,
   "metadata": {},
   "outputs": [],
   "source": [
    "\"\"\"A look at Hipparcos-Gaia catalog by T. Brandt\"\"\"\n",
    "%matplotlib inline\n",
    "\n",
    "import matplotlib.pyplot as plt\n",
    "from matplotlib import colors\n",
    "import pandas as pd\n",
    "import numpy as np\n",
    "from astropy.table import Table\n",
    "import astropy.units as u\n",
    "import astropy.coordinates as coords\n",
    "\n",
    "import gapipes as gp\n",
    "import kinesis as kn"
   ]
  },
  {
   "cell_type": "code",
   "execution_count": 2,
   "metadata": {},
   "outputs": [],
   "source": [
    "t = Table.read(\"/home/soh/data/brandt_hipparcos_gaia/HGCA_vDR2_corrected.fits\")"
   ]
  },
  {
   "cell_type": "code",
   "execution_count": 5,
   "metadata": {},
   "outputs": [
    {
     "data": {
      "text/plain": [
       "['hip_id',\n",
       " 'gaia_source_id',\n",
       " 'gaia_ra',\n",
       " 'gaia_dec',\n",
       " 'radial_velocity',\n",
       " 'radial_velocity_error',\n",
       " 'radial_velocity_source',\n",
       " 'parallax_gaia',\n",
       " 'parallax_gaia_error',\n",
       " 'pmra_gaia',\n",
       " 'pmdec_gaia',\n",
       " 'pmra_gaia_error',\n",
       " 'pmdec_gaia_error',\n",
       " 'pmra_pmdec_gaia',\n",
       " 'pmra_hg',\n",
       " 'pmdec_hg',\n",
       " 'pmra_hg_error',\n",
       " 'pmdec_hg_error',\n",
       " 'pmra_pmdec_hg',\n",
       " 'pmra_hip',\n",
       " 'pmdec_hip',\n",
       " 'pmra_hip_error',\n",
       " 'pmdec_hip_error',\n",
       " 'pmra_pmdec_hip',\n",
       " 'epoch_ra_gaia',\n",
       " 'epoch_dec_gaia',\n",
       " 'epoch_ra_hip',\n",
       " 'epoch_dec_hip',\n",
       " 'crosscal_pmra_hip',\n",
       " 'crosscal_pmdec_hip',\n",
       " 'crosscal_pmra_hg',\n",
       " 'crosscal_pmdec_hg',\n",
       " 'nonlinear_dpmra',\n",
       " 'nonlinear_dpmdec']"
      ]
     },
     "execution_count": 5,
     "metadata": {},
     "output_type": "execute_result"
    }
   ],
   "source": [
    "t.colnames"
   ]
  },
  {
   "cell_type": "code",
   "execution_count": 6,
   "metadata": {},
   "outputs": [
    {
     "name": "stdout",
     "output_type": "stream",
     "text": [
      "115663 rows\n"
     ]
    }
   ],
   "source": [
    "print(\"{:d} rows\".format(len(t)))"
   ]
  },
  {
   "cell_type": "code",
   "execution_count": 3,
   "metadata": {},
   "outputs": [
    {
     "data": {
      "text/html": [
       "<div>\n",
       "<style scoped>\n",
       "    .dataframe tbody tr th:only-of-type {\n",
       "        vertical-align: middle;\n",
       "    }\n",
       "\n",
       "    .dataframe tbody tr th {\n",
       "        vertical-align: top;\n",
       "    }\n",
       "\n",
       "    .dataframe thead th {\n",
       "        text-align: right;\n",
       "    }\n",
       "</style>\n",
       "<table border=\"1\" class=\"dataframe\">\n",
       "  <thead>\n",
       "    <tr style=\"text-align: right;\">\n",
       "      <th></th>\n",
       "      <th>hip_id</th>\n",
       "      <th>gaia_source_id</th>\n",
       "      <th>gaia_ra</th>\n",
       "      <th>gaia_dec</th>\n",
       "      <th>radial_velocity</th>\n",
       "      <th>radial_velocity_error</th>\n",
       "      <th>radial_velocity_source</th>\n",
       "      <th>parallax_gaia</th>\n",
       "      <th>parallax_gaia_error</th>\n",
       "      <th>pmra_gaia</th>\n",
       "      <th>...</th>\n",
       "      <th>epoch_ra_gaia</th>\n",
       "      <th>epoch_dec_gaia</th>\n",
       "      <th>epoch_ra_hip</th>\n",
       "      <th>epoch_dec_hip</th>\n",
       "      <th>crosscal_pmra_hip</th>\n",
       "      <th>crosscal_pmdec_hip</th>\n",
       "      <th>crosscal_pmra_hg</th>\n",
       "      <th>crosscal_pmdec_hg</th>\n",
       "      <th>nonlinear_dpmra</th>\n",
       "      <th>nonlinear_dpmdec</th>\n",
       "    </tr>\n",
       "  </thead>\n",
       "  <tbody>\n",
       "    <tr>\n",
       "      <th>0</th>\n",
       "      <td>1</td>\n",
       "      <td>2738327528519591936</td>\n",
       "      <td>0.000872</td>\n",
       "      <td>1.088979</td>\n",
       "      <td>8.260943</td>\n",
       "      <td>0.264233</td>\n",
       "      <td>b'Gaia_DR2'</td>\n",
       "      <td>5.432988</td>\n",
       "      <td>0.060613</td>\n",
       "      <td>-0.656125</td>\n",
       "      <td>...</td>\n",
       "      <td>2015.602116</td>\n",
       "      <td>2015.370208</td>\n",
       "      <td>1991.551294</td>\n",
       "      <td>1991.275083</td>\n",
       "      <td>-0.168654</td>\n",
       "      <td>0.284637</td>\n",
       "      <td>-0.107510</td>\n",
       "      <td>0.097344</td>\n",
       "      <td>6.544803e-06</td>\n",
       "      <td>0.000006</td>\n",
       "    </tr>\n",
       "    <tr>\n",
       "      <th>1</th>\n",
       "      <td>2</td>\n",
       "      <td>2341871673090078592</td>\n",
       "      <td>0.005087</td>\n",
       "      <td>-19.498840</td>\n",
       "      <td>NaN</td>\n",
       "      <td>NaN</td>\n",
       "      <td>b'None'</td>\n",
       "      <td>25.120768</td>\n",
       "      <td>0.319277</td>\n",
       "      <td>163.520340</td>\n",
       "      <td>...</td>\n",
       "      <td>2015.365796</td>\n",
       "      <td>2015.375835</td>\n",
       "      <td>1991.471657</td>\n",
       "      <td>1991.423366</td>\n",
       "      <td>-0.215981</td>\n",
       "      <td>0.369768</td>\n",
       "      <td>-0.105511</td>\n",
       "      <td>0.113484</td>\n",
       "      <td>1.573401e-06</td>\n",
       "      <td>0.000677</td>\n",
       "    </tr>\n",
       "    <tr>\n",
       "      <th>2</th>\n",
       "      <td>3</td>\n",
       "      <td>2881742980523997824</td>\n",
       "      <td>0.005059</td>\n",
       "      <td>38.859269</td>\n",
       "      <td>0.000000</td>\n",
       "      <td>4.200000</td>\n",
       "      <td>b'XHIP'</td>\n",
       "      <td>2.889209</td>\n",
       "      <td>0.075184</td>\n",
       "      <td>5.939648</td>\n",
       "      <td>...</td>\n",
       "      <td>2015.749445</td>\n",
       "      <td>2015.646277</td>\n",
       "      <td>1990.849412</td>\n",
       "      <td>1991.049844</td>\n",
       "      <td>-0.074981</td>\n",
       "      <td>0.323018</td>\n",
       "      <td>0.045580</td>\n",
       "      <td>0.102365</td>\n",
       "      <td>-6.918422e-07</td>\n",
       "      <td>-0.000002</td>\n",
       "    </tr>\n",
       "    <tr>\n",
       "      <th>3</th>\n",
       "      <td>4</td>\n",
       "      <td>4973386040722654336</td>\n",
       "      <td>0.009061</td>\n",
       "      <td>-51.893537</td>\n",
       "      <td>NaN</td>\n",
       "      <td>NaN</td>\n",
       "      <td>b'None'</td>\n",
       "      <td>7.329419</td>\n",
       "      <td>0.036094</td>\n",
       "      <td>61.799679</td>\n",
       "      <td>...</td>\n",
       "      <td>2015.601347</td>\n",
       "      <td>2015.578224</td>\n",
       "      <td>1991.011733</td>\n",
       "      <td>1991.180826</td>\n",
       "      <td>-0.015010</td>\n",
       "      <td>0.323483</td>\n",
       "      <td>-0.078017</td>\n",
       "      <td>0.110980</td>\n",
       "      <td>-6.113603e-06</td>\n",
       "      <td>0.000290</td>\n",
       "    </tr>\n",
       "    <tr>\n",
       "      <th>4</th>\n",
       "      <td>5</td>\n",
       "      <td>2305974989264598272</td>\n",
       "      <td>0.009974</td>\n",
       "      <td>-40.591166</td>\n",
       "      <td>20.197311</td>\n",
       "      <td>0.174826</td>\n",
       "      <td>b'Gaia_DR2'</td>\n",
       "      <td>2.560365</td>\n",
       "      <td>0.056405</td>\n",
       "      <td>0.967055</td>\n",
       "      <td>...</td>\n",
       "      <td>2015.960607</td>\n",
       "      <td>2015.344691</td>\n",
       "      <td>1991.098048</td>\n",
       "      <td>1991.479839</td>\n",
       "      <td>-0.177676</td>\n",
       "      <td>0.073271</td>\n",
       "      <td>-0.077208</td>\n",
       "      <td>0.081199</td>\n",
       "      <td>-1.753704e-06</td>\n",
       "      <td>-0.000011</td>\n",
       "    </tr>\n",
       "  </tbody>\n",
       "</table>\n",
       "<p>5 rows × 34 columns</p>\n",
       "</div>"
      ],
      "text/plain": [
       "   hip_id       gaia_source_id   gaia_ra   gaia_dec  radial_velocity  \\\n",
       "0       1  2738327528519591936  0.000872   1.088979         8.260943   \n",
       "1       2  2341871673090078592  0.005087 -19.498840              NaN   \n",
       "2       3  2881742980523997824  0.005059  38.859269         0.000000   \n",
       "3       4  4973386040722654336  0.009061 -51.893537              NaN   \n",
       "4       5  2305974989264598272  0.009974 -40.591166        20.197311   \n",
       "\n",
       "   radial_velocity_error radial_velocity_source  parallax_gaia  \\\n",
       "0               0.264233            b'Gaia_DR2'       5.432988   \n",
       "1                    NaN                b'None'      25.120768   \n",
       "2               4.200000                b'XHIP'       2.889209   \n",
       "3                    NaN                b'None'       7.329419   \n",
       "4               0.174826            b'Gaia_DR2'       2.560365   \n",
       "\n",
       "   parallax_gaia_error   pmra_gaia  ...  epoch_ra_gaia  epoch_dec_gaia  \\\n",
       "0             0.060613   -0.656125  ...    2015.602116     2015.370208   \n",
       "1             0.319277  163.520340  ...    2015.365796     2015.375835   \n",
       "2             0.075184    5.939648  ...    2015.749445     2015.646277   \n",
       "3             0.036094   61.799679  ...    2015.601347     2015.578224   \n",
       "4             0.056405    0.967055  ...    2015.960607     2015.344691   \n",
       "\n",
       "   epoch_ra_hip  epoch_dec_hip  crosscal_pmra_hip  crosscal_pmdec_hip  \\\n",
       "0   1991.551294    1991.275083          -0.168654            0.284637   \n",
       "1   1991.471657    1991.423366          -0.215981            0.369768   \n",
       "2   1990.849412    1991.049844          -0.074981            0.323018   \n",
       "3   1991.011733    1991.180826          -0.015010            0.323483   \n",
       "4   1991.098048    1991.479839          -0.177676            0.073271   \n",
       "\n",
       "   crosscal_pmra_hg  crosscal_pmdec_hg  nonlinear_dpmra  nonlinear_dpmdec  \n",
       "0         -0.107510           0.097344     6.544803e-06          0.000006  \n",
       "1         -0.105511           0.113484     1.573401e-06          0.000677  \n",
       "2          0.045580           0.102365    -6.918422e-07         -0.000002  \n",
       "3         -0.078017           0.110980    -6.113603e-06          0.000290  \n",
       "4         -0.077208           0.081199    -1.753704e-06         -0.000011  \n",
       "\n",
       "[5 rows x 34 columns]"
      ]
     },
     "execution_count": 3,
     "metadata": {},
     "output_type": "execute_result"
    }
   ],
   "source": [
    "hg = t.to_pandas()\n",
    "hg.head()"
   ]
  },
  {
   "cell_type": "code",
   "execution_count": 11,
   "metadata": {},
   "outputs": [
    {
     "data": {
      "text/html": [
       "<div>\n",
       "<style scoped>\n",
       "    .dataframe tbody tr th:only-of-type {\n",
       "        vertical-align: middle;\n",
       "    }\n",
       "\n",
       "    .dataframe tbody tr th {\n",
       "        vertical-align: top;\n",
       "    }\n",
       "\n",
       "    .dataframe thead th {\n",
       "        text-align: right;\n",
       "    }\n",
       "</style>\n",
       "<table border=\"1\" class=\"dataframe\">\n",
       "  <thead>\n",
       "    <tr style=\"text-align: right;\">\n",
       "      <th></th>\n",
       "      <th>hip_id</th>\n",
       "      <th>gaia_source_id</th>\n",
       "      <th>pmra_hip</th>\n",
       "      <th>pmra_hg</th>\n",
       "      <th>pmra_gaia</th>\n",
       "    </tr>\n",
       "  </thead>\n",
       "  <tbody>\n",
       "    <tr>\n",
       "      <th>0</th>\n",
       "      <td>1</td>\n",
       "      <td>2738327528519591936</td>\n",
       "      <td>-5.015876</td>\n",
       "      <td>-6.006098</td>\n",
       "      <td>-0.656125</td>\n",
       "    </tr>\n",
       "    <tr>\n",
       "      <th>1</th>\n",
       "      <td>2</td>\n",
       "      <td>2341871673090078592</td>\n",
       "      <td>183.116516</td>\n",
       "      <td>181.367004</td>\n",
       "      <td>163.520340</td>\n",
       "    </tr>\n",
       "    <tr>\n",
       "      <th>2</th>\n",
       "      <td>3</td>\n",
       "      <td>2881742980523997824</td>\n",
       "      <td>4.570159</td>\n",
       "      <td>5.811018</td>\n",
       "      <td>5.939648</td>\n",
       "    </tr>\n",
       "    <tr>\n",
       "      <th>3</th>\n",
       "      <td>4</td>\n",
       "      <td>4973386040722654336</td>\n",
       "      <td>62.694077</td>\n",
       "      <td>61.911324</td>\n",
       "      <td>61.799679</td>\n",
       "    </tr>\n",
       "    <tr>\n",
       "      <th>4</th>\n",
       "      <td>5</td>\n",
       "      <td>2305974989264598272</td>\n",
       "      <td>1.839309</td>\n",
       "      <td>0.915046</td>\n",
       "      <td>0.967055</td>\n",
       "    </tr>\n",
       "  </tbody>\n",
       "</table>\n",
       "</div>"
      ],
      "text/plain": [
       "   hip_id       gaia_source_id    pmra_hip     pmra_hg   pmra_gaia\n",
       "0       1  2738327528519591936   -5.015876   -6.006098   -0.656125\n",
       "1       2  2341871673090078592  183.116516  181.367004  163.520340\n",
       "2       3  2881742980523997824    4.570159    5.811018    5.939648\n",
       "3       4  4973386040722654336   62.694077   61.911324   61.799679\n",
       "4       5  2305974989264598272    1.839309    0.915046    0.967055"
      ]
     },
     "execution_count": 11,
     "metadata": {},
     "output_type": "execute_result"
    }
   ],
   "source": [
    "hg[['hip_id', 'gaia_source_id', 'pmra_hip', 'pmra_hg', 'pmra_gaia']].head()"
   ]
  },
  {
   "cell_type": "code",
   "execution_count": 5,
   "metadata": {},
   "outputs": [],
   "source": [
    "gdr2 = gp.gaia.query_sourceid(hg[['gaia_source_id']].head(100), 'gaia_source_id')"
   ]
  },
  {
   "cell_type": "code",
   "execution_count": 8,
   "metadata": {},
   "outputs": [],
   "source": [
    "top100_merged = hg[['hip_id', 'gaia_source_id', 'pmra_gaia', 'pmra_gaia_error', 'pmra_pmdec_gaia']].head(100)\\\n",
    "    .merge(gdr2[['source_id', 'pmra', 'pmra_error', 'pmra_pmdec_corr']], left_on='gaia_source_id', right_on='source_id')"
   ]
  },
  {
   "cell_type": "code",
   "execution_count": 12,
   "metadata": {},
   "outputs": [
    {
     "data": {
      "text/html": [
       "<div>\n",
       "<style scoped>\n",
       "    .dataframe tbody tr th:only-of-type {\n",
       "        vertical-align: middle;\n",
       "    }\n",
       "\n",
       "    .dataframe tbody tr th {\n",
       "        vertical-align: top;\n",
       "    }\n",
       "\n",
       "    .dataframe thead th {\n",
       "        text-align: right;\n",
       "    }\n",
       "</style>\n",
       "<table border=\"1\" class=\"dataframe\">\n",
       "  <thead>\n",
       "    <tr style=\"text-align: right;\">\n",
       "      <th></th>\n",
       "      <th>pmra_gaia_error</th>\n",
       "      <th>pmra_error</th>\n",
       "    </tr>\n",
       "  </thead>\n",
       "  <tbody>\n",
       "    <tr>\n",
       "      <th>0</th>\n",
       "      <td>0.176379</td>\n",
       "      <td>0.114490</td>\n",
       "    </tr>\n",
       "    <tr>\n",
       "      <th>1</th>\n",
       "      <td>0.798096</td>\n",
       "      <td>0.498232</td>\n",
       "    </tr>\n",
       "    <tr>\n",
       "      <th>2</th>\n",
       "      <td>0.141411</td>\n",
       "      <td>0.080281</td>\n",
       "    </tr>\n",
       "    <tr>\n",
       "      <th>3</th>\n",
       "      <td>0.071697</td>\n",
       "      <td>0.040128</td>\n",
       "    </tr>\n",
       "    <tr>\n",
       "      <th>4</th>\n",
       "      <td>0.097043</td>\n",
       "      <td>0.058752</td>\n",
       "    </tr>\n",
       "  </tbody>\n",
       "</table>\n",
       "</div>"
      ],
      "text/plain": [
       "   pmra_gaia_error  pmra_error\n",
       "0         0.176379    0.114490\n",
       "1         0.798096    0.498232\n",
       "2         0.141411    0.080281\n",
       "3         0.071697    0.040128\n",
       "4         0.097043    0.058752"
      ]
     },
     "execution_count": 12,
     "metadata": {},
     "output_type": "execute_result"
    }
   ],
   "source": [
    "top100_merged[['pmra_gaia_error', 'pmra_error']].head()"
   ]
  },
  {
   "cell_type": "code",
   "execution_count": 14,
   "metadata": {},
   "outputs": [
    {
     "data": {
      "text/plain": [
       "<matplotlib.axes._subplots.AxesSubplot at 0x7f8864203be0>"
      ]
     },
     "execution_count": 14,
     "metadata": {},
     "output_type": "execute_result"
    },
    {
     "data": {
      "image/png": "[encoded data removed]",
      "text/plain": [
       "<Figure size 432x288 with 1 Axes>"
      ]
     },
     "metadata": {
      "needs_background": "light"
     },
     "output_type": "display_data"
    }
   ],
   "source": [
    "(top100_merged['pmra_gaia_error']/top100_merged['pmra_error']).hist()"
   ]
  },
  {
   "cell_type": "code",
   "execution_count": 6,
   "metadata": {},
   "outputs": [],
   "source": [
    "dr2hy = pd.read_csv(\"/Users/semyeong/projects/spelunky/oh17-dr2/dr2_vL_clusters_full.csv\")\\\n",
    "    .groupby('cluster').get_group('Hyades')"
   ]
  },
  {
   "cell_type": "code",
   "execution_count": 13,
   "metadata": {},
   "outputs": [
    {
     "name": "stdout",
     "output_type": "stream",
     "text": [
      "116 515\n"
     ]
    }
   ],
   "source": [
    "merged = dr2hy[['source_id']].merge(hg, left_on='source_id', right_on='gaia_source_id')\n",
    "print(len(merged), len(dr2hy))"
   ]
  },
  {
   "cell_type": "code",
   "execution_count": 17,
   "metadata": {},
   "outputs": [
    {
     "data": {
      "text/plain": [
       "Index(['radial_velocity_error', 'parallax_gaia_error', 'pmra_gaia_error',\n",
       "       'pmdec_gaia_error', 'pmra_hg_error', 'pmdec_hg_error', 'pmra_hip_error',\n",
       "       'pmdec_hip_error'],\n",
       "      dtype='object')"
      ]
     },
     "execution_count": 17,
     "metadata": {},
     "output_type": "execute_result"
    }
   ],
   "source": [
    "hg.columns[hg.columns.str.contains('error')]"
   ]
  },
  {
   "cell_type": "code",
   "execution_count": 19,
   "metadata": {},
   "outputs": [
    {
     "data": {
      "text/html": [
       "<div>\n",
       "<style scoped>\n",
       "    .dataframe tbody tr th:only-of-type {\n",
       "        vertical-align: middle;\n",
       "    }\n",
       "\n",
       "    .dataframe tbody tr th {\n",
       "        vertical-align: top;\n",
       "    }\n",
       "\n",
       "    .dataframe thead th {\n",
       "        text-align: right;\n",
       "    }\n",
       "</style>\n",
       "<table border=\"1\" class=\"dataframe\">\n",
       "  <thead>\n",
       "    <tr style=\"text-align: right;\">\n",
       "      <th></th>\n",
       "      <th>pmra_gaia_error</th>\n",
       "      <th>pmra_hg_error</th>\n",
       "      <th>pmra_hip_error</th>\n",
       "    </tr>\n",
       "  </thead>\n",
       "  <tbody>\n",
       "    <tr>\n",
       "      <th>count</th>\n",
       "      <td>115663.000000</td>\n",
       "      <td>115663.000000</td>\n",
       "      <td>115663.000000</td>\n",
       "    </tr>\n",
       "    <tr>\n",
       "      <th>mean</th>\n",
       "      <td>0.205895</td>\n",
       "      <td>0.051429</td>\n",
       "      <td>1.243846</td>\n",
       "    </tr>\n",
       "    <tr>\n",
       "      <th>std</th>\n",
       "      <td>0.313539</td>\n",
       "      <td>1.761634</td>\n",
       "      <td>6.905654</td>\n",
       "    </tr>\n",
       "    <tr>\n",
       "      <th>min</th>\n",
       "      <td>0.035714</td>\n",
       "      <td>0.012242</td>\n",
       "      <td>0.290032</td>\n",
       "    </tr>\n",
       "    <tr>\n",
       "      <th>25%</th>\n",
       "      <td>0.098864</td>\n",
       "      <td>0.025313</td>\n",
       "      <td>0.701109</td>\n",
       "    </tr>\n",
       "    <tr>\n",
       "      <th>50%</th>\n",
       "      <td>0.131165</td>\n",
       "      <td>0.032535</td>\n",
       "      <td>0.935782</td>\n",
       "    </tr>\n",
       "    <tr>\n",
       "      <th>75%</th>\n",
       "      <td>0.176812</td>\n",
       "      <td>0.043777</td>\n",
       "      <td>1.297568</td>\n",
       "    </tr>\n",
       "    <tr>\n",
       "      <th>max</th>\n",
       "      <td>4.319538</td>\n",
       "      <td>589.754089</td>\n",
       "      <td>2263.550781</td>\n",
       "    </tr>\n",
       "  </tbody>\n",
       "</table>\n",
       "</div>"
      ],
      "text/plain": [
       "       pmra_gaia_error  pmra_hg_error  pmra_hip_error\n",
       "count    115663.000000  115663.000000   115663.000000\n",
       "mean          0.205895       0.051429        1.243846\n",
       "std           0.313539       1.761634        6.905654\n",
       "min           0.035714       0.012242        0.290032\n",
       "25%           0.098864       0.025313        0.701109\n",
       "50%           0.131165       0.032535        0.935782\n",
       "75%           0.176812       0.043777        1.297568\n",
       "max           4.319538     589.754089     2263.550781"
      ]
     },
     "execution_count": 19,
     "metadata": {},
     "output_type": "execute_result"
    }
   ],
   "source": [
    "hg[['pmra_gaia_error', 'pmra_hg_error', 'pmra_hip_error']].describe()"
   ]
  },
  {
   "cell_type": "code",
   "execution_count": 20,
   "metadata": {},
   "outputs": [
    {
     "data": {
      "text/html": [
       "<div>\n",
       "<style scoped>\n",
       "    .dataframe tbody tr th:only-of-type {\n",
       "        vertical-align: middle;\n",
       "    }\n",
       "\n",
       "    .dataframe tbody tr th {\n",
       "        vertical-align: top;\n",
       "    }\n",
       "\n",
       "    .dataframe thead th {\n",
       "        text-align: right;\n",
       "    }\n",
       "</style>\n",
       "<table border=\"1\" class=\"dataframe\">\n",
       "  <thead>\n",
       "    <tr style=\"text-align: right;\">\n",
       "      <th></th>\n",
       "      <th>pmra_gaia_error</th>\n",
       "      <th>pmra_hg_error</th>\n",
       "      <th>pmra_hip_error</th>\n",
       "    </tr>\n",
       "  </thead>\n",
       "  <tbody>\n",
       "    <tr>\n",
       "      <th>count</th>\n",
       "      <td>116.000000</td>\n",
       "      <td>116.000000</td>\n",
       "      <td>116.000000</td>\n",
       "    </tr>\n",
       "    <tr>\n",
       "      <th>mean</th>\n",
       "      <td>0.356149</td>\n",
       "      <td>0.046424</td>\n",
       "      <td>1.442794</td>\n",
       "    </tr>\n",
       "    <tr>\n",
       "      <th>std</th>\n",
       "      <td>0.349809</td>\n",
       "      <td>0.024232</td>\n",
       "      <td>0.840010</td>\n",
       "    </tr>\n",
       "    <tr>\n",
       "      <th>min</th>\n",
       "      <td>0.108887</td>\n",
       "      <td>0.021203</td>\n",
       "      <td>0.550761</td>\n",
       "    </tr>\n",
       "    <tr>\n",
       "      <th>25%</th>\n",
       "      <td>0.160801</td>\n",
       "      <td>0.027865</td>\n",
       "      <td>0.832959</td>\n",
       "    </tr>\n",
       "    <tr>\n",
       "      <th>50%</th>\n",
       "      <td>0.210200</td>\n",
       "      <td>0.036889</td>\n",
       "      <td>1.190504</td>\n",
       "    </tr>\n",
       "    <tr>\n",
       "      <th>75%</th>\n",
       "      <td>0.341849</td>\n",
       "      <td>0.057524</td>\n",
       "      <td>1.756173</td>\n",
       "    </tr>\n",
       "    <tr>\n",
       "      <th>max</th>\n",
       "      <td>1.672062</td>\n",
       "      <td>0.132329</td>\n",
       "      <td>5.007300</td>\n",
       "    </tr>\n",
       "  </tbody>\n",
       "</table>\n",
       "</div>"
      ],
      "text/plain": [
       "       pmra_gaia_error  pmra_hg_error  pmra_hip_error\n",
       "count       116.000000     116.000000      116.000000\n",
       "mean          0.356149       0.046424        1.442794\n",
       "std           0.349809       0.024232        0.840010\n",
       "min           0.108887       0.021203        0.550761\n",
       "25%           0.160801       0.027865        0.832959\n",
       "50%           0.210200       0.036889        1.190504\n",
       "75%           0.341849       0.057524        1.756173\n",
       "max           1.672062       0.132329        5.007300"
      ]
     },
     "execution_count": 20,
     "metadata": {},
     "output_type": "execute_result"
    }
   ],
   "source": [
    "merged[['pmra_gaia_error', 'pmra_hg_error', 'pmra_hip_error']].describe()"
   ]
  },
  {
   "cell_type": "code",
   "execution_count": 21,
   "metadata": {},
   "outputs": [],
   "source": [
    "import seaborn as sns"
   ]
  },
  {
   "cell_type": "code",
   "execution_count": 27,
   "metadata": {},
   "outputs": [],
   "source": [
    "plt.style.use('smoh')"
   ]
  },
  {
   "cell_type": "code",
   "execution_count": 44,
   "metadata": {},
   "outputs": [
    {
     "data": {
      "text/plain": [
       "Text(0.5, 0, 'error [mas/yr]')"
      ]
     },
     "execution_count": 44,
     "metadata": {},
     "output_type": "execute_result"
    },
    {
     "data": {
      "image/png": "[encoded data removed]",
      "text/plain": [
       "<Figure size 960x480 with 2 Axes>"
      ]
     },
     "metadata": {
      "needs_background": "light"
     },
     "output_type": "display_data"
    }
   ],
   "source": [
    "fig, ax = plt.subplots(1, 2, figsize=(8, 4))\n",
    "plt.sca(ax[0])\n",
    "sns.distplot(merged['pmra_gaia_error'].values);\n",
    "sns.distplot(merged['pmra_hg_error'].values);\n",
    "sns.distplot(dr2hy['pmra_error'].values)\n",
    "plt.xlabel('pmerror [mas/yr]')\n",
    "plt.sca(ax[1])\n",
    "sns.distplot(merged['pmdec_gaia_error'].values);\n",
    "sns.distplot(merged['pmdec_hg_error'].values);\n",
    "sns.distplot(dr2hy['pmdec_error'].values)\n",
    "plt.xlabel('error [mas/yr]')"
   ]
  },
  {
   "cell_type": "code",
   "execution_count": null,
   "metadata": {},
   "outputs": [],
   "source": [
    "g.plot_joint()"
   ]
  },
  {
   "cell_type": "code",
   "execution_count": 42,
   "metadata": {},
   "outputs": [
    {
     "data": {
      "text/plain": [
       "count    515.000000\n",
       "mean       0.205516\n",
       "std        0.163796\n",
       "min        0.063822\n",
       "25%        0.109419\n",
       "50%        0.153356\n",
       "75%        0.228624\n",
       "max        0.972919\n",
       "Name: pmra_error, dtype: float64"
      ]
     },
     "execution_count": 42,
     "metadata": {},
     "output_type": "execute_result"
    }
   ],
   "source": [
    "dr2hy['pmra_error'].describe()"
   ]
  },
  {
   "cell_type": "code",
   "execution_count": 41,
   "metadata": {},
   "outputs": [
    {
     "data": {
      "image/png": "[encoded data removed]",
      "text/plain": [
       "<Figure size 720x720 with 3 Axes>"
      ]
     },
     "metadata": {
      "needs_background": "light"
     },
     "output_type": "display_data"
    }
   ],
   "source": [
    "g = sns.jointplot('pmra_gaia_error', 'pmra_hg_error', data=merged)\n",
    "# g.plot_joint('pmra_hg_error', 'pmdec_hg_error', data=merged)"
   ]
  },
  {
   "cell_type": "code",
   "execution_count": null,
   "metadata": {},
   "outputs": [],
   "source": []
  }
 ],
 "metadata": {
  "kernelspec": {
   "display_name": "Python 3",
   "language": "python",
   "name": "python3"
  },
  "language_info": {
   "codemirror_mode": {
    "name": "ipython",
    "version": 3
   },
   "file_extension": ".py",
   "mimetype": "text/x-python",
   "name": "python",
   "nbconvert_exporter": "python",
   "pygments_lexer": "ipython3",
   "version": "3.7.3"
  },
  "toc": {
   "base_numbering": 1,
   "nav_menu": {},
   "number_sections": true,
   "sideBar": true,
   "skip_h1_title": false,
   "title_cell": "Table of Contents",
   "title_sidebar": "Contents",
   "toc_cell": false,
   "toc_position": {},
   "toc_section_display": true,
   "toc_window_display": false
  },
  "toc-autonumbering": true
 },
 "nbformat": 4,
 "nbformat_minor": 2
}
