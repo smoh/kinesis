{
 "cells": [
  {
   "cell_type": "code",
   "execution_count": 5,
   "metadata": {
    "Collapsed": "false",
    "tags": [
     "setup"
    ]
   },
   "outputs": [],
   "source": [
    "import matplotlib.pyplot as plt\n",
    "from matplotlib import colors, ticker\n",
    "import pandas as pd\n",
    "import numpy as np\n",
    "import scipy as sp\n",
    "from astropy.table import Table\n",
    "import astropy.units as u\n",
    "import astropy.coordinates as coord\n",
    "import seaborn as sns\n",
    "from astroquery.simbad import Simbad\n",
    "from astroquery.vizier import Vizier\n",
    "\n",
    "import kinesis as kn\n",
    "import gapipes as gp"
   ]
  },
  {
   "cell_type": "code",
   "execution_count": 11,
   "metadata": {},
   "outputs": [],
   "source": [
    "Vizier.ROW_LIMIT = -1   # query the entire catalog\n",
    "\n",
    "# Cantat-Gaudin2019\n",
    "original = Vizier.get_catalogs(\"J/A+A/626/A17\")[0]"
   ]
  },
  {
   "cell_type": "code",
   "execution_count": 17,
   "metadata": {},
   "outputs": [
    {
     "data": {
      "text/html": [
       "<i>Table length=3</i>\n",
       "<table id=\"table140315392764432\" class=\"table-striped table-bordered table-condensed\">\n",
       "<thead><tr><th>RA_ICRS</th><th>DE_ICRS</th><th>Source</th><th>Plx</th><th>pmRA</th><th>pmDE</th><th>Gmag</th><th>BPmag</th><th>RPmag</th><th>BP-RP</th><th>RV</th><th>Prob</th><th>X</th><th>Y</th><th>Z</th><th>Pop</th><th>_RA.icrs</th><th>_DE.icrs</th></tr></thead>\n",
       "<thead><tr><th>deg</th><th>deg</th><th></th><th>mas</th><th>mas / yr</th><th>mas / yr</th><th>mag</th><th>mag</th><th>mag</th><th>mag</th><th>km / s</th><th></th><th>pc</th><th>pc</th><th>pc</th><th></th><th>deg</th><th>deg</th></tr></thead>\n",
       "<thead><tr><th>float64</th><th>float64</th><th>int64</th><th>float64</th><th>float64</th><th>float64</th><th>float64</th><th>float64</th><th>float64</th><th>float64</th><th>float64</th><th>float64</th><th>float64</th><th>float64</th><th>float64</th><th>uint8</th><th>float64</th><th>float64</th></tr></thead>\n",
       "<tr><td>134.23483232489099</td><td>-52.018017978003300</td><td>5323770984573837952</td><td>1.8695433046610599</td><td>-11.8383283592489992</td><td>10.2508919696444991</td><td>16.1572590</td><td>17.1580770</td><td>15.1583800</td><td>1.9996977</td><td>--</td><td>0.58999999999999997</td><td>-2.424564</td><td>-525.162357</td><td>-39.082</td><td>1</td><td>134.23491514826000</td><td>-52.018062113759100</td></tr>\n",
       "<tr><td>132.12813846002800</td><td>-50.501289379279903</td><td>5327807223033954560</td><td>2.0036062280529801</td><td>-12.5864882300014003</td><td>9.9565231752849304</td><td>17.9356920</td><td>19.4035500</td><td>16.7464200</td><td>2.6571293</td><td>--</td><td>0.56000000000000005</td><td>15.511423</td><td>-490.532648</td><td>-36.919</td><td>1</td><td>132.12822365922401</td><td>-50.501332247612503</td></tr>\n",
       "<tr><td>132.23734508272699</td><td>-47.131631392836297</td><td>5329515451797653504</td><td>1.9767949368642901</td><td>-12.1018534745413007</td><td>10.7664000222310001</td><td>11.8132990</td><td>12.0949150</td><td>11.3830900</td><td>0.7118254</td><td>17.080925230010599591</td><td>0.95999999999999996</td><td>38.026797</td><td>-497.305191</td><td>-18.508</td><td>1</td><td>132.23742167246101</td><td>-47.131677748144199</td></tr>\n",
       "</table>"
      ],
      "text/plain": [
       "<Table length=3>\n",
       "     RA_ICRS             DE_ICRS       ...       _DE.icrs     \n",
       "       deg                 deg         ...         deg        \n",
       "     float64             float64       ...       float64      \n",
       "------------------ ------------------- ... -------------------\n",
       "134.23483232489099 -52.018017978003300 ... -52.018062113759100\n",
       "132.12813846002800 -50.501289379279903 ... -50.501332247612503\n",
       "132.23734508272699 -47.131631392836297 ... -47.131677748144199"
      ]
     },
     "execution_count": 17,
     "metadata": {},
     "output_type": "execute_result"
    }
   ],
   "source": [
    "original[:3]"
   ]
  },
  {
   "cell_type": "code",
   "execution_count": 14,
   "metadata": {},
   "outputs": [],
   "source": [
    "table_fulldr2 = gp.gaia.query_sourceid(original[['Source']], 'Source')"
   ]
  },
  {
   "cell_type": "code",
   "execution_count": 15,
   "metadata": {},
   "outputs": [],
   "source": [
    "assert set(table_fulldr2['source_id']) == set(original['Source'])"
   ]
  },
  {
   "cell_type": "code",
   "execution_count": 19,
   "metadata": {},
   "outputs": [],
   "source": [
    "ct2019_columns = [\"Prob\", \"Pop\"]\n",
    "table_fulldr2_ct2019 = table_fulldr2.merge(\n",
    "    original[[\"Source\"] + ct2019_columns]\n",
    "    .to_pandas()\n",
    "    .rename(columns={\"Source\": \"source_id\"}),\n",
    "    on=\"source_id\",\n",
    ")"
   ]
  },
  {
   "cell_type": "code",
   "execution_count": 21,
   "metadata": {},
   "outputs": [
    {
     "data": {
      "text/plain": [
       "1     185\n",
       "2    2390\n",
       "3     879\n",
       "4    3961\n",
       "5     431\n",
       "6     782\n",
       "7    3215\n",
       "Name: Pop, dtype: int64"
      ]
     },
     "execution_count": 21,
     "metadata": {},
     "output_type": "execute_result"
    }
   ],
   "source": [
    "table_fulldr2_ct2019['Pop'].value_counts().sort_index()"
   ]
  },
  {
   "cell_type": "code",
   "execution_count": 22,
   "metadata": {},
   "outputs": [],
   "source": [
    "grp = table_fulldr2_ct2019.groupby('Pop')\n",
    "srcdf = grp.get_group(7)"
   ]
  },
  {
   "cell_type": "code",
   "execution_count": 28,
   "metadata": {},
   "outputs": [
    {
     "name": "stderr",
     "output_type": "stream",
     "text": [
      "INFO:kinesis.models:Reading model from disk\n"
     ]
    },
    {
     "name": "stdout",
     "output_type": "stream",
     "text": [
      "3215 rows\n",
      "b0 = [-137.31710115  226.26638412 -270.67434907]\n"
     ]
    }
   ],
   "source": [
    "necessary_columns = [\n",
    "    \"ra\",\n",
    "    \"dec\",\n",
    "    \"phot_g_mean_mag\",\n",
    "    \"parallax\",\n",
    "    \"pmra\",\n",
    "    \"pmdec\",\n",
    "    \"parallax_error\",\n",
    "    \"pmra_error\",\n",
    "    \"pmdec_error\",\n",
    "    \"parallax_pmra_corr\",\n",
    "    \"parallax_pmdec_corr\",\n",
    "    \"pmra_pmdec_corr\",\n",
    "]\n",
    "data = srcdf[\n",
    "    necessary_columns + [\"radial_velocity\", \"radial_velocity_error\"]\n",
    "].copy()\n",
    "b0 = data.g.icrs.cartesian.xyz.value.mean(axis=1)\n",
    "print(f\"{len(data)} rows\")\n",
    "print(f\"b0 = {b0}\")\n",
    "\n",
    "N = len(data)\n",
    "irv = np.arange(N)[data[\"radial_velocity\"].notna()]\n",
    "rv = data[\"radial_velocity\"].values[irv]\n",
    "rv_error = data[\"radial_velocity_error\"].values[irv]\n",
    "data_dict = {\n",
    "    \"N\": N,\n",
    "    \"Nrv\": data[\"radial_velocity\"].notna().sum(),\n",
    "    \"ra\": data[\"ra\"].values,\n",
    "    \"dec\": data[\"dec\"].values,\n",
    "    \"a\": data[[\"parallax\", \"pmra\", \"pmdec\"]].values,\n",
    "    \"C\": data.g.make_cov(),\n",
    "    \"irv\": irv,\n",
    "    \"rv\": rv,\n",
    "    \"rv_error\": rv_error,\n",
    "    \"include_T\": 1,\n",
    "    \"b0\": b0,\n",
    "}\n",
    "\n",
    "def stan_init():\n",
    "    return dict(\n",
    "        d=1e3 / data[\"parallax\"].values,\n",
    "        sigv=[0.5, 0.5, 0.5],\n",
    "        Omega=np.eye(3),\n",
    "        v0=[-5, 45, -5],\n",
    "        T=np.zeros(shape=(1, 3, 3)),\n",
    "        v0_bg=[0, 0, 0],\n",
    "        sigv_bg=50.0,\n",
    "        f_mem=0.95,\n",
    "    )\n",
    "\n",
    "stanmodel = kn.get_model(\"allcombined\")\n",
    "fit = stanmodel.optimizing(\n",
    "    data=data_dict,\n",
    "    init=stan_init,\n",
    "#     pars=[\n",
    "#         \"v0\",\n",
    "#         \"sigv\",\n",
    "#         \"Omega\",\n",
    "#         \"T_param\",\n",
    "#         \"v0_bg\",\n",
    "#         \"sigv_bg\",\n",
    "#         \"f_mem\",\n",
    "#         \"probmem\",\n",
    "#         \"a_model\",\n",
    "#         \"rv_model\",\n",
    "#     ],\n",
    ")\n",
    "# kn.save_stanfit(fit, outfile)"
   ]
  },
  {
   "cell_type": "code",
   "execution_count": 50,
   "metadata": {},
   "outputs": [
    {
     "data": {
      "text/plain": [
       "array([-3.96219368, 27.20013532, -2.79674747])"
      ]
     },
     "execution_count": 50,
     "metadata": {},
     "output_type": "execute_result"
    }
   ],
   "source": [
    "fit['v0']"
   ]
  },
  {
   "cell_type": "code",
   "execution_count": 54,
   "metadata": {},
   "outputs": [
    {
     "data": {
      "text/plain": [
       "<matplotlib.collections.PathCollection at 0x7f9db1ebb550>"
      ]
     },
     "execution_count": 54,
     "metadata": {},
     "output_type": "execute_result"
    },
    {
     "data": {
      "image/png": "[encoded data removed]",
      "text/plain": [
       "<Figure size 432x288 with 1 Axes>"
      ]
     },
     "metadata": {
      "needs_background": "light"
     },
     "output_type": "display_data"
    }
   ],
   "source": [
    "vxyz = srcdf.g.icrs.velocity.d_xyz.value\n",
    "xyz = srcdf.g.icrs.cartesian.xyz.value\n",
    "plt.scatter(vxyz[0],vxyz[1])"
   ]
  },
  {
   "cell_type": "code",
   "execution_count": 58,
   "metadata": {},
   "outputs": [
    {
     "data": {
      "image/png": "[encoded data removed]",
      "text/plain": [
       "<Figure size 600x400 with 1 Axes>"
      ]
     },
     "metadata": {
      "needs_background": "light"
     },
     "output_type": "display_data"
    }
   ],
   "source": [
    "fig, ax = plt.subplots(dpi=100)\n",
    "for l, g in grp:\n",
    "    vxyz = g.g.icrs.velocity.d_xyz.value\n",
    "\n",
    "    ax.scatter(vxyz[0],vxyz[1], s=1)"
   ]
  },
  {
   "cell_type": "code",
   "execution_count": null,
   "metadata": {},
   "outputs": [],
   "source": []
  }
 ],
 "metadata": {
  "kernelspec": {
   "display_name": "Python 3",
   "language": "python",
   "name": "python3"
  },
  "language_info": {
   "codemirror_mode": {
    "name": "ipython",
    "version": 3
   },
   "file_extension": ".py",
   "mimetype": "text/x-python",
   "name": "python",
   "nbconvert_exporter": "python",
   "pygments_lexer": "ipython3",
   "version": "3.7.6"
  }
 },
 "nbformat": 4,
 "nbformat_minor": 4
}
