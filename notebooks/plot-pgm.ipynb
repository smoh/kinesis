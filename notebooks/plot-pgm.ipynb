{
 "cells": [
  {
   "cell_type": "code",
   "execution_count": null,
   "metadata": {},
   "outputs": [],
   "source": [
    "\"\"\"Plot graphical model for the full model\"\"\""
   ]
  },
  {
   "cell_type": "code",
   "execution_count": null,
   "metadata": {},
   "outputs": [],
   "source": [
    "%matplotlib inline\n",
    "import matplotlib\n",
    "import matplotlib.pyplot as plt\n",
    "import daft\n",
    "\n",
    "print(f\"matplotlib=={matplotlib.__version__}\")\n",
    "print(f\"daft=={daft.__version__}\")"
   ]
  },
  {
   "cell_type": "code",
   "execution_count": null,
   "metadata": {},
   "outputs": [],
   "source": [
    "plt.style.use('smoh')\n",
    "\n",
    "plt.rc(\"font\", family=\"serif\", size=12)\n",
    "plt.rc(\"text\", usetex=True)\n",
    "plt.rc('text.latex', preamble=[r'\\usepackage{bm}', r'\\usepackage{amsmath}'])"
   ]
  },
  {
   "cell_type": "code",
   "execution_count": null,
   "metadata": {},
   "outputs": [],
   "source": [
    "pgm = daft.PGM(observed_style='outer')\n",
    "\n",
    "nuisance_params = dict(edgecolor=\"C7\", linewidth=0.5)\n",
    "pgm.add_node(\"v0_bg\", r\"$\\vec{v}_{0,\\,\\mathrm{bg}}$\", 1, 1, plot_params=nuisance_params)\n",
    "pgm.add_node(\"sigv_bg\", r\"$\\sigma_{v,\\,\\mathrm{bg}}$\", 2, 1, plot_params=nuisance_params)\n",
    "pgm.add_node(\"f_mem\", r\"$f_{\\mathrm{mem}}$\", 3, 1, plot_params=nuisance_params)\n",
    "\n",
    "key_params = dict(edgecolor=\"C1\", lw=1.5)\n",
    "pgm.add_node(\"v0\", r\"$\\vec{v}_0$\", 4, 1, plot_params=key_params)\n",
    "pgm.add_node(\"sigv\", r\"$\\bm{\\Sigma}$\", 5, 1, plot_params=key_params)\n",
    "pgm.add_node(\"T\", r\"$\\frac{dv_i}{dv_j}$\", 6, 1, plot_params=key_params)\n",
    "\n",
    "pgm.add_node(\"v\", r\"$\\vec{v}$\", 3, 2)\n",
    "pgm.add_node(\"d\", r\"$d$\", 2, 2)\n",
    "\n",
    "pgm.add_node(\"a\", r\"$\\vec{a}$\", 3, 3, observed=True)\n",
    "pgm.add_node(\"cov_a\", r\"$\\bm{C}_{\\vec{a}}$\", 2, 3, fixed=True)\n",
    "\n",
    "\n",
    "pgm.add_node(\"pos\", r\"$(\\alpha,\\,\\delta)$\", 3.7, 2.4, fixed=True, offset=[0, 6])\n",
    "pgm.add_node(\"rv\", r\"$v_r$\", 4.5, 2, observed=True)\n",
    "pgm.add_node(\"rv_err\", r\"$\\sigma_\\mathrm{RV}$\", 5.3, 2, fixed=True)\n",
    "\n",
    "# Add in the edges.\n",
    "pgm.add_edge(\"d\", \"a\")\n",
    "pgm.add_edge(\"cov_a\", \"a\")\n",
    "pgm.add_edge(\"v\", \"a\")\n",
    "\n",
    "pgm.add_edge(\"pos\", \"a\")\n",
    "pgm.add_edge(\"pos\", \"rv\", zorder=-5)\n",
    "\n",
    "pgm.add_edge(\"v\", \"rv\")\n",
    "pgm.add_edge(\"rv_err\", \"rv\")\n",
    "\n",
    "pgm.add_edge(\"v0_bg\", \"v\")\n",
    "pgm.add_edge(\"sigv_bg\", \"v\")\n",
    "pgm.add_edge(\"f_mem\", \"v\")\n",
    "pgm.add_edge(\"v0\", \"v\")\n",
    "pgm.add_edge(\"sigv\", \"v\")\n",
    "pgm.add_edge(\"T\", \"v\")\n",
    "\n",
    "# Plates\n",
    "pgm.add_plate([1.5, 1.5, 2.5, 2], label=r\"$N$\", shift=-0.1)\n",
    "pgm.add_plate(\n",
    "    [2.6, 1.5, 3, 1], label=r\"$N_\\mathrm{rv}$\", shift=0, position=\"bottom right\"\n",
    ")\n",
    "\n",
    "# Render and save.\n",
    "pgm.render()\n",
    "pgm.savefig(\"../report/plots/pgm_fullmodel.pdf\", dpi=150)"
   ]
  }
 ],
 "metadata": {
  "kernelspec": {
   "display_name": "Python 3",
   "language": "python",
   "name": "python3"
  },
  "language_info": {
   "codemirror_mode": {
    "name": "ipython",
    "version": 3
   },
   "file_extension": ".py",
   "mimetype": "text/x-python",
   "name": "python",
   "nbconvert_exporter": "python",
   "pygments_lexer": "ipython3",
   "version": "3.7.6"
  }
 },
 "nbformat": 4,
 "nbformat_minor": 4
}
