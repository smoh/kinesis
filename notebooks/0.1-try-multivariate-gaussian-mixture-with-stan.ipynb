{
 "cells": [
  {
   "cell_type": "code",
   "execution_count": 1,
   "metadata": {},
   "outputs": [],
   "source": [
    "import numpy as np\n",
    "import scipy as sp\n",
    "import matplotlib.pyplot as plt\n",
    "import pystan"
   ]
  },
  {
   "cell_type": "code",
   "execution_count": 2,
   "metadata": {},
   "outputs": [],
   "source": [
    "K = 2\n",
    "N = 500\n",
    "theta = np.r_[0.3, 0.7]\n",
    "mu = np.r_[-1, 2]\n",
    "sigma = np.r_[1, 5]\n",
    "n = (N * theta).astype(int)\n",
    "y = np.hstack(\n",
    "    [np.random.normal(loc, scale, size=size) for loc, scale, size in zip(mu, sigma, n)]\n",
    ")"
   ]
  },
  {
   "cell_type": "code",
   "execution_count": 3,
   "metadata": {},
   "outputs": [
    {
     "data": {
      "text/plain": [
       "[<matplotlib.lines.Line2D at 0x7f7a7d565358>]"
      ]
     },
     "execution_count": 3,
     "metadata": {},
     "output_type": "execute_result"
    },
    {
     "data": {
      "image/png": "[encoded data removed]",
      "text/plain": [
       "<Figure size 432x288 with 1 Axes>"
      ]
     },
     "metadata": {
      "needs_background": "light"
     },
     "output_type": "display_data"
    }
   ],
   "source": [
    "plt.hist(y, color='grey', alpha=.5, bins=32, density=True);\n",
    "plt.xlabel('y');\n",
    "\n",
    "x = np.linspace(-15,15,201)\n",
    "s = 0\n",
    "for t, loc, scale, size in zip(theta, mu, sigma, n):\n",
    "    comp = sp.stats.norm(loc, scale).pdf(x)*t\n",
    "    s += comp\n",
    "    plt.plot(x, comp)\n",
    "plt.plot(x, s, c='k')"
   ]
  },
  {
   "cell_type": "code",
   "execution_count": 4,
   "metadata": {},
   "outputs": [
    {
     "name": "stderr",
     "output_type": "stream",
     "text": [
      "INFO:pystan:COMPILING THE C++ CODE FOR MODEL anon_model_46dd26dfb3e9fdd16ba31affe58a64b4 NOW.\n",
      "/home/soh/.conda/envs/matrix/lib/python3.7/site-packages/Cython/Compiler/Main.py:367: FutureWarning: Cython directive 'language_level' not set, using 2 for now (Py2). This will change in a later release! File: /tmp/tmpdvhp_5hs/stanfit4anon_model_46dd26dfb3e9fdd16ba31affe58a64b4_5948726869431033333.pyx\n",
      "  tree = Parsing.p_module(s, pxd, full_module_name)\n"
     ]
    },
    {
     "name": "stdout",
     "output_type": "stream",
     "text": [
      "CPU times: user 746 ms, sys: 421 ms, total: 1.17 s\n",
      "Wall time: 1min\n"
     ]
    }
   ],
   "source": [
    "%%time\n",
    "stan_model = \"\"\"\n",
    "data {\n",
    "  int<lower=1> K;          // number of mixture components\n",
    "  int<lower=1> N;          // number of data points\n",
    "  real y[N];               // observations\n",
    "}\n",
    "parameters {\n",
    "  simplex[K] theta;          // mixing proportions\n",
    "  vector[K] mu;             // locations of mixture components\n",
    "  vector<lower=0>[K] sigma;  // scales of mixture components\n",
    "}\n",
    "model {\n",
    "  vector[K] log_theta = log(theta);  // cache log calculation\n",
    "  sigma ~ lognormal(0, 2);\n",
    "  mu ~ normal(0, 10);\n",
    "  for (n in 1:N) {\n",
    "    vector[K] lps = log_theta;\n",
    "    for (k in 1:K)\n",
    "    lps[k] += normal_lpdf(y[n] | mu[k], sigma[k]);\n",
    "    target += log_sum_exp(lps);\n",
    "  }\n",
    "}\n",
    "\"\"\"\n",
    "model1d = pystan.StanModel(model_code=stan_model)"
   ]
  },
  {
   "cell_type": "code",
   "execution_count": 5,
   "metadata": {},
   "outputs": [],
   "source": [
    "data = dict(\n",
    "    K=2,\n",
    "    N=N,\n",
    "    y=y\n",
    ")\n",
    "def init():\n",
    "    return dict(\n",
    "        theta=[0.5, 0.5],\n",
    "        mu = [0, 2],\n",
    "        sigma = [5, 5]\n",
    "    )\n",
    "r = model1d.sampling(data=data, init=init)"
   ]
  },
  {
   "cell_type": "code",
   "execution_count": 6,
   "metadata": {},
   "outputs": [
    {
     "data": {
      "text/plain": [
       "Inference for Stan model: anon_model_46dd26dfb3e9fdd16ba31affe58a64b4.\n",
       "4 chains, each with iter=2000; warmup=1000; thin=1; \n",
       "post-warmup draws per chain=1000, total post-warmup draws=4000.\n",
       "\n",
       "           mean se_mean     sd   2.5%    25%    50%    75%  97.5%  n_eff   Rhat\n",
       "theta[1]   0.26  6.2e-4   0.04   0.19   0.23   0.26   0.28   0.33   3271    1.0\n",
       "theta[2]   0.74  6.2e-4   0.04   0.67   0.72   0.74   0.77   0.81   3271    1.0\n",
       "mu[1]      -1.1  2.3e-3   0.13  -1.35  -1.19  -1.11  -1.01  -0.84   3417    1.0\n",
       "mu[2]      2.11  4.6e-3   0.29   1.55   1.92   2.11   2.31    2.7   3974    1.0\n",
       "sigma[1]   0.82  2.2e-3   0.12    0.6   0.73   0.82    0.9   1.08   3171    1.0\n",
       "sigma[2]   5.08  3.4e-3    0.2   4.71   4.93   5.07   5.22   5.49   3622    1.0\n",
       "lp__      -1430    0.04   1.61  -1434  -1431  -1430  -1429  -1428   1996    1.0\n",
       "\n",
       "Samples were drawn using NUTS at Tue Jul  9 16:07:43 2019.\n",
       "For each parameter, n_eff is a crude measure of effective sample size,\n",
       "and Rhat is the potential scale reduction factor on split chains (at \n",
       "convergence, Rhat=1)."
      ]
     },
     "execution_count": 6,
     "metadata": {},
     "output_type": "execute_result"
    }
   ],
   "source": [
    "r"
   ]
  },
  {
   "cell_type": "code",
   "execution_count": 72,
   "metadata": {},
   "outputs": [
    {
     "name": "stdout",
     "output_type": "stream",
     "text": [
      "[[ 0.8657162  -0.00111545]\n",
      " [-0.00111545  1.00103526]] [-1.01072444  2.00541312]\n",
      "[[5.41398063 0.21292483]\n",
      " [0.21292483 9.59244857]] [ 2.98355395 -0.09189563]\n"
     ]
    }
   ],
   "source": [
    "K = 2\n",
    "N = 500\n",
    "theta = np.r_[0.95, 0.05]\n",
    "mu = np.array([[-1, 2], [3, 0]])\n",
    "sigma = np.stack([np.eye(2), np.eye(2)*9])\n",
    "n = (N * theta).astype(int)\n",
    "y = []\n",
    "for loc, scale, size in zip(mu, sigma, n):\n",
    "    cy = np.random.multivariate_normal(loc, scale, size=size)\n",
    "    print(np.cov(cy.T), np.mean(cy, axis=0))\n",
    "    y.append(cy)\n",
    "y = np.vstack(y)"
   ]
  },
  {
   "cell_type": "code",
   "execution_count": 73,
   "metadata": {},
   "outputs": [
    {
     "data": {
      "text/plain": [
       "array([475,  25])"
      ]
     },
     "execution_count": 73,
     "metadata": {},
     "output_type": "execute_result"
    }
   ],
   "source": [
    "n"
   ]
  },
  {
   "cell_type": "code",
   "execution_count": 74,
   "metadata": {},
   "outputs": [
    {
     "data": {
      "image/png": "[encoded data removed]",
      "text/plain": [
       "<Figure size 432x288 with 1 Axes>"
      ]
     },
     "metadata": {
      "needs_background": "light"
     },
     "output_type": "display_data"
    }
   ],
   "source": [
    "plt.scatter(y.T[0], y.T[1]);"
   ]
  },
  {
   "cell_type": "code",
   "execution_count": 8,
   "metadata": {},
   "outputs": [
    {
     "data": {
      "text/plain": [
       "[<matplotlib.lines.Line2D at 0x7f50ec3da080>]"
      ]
     },
     "execution_count": 8,
     "metadata": {},
     "output_type": "execute_result"
    },
    {
     "data": {
      "image/png": "[encoded data removed]",
      "text/plain": [
       "<Figure size 432x288 with 1 Axes>"
      ]
     },
     "metadata": {
      "needs_background": "light"
     },
     "output_type": "display_data"
    }
   ],
   "source": [
    "plt.hist(y.T[0], color='grey', alpha=.5, bins=32, density=True);\n",
    "plt.xlabel('y');\n",
    "\n",
    "x = np.linspace(-15,15,201)\n",
    "x = np.c_[x, np.zeros(201)]\n",
    "s = 0\n",
    "for t, loc, scale, size in zip(theta, mu, sigma, n):\n",
    "    comp = sp.stats.multivariate_normal(loc, scale).pdf(x)*t\n",
    "    s += comp\n",
    "    plt.plot(x.T[0], comp)\n",
    "plt.plot(x.T[0], s, c='k')"
   ]
  },
  {
   "cell_type": "code",
   "execution_count": 40,
   "metadata": {},
   "outputs": [
    {
     "name": "stderr",
     "output_type": "stream",
     "text": [
      "INFO:pystan:COMPILING THE C++ CODE FOR MODEL anon_model_947f30a84d454a04ecb52e9e58fc4d24 NOW.\n",
      "/home/soh/.conda/envs/matrix/lib/python3.7/site-packages/Cython/Compiler/Main.py:367: FutureWarning: Cython directive 'language_level' not set, using 2 for now (Py2). This will change in a later release! File: /tmp/tmp8xmc5tk4/stanfit4anon_model_947f30a84d454a04ecb52e9e58fc4d24_731483330699587950.pyx\n",
      "  tree = Parsing.p_module(s, pxd, full_module_name)\n"
     ]
    }
   ],
   "source": [
    "stan_model = \"\"\"\n",
    "data {\n",
    "  int<lower=1> D;          // number of dimensions\n",
    "  int<lower=1> K;          // number of mixture components\n",
    "  int<lower=1> N;          // number of data points\n",
    "  vector[D] y[N];               // observations\n",
    "}\n",
    "parameters {\n",
    "  simplex[K] theta;             // mixing proportions\n",
    "  vector[D] mu[K];             // locations of mixture components\n",
    "  cholesky_factor_corr[D] L[K];  \n",
    "}\n",
    "model {\n",
    "  vector[K] log_theta = log(theta);  // cache log calculation\n",
    "  for (k in 1:K) {\n",
    "    mu[k] ~ normal(0, 10);\n",
    "    L[k] ~ lkj_corr_cholesky(2);\n",
    "  }\n",
    "  \n",
    "  for (n in 1:N) {\n",
    "    vector[K] lps = log_theta;\n",
    "    for (k in 1:K)\n",
    "      lps[k] += multi_normal_cholesky_lpdf(y[n] | mu[k], L[k]);\n",
    "    target += log_sum_exp(lps);\n",
    "  }\n",
    "}\n",
    "generated quantities {\n",
    "  vector[K] prob[N];\n",
    "  for (n in 1:N) {\n",
    "      for (k in 1:K) {\n",
    "        prob[n][k] = theta[k] * exp(multi_normal_cholesky_lpdf(y[n] | mu[k], L[k]));\n",
    "      }\n",
    "  }\n",
    "}\n",
    "\"\"\"\n",
    "modeldd = pystan.StanModel(model_code=stan_model)"
   ]
  },
  {
   "cell_type": "code",
   "execution_count": 76,
   "metadata": {},
   "outputs": [
    {
     "name": "stderr",
     "output_type": "stream",
     "text": [
      "WARNING:pystan:n_eff / iter for parameter L[1,1,1] is nan!\n",
      "WARNING:pystan:n_eff / iter for parameter L[2,1,1] is nan!\n",
      "WARNING:pystan:n_eff / iter for parameter L[1,1,2] is nan!\n",
      "WARNING:pystan:n_eff / iter for parameter L[2,1,2] is nan!\n",
      "WARNING:pystan:n_eff / iter below 0.001 indicates that the effective sample size has likely been overestimated\n",
      "WARNING:pystan:Rhat for parameter L[1,1,1] is nan!\n",
      "WARNING:pystan:Rhat for parameter L[2,1,1] is nan!\n",
      "WARNING:pystan:Rhat for parameter L[1,1,2] is nan!\n",
      "WARNING:pystan:Rhat for parameter L[2,1,2] is nan!\n",
      "WARNING:pystan:Rhat above 1.1 or below 0.9 indicates that the chains very likely have not mixed\n"
     ]
    }
   ],
   "source": [
    "data = dict(\n",
    "    K=2,\n",
    "    D=2,\n",
    "    N=N,\n",
    "    y=y\n",
    ")\n",
    "def init():\n",
    "    return dict(\n",
    "        theta=[0.9, 0.1],\n",
    "        mu = np.array([[-1, 2],[0,3]]).T,\n",
    "#         mu = np.array([[-1, 1],[0, 2]]).T,\n",
    "        sigma = np.stack([np.eye(2), np.eye(2)*25])\n",
    "    )\n",
    "r = modeldd.sampling(data=data, init=init)# iter=10000)"
   ]
  },
  {
   "cell_type": "code",
   "execution_count": 77,
   "metadata": {},
   "outputs": [
    {
     "name": "stderr",
     "output_type": "stream",
     "text": [
      "WARNING:pystan:Truncated summary with the 'fit.__repr__' method. For the full summary use 'print(fit)'\n"
     ]
    },
    {
     "data": {
      "text/plain": [
       "\n",
       "Warning: Shown data is truncated to 100 parameters\n",
       "For the full summary use 'print(fit)'\n",
       "\n",
       "Inference for Stan model: anon_model_947f30a84d454a04ecb52e9e58fc4d24.\n",
       "4 chains, each with iter=2000; warmup=1000; thin=1; \n",
       "post-warmup draws per chain=1000, total post-warmup draws=4000.\n",
       "\n",
       "             mean se_mean     sd   2.5%    25%    50%    75%  97.5%  n_eff   Rhat\n",
       "theta[1]     0.97  9.8e-5 7.6e-3   0.95   0.96   0.97   0.97   0.98   5971    1.0\n",
       "theta[2]     0.03  9.8e-5 7.6e-3   0.02   0.03   0.03   0.04   0.05   5971    1.0\n",
       "mu[1,1]     -0.95  6.0e-4   0.05  -1.04  -0.98  -0.95  -0.92  -0.86   5872    1.0\n",
       "mu[2,1]      3.99  3.8e-3   0.28   3.45    3.8   3.98   4.18   4.52   5386    1.0\n",
       "mu[1,2]      2.01  6.1e-4   0.05   1.92   1.98   2.01   2.05    2.1   5794    1.0\n",
       "mu[2,2]     -1.93  3.7e-3   0.27  -2.45  -2.12  -1.93  -1.74  -1.39   5425    1.0\n",
       "L[1,1,1]      1.0     nan    0.0    1.0    1.0    1.0    1.0    1.0    nan    nan\n",
       "L[2,1,1]      1.0     nan    0.0    1.0    1.0    1.0    1.0    1.0    nan    nan\n",
       "L[1,2,1]     0.04  5.7e-4   0.04  -0.04   0.01   0.04   0.07   0.13   5745    1.0\n",
       "L[2,2,1]     0.46  1.1e-3   0.08   0.28   0.41   0.47   0.52   0.62   6189    1.0\n",
       "L[1,1,2]      0.0     nan    0.0    0.0    0.0    0.0    0.0    0.0    nan    nan\n",
       "L[2,1,2]      0.0     nan    0.0    0.0    0.0    0.0    0.0    0.0    nan    nan\n",
       "L[1,2,2]      1.0  3.7e-5 2.2e-3   0.99    1.0    1.0    1.0    1.0   3702    1.0\n",
       "L[2,2,2]     0.88  5.7e-4   0.04   0.79   0.85   0.88   0.91   0.96   5992    1.0\n",
       "prob[1,1]    0.12  5.2e-5 4.0e-3   0.12   0.12   0.12   0.13   0.13   5853    1.0\n",
       "prob[2,1]    0.03  4.3e-5 3.4e-3   0.03   0.03   0.03   0.04   0.04   6086    1.0\n",
       "prob[3,1]    0.12  5.2e-5 4.1e-3   0.11   0.12   0.12   0.13   0.13   6134    1.0\n",
       "prob[4,1]    0.04  4.6e-5 3.4e-3   0.04   0.04   0.04   0.05   0.05   5567    1.0\n",
       "prob[5,1]    0.06  5.6e-5 4.3e-3   0.05   0.05   0.06   0.06   0.06   5843    1.0\n",
       "prob[6,1]    0.03  3.9e-5 3.0e-3   0.02   0.03   0.03   0.03   0.04   6091    1.0\n",
       "prob[7,1]    0.08  6.2e-5 4.8e-3   0.07   0.07   0.08   0.08   0.09   6013    1.0\n",
       "prob[8,1]    0.07  5.8e-5 4.5e-3   0.06   0.07   0.07   0.07   0.08   5980    1.0\n",
       "prob[9,1]  9.9e-3  2.0e-5 1.5e-3 7.1e-3 8.9e-3 9.8e-3   0.01   0.01   6038    1.0\n",
       "prob[10,1]   0.15  2.7e-5 2.0e-3   0.15   0.15   0.15   0.15   0.15   5337    1.0\n",
       "prob[11,1]   0.14  4.3e-5 3.4e-3   0.13   0.13   0.14   0.14   0.14   6073    1.0\n",
       "prob[12,1]   0.03  3.3e-5 2.5e-3   0.02   0.02   0.03   0.03   0.03   5565    1.0\n",
       "prob[13,1]   0.12  5.2e-5 3.9e-3   0.12   0.12   0.12   0.13   0.13   5715    1.0\n",
       "prob[14,1]   0.07  5.4e-5 4.1e-3   0.06   0.07   0.07   0.07   0.08   5809    1.0\n",
       "prob[15,1]   0.03  4.1e-5 3.0e-3   0.02   0.03   0.03   0.03   0.04   5490    1.0\n",
       "prob[16,1]   0.03  3.5e-5 2.7e-3   0.03   0.03   0.03   0.04   0.04   5986    1.0\n",
       "prob[17,1] 9.5e-3  1.4e-5 1.1e-3 7.6e-3 8.7e-3 9.5e-3   0.01   0.01   5833    1.0\n",
       "prob[18,1]   0.09  5.8e-5 4.4e-3   0.08   0.09   0.09    0.1    0.1   5712    1.0\n",
       "prob[19,1]   0.11  5.9e-5 4.7e-3    0.1    0.1   0.11   0.11   0.12   6203    1.0\n",
       "prob[20,1]   0.03  3.4e-5 2.6e-3   0.03   0.03   0.03   0.03   0.04   5812    1.0\n",
       "prob[21,1]   0.14  3.4e-5 2.7e-3   0.14   0.14   0.14   0.15   0.15   6471    1.0\n",
       "prob[22,1] 8.7e-4  3.1e-6 2.3e-4 5.0e-4 7.1e-4 8.5e-4 1.0e-3 1.4e-3   5330    1.0\n",
       "prob[23,1]   0.12  5.2e-5 4.0e-3   0.12   0.12   0.12   0.13   0.13   5910    1.0\n",
       "prob[24,1]   0.04  5.1e-5 4.0e-3   0.03   0.04   0.04   0.04   0.05   6205    1.0\n",
       "prob[25,1] 1.7e-3  4.9e-6 3.7e-4 1.1e-3 1.4e-3 1.7e-3 1.9e-3 2.5e-3   5531    1.0\n",
       "prob[26,1]   0.09  6.0e-5 4.5e-3   0.08   0.09   0.09    0.1    0.1   5658    1.0\n",
       "prob[27,1]   0.08  5.8e-5 4.3e-3   0.07   0.08   0.08   0.08   0.09   5663    1.0\n",
       "prob[28,1]   0.05  5.3e-5 3.9e-3   0.04   0.05   0.05   0.06   0.06   5574    1.0\n",
       "prob[29,1]   0.06  4.9e-5 3.8e-3   0.05   0.05   0.06   0.06   0.07   6000    1.0\n",
       "prob[30,1]   0.11  5.7e-5 4.3e-3    0.1   0.11   0.11   0.11   0.12   5727    1.0\n",
       "prob[31,1]   0.14  4.4e-5 3.5e-3   0.13   0.13   0.14   0.14   0.14   6087    1.0\n",
       "prob[32,1]   0.12  5.4e-5 4.1e-3   0.11   0.12   0.12   0.12   0.13   5709    1.0\n",
       "prob[33,1]   0.14  4.0e-5 3.0e-3   0.13   0.14   0.14   0.14   0.15   5596    1.0\n",
       "prob[34,1] 9.7e-3  2.1e-5 1.7e-3 6.8e-3 8.6e-3 9.7e-3   0.01   0.01   6052    1.0\n",
       "prob[35,1]   0.12  5.2e-5 4.0e-3   0.11   0.12   0.12   0.12   0.13   5702    1.0\n",
       "prob[36,1]   0.09  6.2e-5 4.7e-3   0.08   0.08   0.09   0.09    0.1   5770    1.0\n",
       "prob[37,1]    0.1  6.1e-5 4.8e-3   0.09    0.1    0.1   0.11   0.11   6183    1.0\n",
       "prob[38,1]   0.11  5.5e-5 4.2e-3   0.11   0.11   0.11   0.12   0.12   5761    1.0\n",
       "prob[39,1]   0.02  3.1e-5 2.4e-3   0.02   0.02   0.02   0.02   0.03   5983    1.0\n",
       "prob[40,1]    0.1  5.8e-5 4.5e-3   0.09    0.1    0.1    0.1   0.11   5867    1.0\n",
       "prob[41,1]   0.05  5.3e-5 4.1e-3   0.04   0.05   0.05   0.05   0.06   6001    1.0\n",
       "prob[42,1]   0.04  5.1e-5 4.0e-3   0.03   0.04   0.04   0.04   0.05   6030    1.0\n",
       "prob[43,1]   0.07  6.1e-5 4.8e-3   0.06   0.07   0.07   0.07   0.08   6225    1.0\n",
       "prob[44,1]   0.14  3.6e-5 2.7e-3   0.14   0.14   0.14   0.15   0.15   5522    1.0\n",
       "prob[45,1]   0.11  6.0e-5 4.6e-3    0.1    0.1   0.11   0.11   0.12   5912    1.0\n",
       "prob[46,1]   0.04  5.0e-5 3.9e-3   0.03   0.04   0.04   0.04   0.05   6054    1.0\n",
       "prob[47,1]   0.15  3.2e-5 2.4e-3   0.14   0.15   0.15   0.15   0.15   5740    1.0\n",
       "prob[48,1]   0.14  3.6e-5 2.8e-3   0.14   0.14   0.14   0.15   0.15   5977    1.0\n",
       "prob[49,1]   0.11  5.6e-5 4.4e-3    0.1   0.11   0.11   0.11   0.12   6181    1.0\n",
       "prob[50,1]   0.15  3.0e-5 2.3e-3   0.14   0.15   0.15   0.15   0.15   5710    1.0\n",
       "prob[51,1]   0.06  5.2e-5 4.0e-3   0.05   0.06   0.06   0.07   0.07   5897    1.0\n",
       "prob[52,1]   0.09  6.2e-5 4.8e-3   0.08   0.08   0.09   0.09    0.1   5925    1.0\n",
       "prob[53,1]   0.13  4.9e-5 3.8e-3   0.12   0.13   0.13   0.13   0.14   5987    1.0\n",
       "prob[54,1]   0.15  2.3e-5 1.7e-3   0.15   0.15   0.15   0.15   0.16   5637    1.0\n",
       "prob[55,1]   0.09  6.3e-5 4.9e-3   0.08   0.09   0.09   0.09    0.1   5968    1.0\n",
       "prob[56,1]   0.12  5.7e-5 4.4e-3   0.11   0.11   0.12   0.12   0.12   5901    1.0\n",
       "prob[57,1]   0.03  4.2e-5 3.3e-3   0.02   0.03   0.03   0.03   0.03   6169    1.0\n",
       "prob[58,1]   0.12  5.2e-5 4.0e-3   0.12   0.12   0.12   0.13   0.13   5953    1.0\n",
       "prob[59,1]   0.06  5.8e-5 4.3e-3   0.05   0.06   0.06   0.06   0.07   5560    1.0\n",
       "prob[60,1]   0.14  3.8e-5 3.1e-3   0.13   0.14   0.14   0.14   0.15   6566    1.0\n",
       "prob[61,1]   0.12  5.4e-5 4.2e-3   0.11   0.11   0.12   0.12   0.12   5809    1.0\n",
       "prob[62,1]   0.02  3.0e-5 2.3e-3   0.01   0.02   0.02   0.02   0.02   6054    1.0\n",
       "prob[63,1]   0.09  5.8e-5 4.4e-3   0.08   0.08   0.08   0.09   0.09   5677    1.0\n",
       "prob[64,1]   0.09  6.1e-5 4.7e-3   0.08   0.08   0.09   0.09    0.1   5809    1.0\n",
       "prob[65,1]   0.02  3.0e-5 2.2e-3   0.02   0.02   0.02   0.02   0.03   5490    1.0\n",
       "prob[66,1]   0.06  6.0e-5 4.4e-3   0.05   0.05   0.06   0.06   0.06   5433    1.0\n",
       "prob[67,1]   0.14  4.4e-5 3.4e-3   0.13   0.13   0.14   0.14   0.14   5932    1.0\n",
       "prob[68,1]   0.03  3.5e-5 2.8e-3   0.02   0.02   0.03   0.03   0.03   6183    1.0\n",
       "prob[69,1]   0.06  4.9e-5 3.8e-3   0.05   0.05   0.06   0.06   0.06   5984    1.0\n",
       "prob[70,1]   0.01  2.1e-5 1.7e-3 9.7e-3   0.01   0.01   0.01   0.02   6053    1.0\n",
       "prob[71,1]    0.1  5.8e-5 4.4e-3   0.09    0.1    0.1    0.1   0.11   5827    1.0\n",
       "prob[72,1]    0.1  6.3e-5 4.7e-3   0.09    0.1    0.1   0.11   0.11   5605    1.0\n",
       "prob[73,1]   0.09  6.0e-5 4.7e-3   0.08   0.08   0.09   0.09    0.1   6193    1.0\n",
       "prob[74,1]   0.13  5.3e-5 4.0e-3   0.12   0.12   0.13   0.13   0.13   5751    1.0\n",
       "prob[75,1]   0.08  5.8e-5 4.4e-3   0.07   0.08   0.08   0.08   0.09   5860    1.0\n",
       "prob[76,1]   0.06  5.6e-5 4.4e-3   0.05   0.06   0.06   0.06   0.07   6036    1.0\n",
       "prob[77,1] 3.6e-3  9.5e-6 6.9e-4 2.4e-3 3.1e-3 3.5e-3 4.0e-3 5.1e-3   5203    1.0\n",
       "prob[78,1]   0.04  5.1e-5 3.9e-3   0.04   0.04   0.04   0.05   0.05   6030    1.0\n",
       "prob[79,1]   0.15  2.6e-5 1.9e-3   0.15   0.15   0.15   0.15   0.15   5752    1.0\n",
       "prob[80,1]   0.15  3.1e-5 2.3e-3   0.14   0.15   0.15   0.15   0.15   5411    1.0\n",
       "prob[81,1]   0.07  5.3e-5 4.0e-3   0.06   0.06   0.07   0.07   0.07   5795    1.0\n",
       "prob[82,1]   0.05  4.9e-5 3.7e-3   0.05   0.05   0.05   0.05   0.06   5585    1.0\n",
       "prob[83,1]   0.02  2.8e-5 2.0e-3   0.01   0.01   0.02   0.02   0.02   5230    1.0\n",
       "prob[84,1]   0.14  4.0e-5 3.0e-3   0.14   0.14   0.14   0.14   0.15   5801    1.0\n",
       "prob[85,1]   0.12  5.3e-5 4.1e-3   0.11   0.12   0.12   0.12   0.13   5783    1.0\n",
       "lp__        -1561    0.04    1.9  -1565  -1562  -1560  -1559  -1558   1799    1.0\n",
       "\n",
       "Samples were drawn using NUTS at Fri Jul  5 09:21:53 2019.\n",
       "For each parameter, n_eff is a crude measure of effective sample size,\n",
       "and Rhat is the potential scale reduction factor on split chains (at \n",
       "convergence, Rhat=1)."
      ]
     },
     "execution_count": 77,
     "metadata": {},
     "output_type": "execute_result"
    }
   ],
   "source": [
    "r"
   ]
  },
  {
   "cell_type": "code",
   "execution_count": 78,
   "metadata": {},
   "outputs": [
    {
     "data": {
      "text/plain": [
       "(4000, 500, 2)"
      ]
     },
     "execution_count": 78,
     "metadata": {},
     "output_type": "execute_result"
    }
   ],
   "source": [
    "r['prob'].shape"
   ]
  },
  {
   "cell_type": "code",
   "execution_count": 79,
   "metadata": {},
   "outputs": [],
   "source": [
    "renorm = r['prob'][:,:,:]/r['prob'][:,:,:].sum(axis=2)[:,:,None]"
   ]
  },
  {
   "cell_type": "code",
   "execution_count": 80,
   "metadata": {},
   "outputs": [
    {
     "data": {
      "text/plain": [
       "array([475,  25])"
      ]
     },
     "execution_count": 80,
     "metadata": {},
     "output_type": "execute_result"
    }
   ],
   "source": [
    "n"
   ]
  },
  {
   "cell_type": "code",
   "execution_count": 81,
   "metadata": {},
   "outputs": [
    {
     "data": {
      "text/plain": [
       "15"
      ]
     },
     "execution_count": 81,
     "metadata": {},
     "output_type": "execute_result"
    }
   ],
   "source": [
    "(np.mean(renorm[:,:,1], axis=0)>0.1).sum()"
   ]
  },
  {
   "cell_type": "code",
   "execution_count": 82,
   "metadata": {},
   "outputs": [
    {
     "data": {
      "image/png": "[encoded data removed]",
      "text/plain": [
       "<Figure size 432x288 with 2 Axes>"
      ]
     },
     "metadata": {
      "needs_background": "light"
     },
     "output_type": "display_data"
    }
   ],
   "source": [
    "col = plt.scatter(y.T[0], y.T[1], c=np.mean(renorm[:,:,1], axis=0))\n",
    "plt.colorbar(col);"
   ]
  },
  {
   "cell_type": "code",
   "execution_count": null,
   "metadata": {},
   "outputs": [],
   "source": []
  }
 ],
 "metadata": {
  "kernelspec": {
   "display_name": "Python 3",
   "language": "python",
   "name": "python3"
  },
  "language_info": {
   "codemirror_mode": {
    "name": "ipython",
    "version": 3
   },
   "file_extension": ".py",
   "mimetype": "text/x-python",
   "name": "python",
   "nbconvert_exporter": "python",
   "pygments_lexer": "ipython3",
   "version": "3.7.6"
  }
 },
 "nbformat": 4,
 "nbformat_minor": 4
}
